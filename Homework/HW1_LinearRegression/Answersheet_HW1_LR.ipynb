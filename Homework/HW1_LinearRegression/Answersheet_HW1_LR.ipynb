{
 "cells": [
  {
   "cell_type": "markdown",
   "id": "593c688d",
   "metadata": {},
   "source": [
    "# <img src=\"https://yt3.googleusercontent.com/iIMNCJSKjsP28DuKuXKC4kLl8kXlftKQOLapMdnyTmBQODYI0tQnmBDM4p1Xq4Ay-mD86mK4=s176-c-k-c0x00ffffff-no-rj\" alt=\"keras\" width=\"150\" height=\"150\">\n",
    "<h1 align=center><font size = 7>HW 1 : Linear Regression</font></h1>\n",
    "<h1 align=center><font size = 4>Hands-On Machine Learning | AI2YOU </font></h1>\n",
    "\n"
   ]
  },
  {
   "cell_type": "markdown",
   "id": "e1a6c29b",
   "metadata": {},
   "source": [
    "<div class=\"alert alert-info\" role=\"alert\">\n",
    "  <h1 class=\"alert-heading\">Links:</h1>\n",
    "  <a href=\"http://www.youtube.com/@AI2YOU\">YouTube</a><br>\n",
    "  <a href=\"https://www.linkedin.com/company/ai2you\">LinkedIn</a><br>\n",
    "  <a href=\"https://github.com/aminizahra/ML_AI2YOU/tree/main\">GitHub Repository</a><br>\n",
    "  <a href=\"https://zil.ink/zahraamini\">Zahra Amini</a>\n",
    "</div>"
   ]
  },
  {
   "cell_type": "markdown",
   "id": "7f4232ce",
   "metadata": {},
   "source": [
    "# Step0: Import Libraries"
   ]
  },
  {
   "cell_type": "code",
   "execution_count": null,
   "id": "c1b4a0aa",
   "metadata": {},
   "outputs": [],
   "source": [
    "#Leave the code here!"
   ]
  },
  {
   "cell_type": "markdown",
   "id": "d9eafcdd",
   "metadata": {},
   "source": [
    "# Step1: Read Data"
   ]
  },
  {
   "cell_type": "code",
   "execution_count": null,
   "id": "284f4844",
   "metadata": {},
   "outputs": [],
   "source": [
    "#Leave the code here!"
   ]
  },
  {
   "cell_type": "markdown",
   "id": "650d45ab",
   "metadata": {},
   "source": [
    "# Step2: X, y"
   ]
  },
  {
   "cell_type": "code",
   "execution_count": null,
   "id": "67dac33b",
   "metadata": {},
   "outputs": [],
   "source": [
    "#Leave the code here!"
   ]
  },
  {
   "cell_type": "markdown",
   "id": "589f734f",
   "metadata": {},
   "source": [
    "# Step3: Split Trainset and Testset (X_train, X_test, y_train, y_test)\n",
    "<hr>\n",
    "<b>from sklearn.model_selection import train_test_split</b>"
   ]
  },
  {
   "cell_type": "code",
   "execution_count": null,
   "id": "47db0597",
   "metadata": {},
   "outputs": [],
   "source": [
    "#Leave the code here!"
   ]
  },
  {
   "cell_type": "markdown",
   "id": "be60d413",
   "metadata": {},
   "source": [
    "# Step4: Data Visualization\n",
    "<hr>\n",
    "pairplot"
   ]
  },
  {
   "cell_type": "code",
   "execution_count": null,
   "id": "e924700c",
   "metadata": {},
   "outputs": [],
   "source": [
    "#Leave the code here!"
   ]
  },
  {
   "cell_type": "markdown",
   "id": "369b6bf6",
   "metadata": {},
   "source": [
    "# Step5: Create the model\n",
    "<b>linear regression</b>\n",
    "<hr>\n",
    "<b>from sklearn.linear_model import LinearRegression</b>"
   ]
  },
  {
   "cell_type": "code",
   "execution_count": null,
   "id": "243dd01c",
   "metadata": {},
   "outputs": [],
   "source": [
    "#Leave the code here!"
   ]
  },
  {
   "cell_type": "markdown",
   "id": "764e00b1",
   "metadata": {},
   "source": [
    "# Step6: Training the model"
   ]
  },
  {
   "cell_type": "code",
   "execution_count": null,
   "id": "ede60962",
   "metadata": {},
   "outputs": [],
   "source": [
    "#Leave the code here!"
   ]
  },
  {
   "cell_type": "markdown",
   "id": "8ae6856e",
   "metadata": {},
   "source": [
    "### Coefficients"
   ]
  },
  {
   "cell_type": "code",
   "execution_count": null,
   "id": "d6c1dd5f",
   "metadata": {},
   "outputs": [],
   "source": [
    "#Leave the code here!"
   ]
  },
  {
   "cell_type": "markdown",
   "id": "f0678511",
   "metadata": {},
   "source": [
    "### intercept"
   ]
  },
  {
   "cell_type": "code",
   "execution_count": null,
   "id": "586d8ab7",
   "metadata": {},
   "outputs": [],
   "source": [
    "#Leave the code here!"
   ]
  },
  {
   "cell_type": "markdown",
   "id": "f3eaf061",
   "metadata": {},
   "source": [
    "# Step7: Predicting Test Data"
   ]
  },
  {
   "cell_type": "code",
   "execution_count": null,
   "id": "d8e0b122",
   "metadata": {},
   "outputs": [],
   "source": [
    "#Leave the code here!"
   ]
  },
  {
   "cell_type": "markdown",
   "id": "5a65ef03",
   "metadata": {},
   "source": [
    "# Step8: Evalutaing the Model\n",
    "<hr>\n",
    "<br>from sklearn import metrics</br>"
   ]
  },
  {
   "cell_type": "markdown",
   "id": "616e32b2",
   "metadata": {},
   "source": [
    "### MAE"
   ]
  },
  {
   "cell_type": "code",
   "execution_count": null,
   "id": "93131c9b",
   "metadata": {},
   "outputs": [],
   "source": [
    "#Leave the code here!"
   ]
  },
  {
   "cell_type": "markdown",
   "id": "7304dbbb",
   "metadata": {},
   "source": [
    "### MSE"
   ]
  },
  {
   "cell_type": "code",
   "execution_count": null,
   "id": "ae5372d9",
   "metadata": {},
   "outputs": [],
   "source": [
    "#Leave the code here!"
   ]
  },
  {
   "cell_type": "markdown",
   "id": "f597893f",
   "metadata": {},
   "source": [
    "### RMSE"
   ]
  },
  {
   "cell_type": "code",
   "execution_count": null,
   "id": "6e429861",
   "metadata": {},
   "outputs": [],
   "source": [
    "#Leave the code here!"
   ]
  },
  {
   "cell_type": "markdown",
   "id": "51b969bb",
   "metadata": {},
   "source": [
    "### Creat a DataFrame\n",
    "<hr>\n",
    "<b>MAE, MSE, RMSE</b>"
   ]
  },
  {
   "cell_type": "code",
   "execution_count": null,
   "id": "217ba594",
   "metadata": {},
   "outputs": [],
   "source": [
    "#Leave the code here!"
   ]
  },
  {
   "cell_type": "markdown",
   "id": "049bb4fc",
   "metadata": {},
   "source": [
    "<div class=\"alert alert-success\" role=\"alert\">\n",
    "  <h1 class=\"alert-heading\">Well done!</h1>\n",
    "  <p>Best Wishes!, AI2YOU</p>\n",
    "</div>"
   ]
  }
 ],
 "metadata": {
  "kernelspec": {
   "display_name": "Python 3 (ipykernel)",
   "language": "python",
   "name": "python3"
  },
  "language_info": {
   "codemirror_mode": {
    "name": "ipython",
    "version": 3
   },
   "file_extension": ".py",
   "mimetype": "text/x-python",
   "name": "python",
   "nbconvert_exporter": "python",
   "pygments_lexer": "ipython3",
   "version": "3.11.4"
  }
 },
 "nbformat": 4,
 "nbformat_minor": 5
}
