{
 "cells": [
  {
   "cell_type": "markdown",
   "id": "ffd33b40",
   "metadata": {},
   "source": [
    "# <img src=\"https://yt3.googleusercontent.com/iIMNCJSKjsP28DuKuXKC4kLl8kXlftKQOLapMdnyTmBQODYI0tQnmBDM4p1Xq4Ay-mD86mK4=s176-c-k-c0x00ffffff-no-rj\" width=\"150\" height=\"150\">\n",
    "<h1 align=center><font size = 7>HW 2 : Logistic Regression </font></h1>\n",
    "<h1 align=center><font size = 4>Hands-On Machine Learning | AI2YOU </font></h1>\n",
    "\n"
   ]
  },
  {
   "cell_type": "markdown",
   "id": "b753bf41",
   "metadata": {},
   "source": [
    "<div class=\"alert alert-info\" role=\"alert\">\n",
    "  <h1 class=\"alert-heading\">Links:</h1>\n",
    "  <a href=\"http://www.youtube.com/@AI2YOU\">YouTube</a><br>\n",
    "  <a href=\"https://www.linkedin.com/company/ai2you\">LinkedIn</a><br>\n",
    "  <a href=\"https://github.com/aminizahra/ML_AI2YOU/tree/main\">GitHub Repository</a><br>\n",
    "  <a href=\"https://zil.ink/zahraamini\">Zahra Amini</a>\n",
    "</div>"
   ]
  },
  {
   "cell_type": "markdown",
   "id": "e532b511",
   "metadata": {},
   "source": [
    "# Step0: Import Libraries"
   ]
  },
  {
   "cell_type": "code",
   "execution_count": 1,
   "id": "33229694",
   "metadata": {},
   "outputs": [],
   "source": []
  },
  {
   "cell_type": "markdown",
   "id": "0aeff1a6",
   "metadata": {},
   "source": [
    "# Step1: Read Data"
   ]
  },
  {
   "cell_type": "code",
   "execution_count": null,
   "id": "b04ed4fd",
   "metadata": {},
   "outputs": [],
   "source": []
  },
  {
   "cell_type": "markdown",
   "id": "78d2098f",
   "metadata": {},
   "source": [
    "# Step2: Data Overview"
   ]
  },
  {
   "cell_type": "code",
   "execution_count": null,
   "id": "4b54e40a",
   "metadata": {},
   "outputs": [],
   "source": []
  },
  {
   "cell_type": "markdown",
   "id": "1d61a5f6",
   "metadata": {},
   "source": [
    "# Step3: Data Preprocessing"
   ]
  },
  {
   "cell_type": "code",
   "execution_count": null,
   "id": "c4d749cf",
   "metadata": {},
   "outputs": [],
   "source": []
  },
  {
   "cell_type": "markdown",
   "id": "bc6969be",
   "metadata": {},
   "source": [
    "# Step4: X, y"
   ]
  },
  {
   "cell_type": "code",
   "execution_count": null,
   "id": "1e341000",
   "metadata": {},
   "outputs": [],
   "source": []
  },
  {
   "cell_type": "markdown",
   "id": "a49062cb",
   "metadata": {},
   "source": [
    "# Step5: Logistic Regression"
   ]
  },
  {
   "cell_type": "markdown",
   "id": "34f29f87",
   "metadata": {},
   "source": [
    "## train_test_split"
   ]
  },
  {
   "cell_type": "code",
   "execution_count": null,
   "id": "410070f0",
   "metadata": {},
   "outputs": [],
   "source": []
  },
  {
   "cell_type": "markdown",
   "id": "3c158756",
   "metadata": {},
   "source": [
    "## Creat the Model"
   ]
  },
  {
   "cell_type": "code",
   "execution_count": null,
   "id": "660260a6",
   "metadata": {},
   "outputs": [],
   "source": []
  },
  {
   "cell_type": "markdown",
   "id": "9c3189b2",
   "metadata": {},
   "source": [
    "## Train the Model"
   ]
  },
  {
   "cell_type": "code",
   "execution_count": null,
   "id": "9a877438",
   "metadata": {},
   "outputs": [],
   "source": []
  },
  {
   "cell_type": "markdown",
   "id": "db0aa21b",
   "metadata": {},
   "source": [
    "## Print Coefficient"
   ]
  },
  {
   "cell_type": "code",
   "execution_count": null,
   "id": "9101a675",
   "metadata": {},
   "outputs": [],
   "source": []
  },
  {
   "cell_type": "markdown",
   "id": "ed1710d5",
   "metadata": {},
   "source": [
    "##  Prediction & Evaluation\n",
    "<hr>\n",
    "print classification report"
   ]
  },
  {
   "cell_type": "code",
   "execution_count": null,
   "id": "0b22e0a6",
   "metadata": {},
   "outputs": [],
   "source": []
  },
  {
   "cell_type": "markdown",
   "id": "8f6bf3c8",
   "metadata": {},
   "source": [
    "<div class=\"alert alert-success\" role=\"alert\">\n",
    "  <h1 class=\"alert-heading\">Well done!</h1>\n",
    "  <p>Best Wishes!, AI2YOU</p>\n",
    "</div>"
   ]
  }
 ],
 "metadata": {
  "kernelspec": {
   "display_name": "Python 3 (ipykernel)",
   "language": "python",
   "name": "python3"
  },
  "language_info": {
   "codemirror_mode": {
    "name": "ipython",
    "version": 3
   },
   "file_extension": ".py",
   "mimetype": "text/x-python",
   "name": "python",
   "nbconvert_exporter": "python",
   "pygments_lexer": "ipython3",
   "version": "3.11.4"
  }
 },
 "nbformat": 4,
 "nbformat_minor": 5
}
