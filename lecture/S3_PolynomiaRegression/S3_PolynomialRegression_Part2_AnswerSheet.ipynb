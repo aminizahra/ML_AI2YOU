{
 "cells": [
  {
   "cell_type": "markdown",
   "id": "d8d13c3d",
   "metadata": {},
   "source": [
    "<h1 align=\"center\">Hands-On Machine Learning | AI2YOU</font></h1>\n",
    "<br>\n",
    "<p style=\"text-align: center;align:center\"><font size = 5>Polynomial Regression</font></p>\n",
    "<h3 align=\"center\">Zahra Amini</h3>\n",
    "<br>\n",
    "<br>\n",
    "<br>\n",
    "<br>\n",
    "<br>"
   ]
  },
  {
   "cell_type": "markdown",
   "id": "305d70f0",
   "metadata": {},
   "source": [
    "# Step0: Import Libraries"
   ]
  },
  {
   "cell_type": "code",
   "execution_count": 1,
   "id": "e4959889",
   "metadata": {},
   "outputs": [],
   "source": [
    "import numpy as np\n",
    "import pandas as pd\n",
    "import matplotlib.pyplot as plt\n",
    "import seaborn as sns\n",
    "%matplotlib inline"
   ]
  },
  {
   "cell_type": "code",
   "execution_count": 2,
   "id": "d42ee564",
   "metadata": {},
   "outputs": [],
   "source": [
    "from sklearn.preprocessing import PolynomialFeatures"
   ]
  },
  {
   "cell_type": "code",
   "execution_count": 3,
   "id": "a3d5e63f",
   "metadata": {},
   "outputs": [],
   "source": [
    "from sklearn.model_selection import train_test_split"
   ]
  },
  {
   "cell_type": "code",
   "execution_count": 4,
   "id": "db30cbc7",
   "metadata": {},
   "outputs": [],
   "source": [
    "from sklearn.linear_model import LinearRegression"
   ]
  },
  {
   "cell_type": "code",
   "execution_count": 5,
   "id": "e18a977a",
   "metadata": {},
   "outputs": [],
   "source": [
    "from sklearn import metrics"
   ]
  },
  {
   "cell_type": "markdown",
   "id": "78d9b2c6",
   "metadata": {},
   "source": [
    "# Step1: Read Data"
   ]
  },
  {
   "cell_type": "markdown",
   "id": "6835bea5",
   "metadata": {},
   "source": [
    "The Boston house-price data\n",
    "\n",
    " Variables in order:\n",
    " \n",
    " <b>CRIM: </b>     per capita crime rate by town\n",
    " \n",
    " <b>ZN: </b>       proportion of residential land zoned for lots over 25,000 sq.ft.\n",
    " \n",
    " <b>INDUS: </b>    proportion of non-retail business acres per town\n",
    " \n",
    " <b>CHAS: </b>     Charles River dummy variable (= 1 if tract bounds river; 0 otherwise)\n",
    " \n",
    " <b>NOX: </b>      nitric oxides concentration (parts per 10 million)\n",
    " \n",
    " <b>RM: </b>       average number of rooms per dwelling\n",
    " \n",
    " <b>AGE: </b>      proportion of owner-occupied units built prior to 1940\n",
    " \n",
    " <b>DIS: </b>      weighted distances to five Boston employment centres\n",
    " \n",
    " <b>RAD: </b>      index of accessibility to radial highways\n",
    " \n",
    " <b>TAX: </b>      full-value property-tax rate per 10,000\n",
    " \n",
    " <b>PTRATIO: </b>  pupil-teacher ratio by town\n",
    " \n",
    " <b>B: </b>        1000(Bk - 0.63)^2 where Bk is the proportion of blacks by town\n",
    " \n",
    " <b>LSTAT: </b>    % lower status of the population\n",
    " \n",
    " <b>MEDV: </b>     Median value of owner-occupied homes in 1000's"
   ]
  },
  {
   "cell_type": "code",
   "execution_count": 6,
   "id": "f0353cab",
   "metadata": {},
   "outputs": [],
   "source": [
    "column_names = ['CRIM', 'ZN', 'INDUS', 'CHAS', 'NOX', 'RM', 'AGE', 'DIS', 'RAD', 'TAX', 'PTRATIO', 'B', 'LSTAT', 'Price']\n",
    "df = pd.read_csv('Boston_house_price.csv', delimiter=\"\\s+\", names=column_names)"
   ]
  },
  {
   "cell_type": "code",
   "execution_count": 7,
   "id": "c185e1bd",
   "metadata": {},
   "outputs": [
    {
     "data": {
      "text/html": [
       "<div>\n",
       "<style scoped>\n",
       "    .dataframe tbody tr th:only-of-type {\n",
       "        vertical-align: middle;\n",
       "    }\n",
       "\n",
       "    .dataframe tbody tr th {\n",
       "        vertical-align: top;\n",
       "    }\n",
       "\n",
       "    .dataframe thead th {\n",
       "        text-align: right;\n",
       "    }\n",
       "</style>\n",
       "<table border=\"1\" class=\"dataframe\">\n",
       "  <thead>\n",
       "    <tr style=\"text-align: right;\">\n",
       "      <th></th>\n",
       "      <th>CRIM</th>\n",
       "      <th>ZN</th>\n",
       "      <th>INDUS</th>\n",
       "      <th>CHAS</th>\n",
       "      <th>NOX</th>\n",
       "      <th>RM</th>\n",
       "      <th>AGE</th>\n",
       "      <th>DIS</th>\n",
       "      <th>RAD</th>\n",
       "      <th>TAX</th>\n",
       "      <th>PTRATIO</th>\n",
       "      <th>B</th>\n",
       "      <th>LSTAT</th>\n",
       "      <th>Price</th>\n",
       "    </tr>\n",
       "  </thead>\n",
       "  <tbody>\n",
       "    <tr>\n",
       "      <th>0</th>\n",
       "      <td>0.00632</td>\n",
       "      <td>18.0</td>\n",
       "      <td>2.31</td>\n",
       "      <td>0</td>\n",
       "      <td>0.538</td>\n",
       "      <td>6.575</td>\n",
       "      <td>65.2</td>\n",
       "      <td>4.0900</td>\n",
       "      <td>1</td>\n",
       "      <td>296.0</td>\n",
       "      <td>15.3</td>\n",
       "      <td>396.90</td>\n",
       "      <td>4.98</td>\n",
       "      <td>24.0</td>\n",
       "    </tr>\n",
       "    <tr>\n",
       "      <th>1</th>\n",
       "      <td>0.02731</td>\n",
       "      <td>0.0</td>\n",
       "      <td>7.07</td>\n",
       "      <td>0</td>\n",
       "      <td>0.469</td>\n",
       "      <td>6.421</td>\n",
       "      <td>78.9</td>\n",
       "      <td>4.9671</td>\n",
       "      <td>2</td>\n",
       "      <td>242.0</td>\n",
       "      <td>17.8</td>\n",
       "      <td>396.90</td>\n",
       "      <td>9.14</td>\n",
       "      <td>21.6</td>\n",
       "    </tr>\n",
       "    <tr>\n",
       "      <th>2</th>\n",
       "      <td>0.02729</td>\n",
       "      <td>0.0</td>\n",
       "      <td>7.07</td>\n",
       "      <td>0</td>\n",
       "      <td>0.469</td>\n",
       "      <td>7.185</td>\n",
       "      <td>61.1</td>\n",
       "      <td>4.9671</td>\n",
       "      <td>2</td>\n",
       "      <td>242.0</td>\n",
       "      <td>17.8</td>\n",
       "      <td>392.83</td>\n",
       "      <td>4.03</td>\n",
       "      <td>34.7</td>\n",
       "    </tr>\n",
       "    <tr>\n",
       "      <th>3</th>\n",
       "      <td>0.03237</td>\n",
       "      <td>0.0</td>\n",
       "      <td>2.18</td>\n",
       "      <td>0</td>\n",
       "      <td>0.458</td>\n",
       "      <td>6.998</td>\n",
       "      <td>45.8</td>\n",
       "      <td>6.0622</td>\n",
       "      <td>3</td>\n",
       "      <td>222.0</td>\n",
       "      <td>18.7</td>\n",
       "      <td>394.63</td>\n",
       "      <td>2.94</td>\n",
       "      <td>33.4</td>\n",
       "    </tr>\n",
       "    <tr>\n",
       "      <th>4</th>\n",
       "      <td>0.06905</td>\n",
       "      <td>0.0</td>\n",
       "      <td>2.18</td>\n",
       "      <td>0</td>\n",
       "      <td>0.458</td>\n",
       "      <td>7.147</td>\n",
       "      <td>54.2</td>\n",
       "      <td>6.0622</td>\n",
       "      <td>3</td>\n",
       "      <td>222.0</td>\n",
       "      <td>18.7</td>\n",
       "      <td>396.90</td>\n",
       "      <td>5.33</td>\n",
       "      <td>36.2</td>\n",
       "    </tr>\n",
       "  </tbody>\n",
       "</table>\n",
       "</div>"
      ],
      "text/plain": [
       "      CRIM    ZN  INDUS  CHAS    NOX     RM   AGE     DIS  RAD    TAX  \\\n",
       "0  0.00632  18.0   2.31     0  0.538  6.575  65.2  4.0900    1  296.0   \n",
       "1  0.02731   0.0   7.07     0  0.469  6.421  78.9  4.9671    2  242.0   \n",
       "2  0.02729   0.0   7.07     0  0.469  7.185  61.1  4.9671    2  242.0   \n",
       "3  0.03237   0.0   2.18     0  0.458  6.998  45.8  6.0622    3  222.0   \n",
       "4  0.06905   0.0   2.18     0  0.458  7.147  54.2  6.0622    3  222.0   \n",
       "\n",
       "   PTRATIO       B  LSTAT  Price  \n",
       "0     15.3  396.90   4.98   24.0  \n",
       "1     17.8  396.90   9.14   21.6  \n",
       "2     17.8  392.83   4.03   34.7  \n",
       "3     18.7  394.63   2.94   33.4  \n",
       "4     18.7  396.90   5.33   36.2  "
      ]
     },
     "execution_count": 7,
     "metadata": {},
     "output_type": "execute_result"
    }
   ],
   "source": [
    "df.head()"
   ]
  },
  {
   "cell_type": "code",
   "execution_count": 8,
   "id": "21c634b4",
   "metadata": {},
   "outputs": [
    {
     "name": "stdout",
     "output_type": "stream",
     "text": [
      "<class 'pandas.core.frame.DataFrame'>\n",
      "RangeIndex: 506 entries, 0 to 505\n",
      "Data columns (total 14 columns):\n",
      " #   Column   Non-Null Count  Dtype  \n",
      "---  ------   --------------  -----  \n",
      " 0   CRIM     506 non-null    float64\n",
      " 1   ZN       506 non-null    float64\n",
      " 2   INDUS    506 non-null    float64\n",
      " 3   CHAS     506 non-null    int64  \n",
      " 4   NOX      506 non-null    float64\n",
      " 5   RM       506 non-null    float64\n",
      " 6   AGE      506 non-null    float64\n",
      " 7   DIS      506 non-null    float64\n",
      " 8   RAD      506 non-null    int64  \n",
      " 9   TAX      506 non-null    float64\n",
      " 10  PTRATIO  506 non-null    float64\n",
      " 11  B        506 non-null    float64\n",
      " 12  LSTAT    506 non-null    float64\n",
      " 13  Price    506 non-null    float64\n",
      "dtypes: float64(12), int64(2)\n",
      "memory usage: 55.5 KB\n"
     ]
    }
   ],
   "source": [
    "df.info()"
   ]
  },
  {
   "cell_type": "markdown",
   "id": "bb658bec",
   "metadata": {},
   "source": [
    "# Step2: X, y"
   ]
  },
  {
   "cell_type": "code",
   "execution_count": 9,
   "id": "21d35cbd",
   "metadata": {},
   "outputs": [],
   "source": [
    "X = df.drop('Price', axis=1)\n",
    "\n",
    "y = df['Price']"
   ]
  },
  {
   "cell_type": "code",
   "execution_count": 10,
   "id": "6356d5d7",
   "metadata": {},
   "outputs": [
    {
     "data": {
      "text/plain": [
       "(506, 13)"
      ]
     },
     "execution_count": 10,
     "metadata": {},
     "output_type": "execute_result"
    }
   ],
   "source": [
    "X.shape"
   ]
  },
  {
   "cell_type": "code",
   "execution_count": 11,
   "id": "72ac6aad",
   "metadata": {},
   "outputs": [
    {
     "data": {
      "text/plain": [
       "(506,)"
      ]
     },
     "execution_count": 11,
     "metadata": {},
     "output_type": "execute_result"
    }
   ],
   "source": [
    "y.shape"
   ]
  },
  {
   "cell_type": "markdown",
   "id": "c0cd5359",
   "metadata": {},
   "source": [
    "# Step3: Linear Regression"
   ]
  },
  {
   "cell_type": "markdown",
   "id": "43ffa04d",
   "metadata": {},
   "source": [
    "### train_test_split"
   ]
  },
  {
   "cell_type": "code",
   "execution_count": 12,
   "id": "14f3d447",
   "metadata": {},
   "outputs": [],
   "source": [
    "X_train, X_test, y_train, y_test = train_test_split(X, y, test_size=0.3, random_state=101)"
   ]
  },
  {
   "cell_type": "code",
   "execution_count": 13,
   "id": "878598d8",
   "metadata": {},
   "outputs": [
    {
     "data": {
      "text/plain": [
       "(354, 13)"
      ]
     },
     "execution_count": 13,
     "metadata": {},
     "output_type": "execute_result"
    }
   ],
   "source": [
    "X_train.shape"
   ]
  },
  {
   "cell_type": "code",
   "execution_count": 14,
   "id": "5d23d038",
   "metadata": {},
   "outputs": [
    {
     "data": {
      "text/plain": [
       "(152, 13)"
      ]
     },
     "execution_count": 14,
     "metadata": {},
     "output_type": "execute_result"
    }
   ],
   "source": [
    "X_test.shape"
   ]
  },
  {
   "cell_type": "markdown",
   "id": "22f9df24",
   "metadata": {},
   "source": [
    "### Creat the Model"
   ]
  },
  {
   "cell_type": "code",
   "execution_count": 15,
   "id": "cc3f2679",
   "metadata": {},
   "outputs": [],
   "source": [
    "LR = LinearRegression()"
   ]
  },
  {
   "cell_type": "markdown",
   "id": "5d4a2952",
   "metadata": {},
   "source": [
    "### Train the Model"
   ]
  },
  {
   "cell_type": "code",
   "execution_count": 16,
   "id": "24f983ee",
   "metadata": {},
   "outputs": [
    {
     "data": {
      "text/html": [
       "<style>#sk-container-id-1 {color: black;}#sk-container-id-1 pre{padding: 0;}#sk-container-id-1 div.sk-toggleable {background-color: white;}#sk-container-id-1 label.sk-toggleable__label {cursor: pointer;display: block;width: 100%;margin-bottom: 0;padding: 0.3em;box-sizing: border-box;text-align: center;}#sk-container-id-1 label.sk-toggleable__label-arrow:before {content: \"▸\";float: left;margin-right: 0.25em;color: #696969;}#sk-container-id-1 label.sk-toggleable__label-arrow:hover:before {color: black;}#sk-container-id-1 div.sk-estimator:hover label.sk-toggleable__label-arrow:before {color: black;}#sk-container-id-1 div.sk-toggleable__content {max-height: 0;max-width: 0;overflow: hidden;text-align: left;background-color: #f0f8ff;}#sk-container-id-1 div.sk-toggleable__content pre {margin: 0.2em;color: black;border-radius: 0.25em;background-color: #f0f8ff;}#sk-container-id-1 input.sk-toggleable__control:checked~div.sk-toggleable__content {max-height: 200px;max-width: 100%;overflow: auto;}#sk-container-id-1 input.sk-toggleable__control:checked~label.sk-toggleable__label-arrow:before {content: \"▾\";}#sk-container-id-1 div.sk-estimator input.sk-toggleable__control:checked~label.sk-toggleable__label {background-color: #d4ebff;}#sk-container-id-1 div.sk-label input.sk-toggleable__control:checked~label.sk-toggleable__label {background-color: #d4ebff;}#sk-container-id-1 input.sk-hidden--visually {border: 0;clip: rect(1px 1px 1px 1px);clip: rect(1px, 1px, 1px, 1px);height: 1px;margin: -1px;overflow: hidden;padding: 0;position: absolute;width: 1px;}#sk-container-id-1 div.sk-estimator {font-family: monospace;background-color: #f0f8ff;border: 1px dotted black;border-radius: 0.25em;box-sizing: border-box;margin-bottom: 0.5em;}#sk-container-id-1 div.sk-estimator:hover {background-color: #d4ebff;}#sk-container-id-1 div.sk-parallel-item::after {content: \"\";width: 100%;border-bottom: 1px solid gray;flex-grow: 1;}#sk-container-id-1 div.sk-label:hover label.sk-toggleable__label {background-color: #d4ebff;}#sk-container-id-1 div.sk-serial::before {content: \"\";position: absolute;border-left: 1px solid gray;box-sizing: border-box;top: 0;bottom: 0;left: 50%;z-index: 0;}#sk-container-id-1 div.sk-serial {display: flex;flex-direction: column;align-items: center;background-color: white;padding-right: 0.2em;padding-left: 0.2em;position: relative;}#sk-container-id-1 div.sk-item {position: relative;z-index: 1;}#sk-container-id-1 div.sk-parallel {display: flex;align-items: stretch;justify-content: center;background-color: white;position: relative;}#sk-container-id-1 div.sk-item::before, #sk-container-id-1 div.sk-parallel-item::before {content: \"\";position: absolute;border-left: 1px solid gray;box-sizing: border-box;top: 0;bottom: 0;left: 50%;z-index: -1;}#sk-container-id-1 div.sk-parallel-item {display: flex;flex-direction: column;z-index: 1;position: relative;background-color: white;}#sk-container-id-1 div.sk-parallel-item:first-child::after {align-self: flex-end;width: 50%;}#sk-container-id-1 div.sk-parallel-item:last-child::after {align-self: flex-start;width: 50%;}#sk-container-id-1 div.sk-parallel-item:only-child::after {width: 0;}#sk-container-id-1 div.sk-dashed-wrapped {border: 1px dashed gray;margin: 0 0.4em 0.5em 0.4em;box-sizing: border-box;padding-bottom: 0.4em;background-color: white;}#sk-container-id-1 div.sk-label label {font-family: monospace;font-weight: bold;display: inline-block;line-height: 1.2em;}#sk-container-id-1 div.sk-label-container {text-align: center;}#sk-container-id-1 div.sk-container {/* jupyter's `normalize.less` sets `[hidden] { display: none; }` but bootstrap.min.css set `[hidden] { display: none !important; }` so we also need the `!important` here to be able to override the default hidden behavior on the sphinx rendered scikit-learn.org. See: https://github.com/scikit-learn/scikit-learn/issues/21755 */display: inline-block !important;position: relative;}#sk-container-id-1 div.sk-text-repr-fallback {display: none;}</style><div id=\"sk-container-id-1\" class=\"sk-top-container\"><div class=\"sk-text-repr-fallback\"><pre>LinearRegression()</pre><b>In a Jupyter environment, please rerun this cell to show the HTML representation or trust the notebook. <br />On GitHub, the HTML representation is unable to render, please try loading this page with nbviewer.org.</b></div><div class=\"sk-container\" hidden><div class=\"sk-item\"><div class=\"sk-estimator sk-toggleable\"><input class=\"sk-toggleable__control sk-hidden--visually\" id=\"sk-estimator-id-1\" type=\"checkbox\" checked><label for=\"sk-estimator-id-1\" class=\"sk-toggleable__label sk-toggleable__label-arrow\">LinearRegression</label><div class=\"sk-toggleable__content\"><pre>LinearRegression()</pre></div></div></div></div></div>"
      ],
      "text/plain": [
       "LinearRegression()"
      ]
     },
     "execution_count": 16,
     "metadata": {},
     "output_type": "execute_result"
    }
   ],
   "source": [
    "LR.fit(X_train, y_train)"
   ]
  },
  {
   "cell_type": "code",
   "execution_count": 17,
   "id": "9708fbbd",
   "metadata": {},
   "outputs": [
    {
     "data": {
      "text/plain": [
       "array([-8.85049752e-02,  5.02928536e-02,  2.03483110e-02,  3.75427054e+00,\n",
       "       -1.77483714e+01,  3.24776492e+00,  1.20008182e-02, -1.40916141e+00,\n",
       "        2.63880691e-01, -1.03440009e-02, -9.51780874e-01,  6.11600491e-03,\n",
       "       -5.97133217e-01])"
      ]
     },
     "execution_count": 17,
     "metadata": {},
     "output_type": "execute_result"
    }
   ],
   "source": [
    "LR.coef_"
   ]
  },
  {
   "cell_type": "code",
   "execution_count": 18,
   "id": "fa95513c",
   "metadata": {},
   "outputs": [
    {
     "data": {
      "text/plain": [
       "40.21892901255072"
      ]
     },
     "execution_count": 18,
     "metadata": {},
     "output_type": "execute_result"
    }
   ],
   "source": [
    "LR.intercept_"
   ]
  },
  {
   "cell_type": "markdown",
   "id": "7b5e2e45",
   "metadata": {},
   "source": [
    "###  Prediction & Evaluation"
   ]
  },
  {
   "cell_type": "code",
   "execution_count": 19,
   "id": "19a71c24",
   "metadata": {},
   "outputs": [],
   "source": [
    "y_pred = LR.predict(X_test)"
   ]
  },
  {
   "cell_type": "code",
   "execution_count": 20,
   "id": "cefd76c3",
   "metadata": {},
   "outputs": [
    {
     "data": {
      "text/plain": [
       "array([40.11113508, 27.38971873, 16.64700435, 16.98475572, 31.12920137,\n",
       "       32.17489772, 38.5534506 ,  8.16734819, 33.48547457,  7.21877263,\n",
       "       30.45404514, 13.44085219, 16.25354375, 17.34359227, 25.1543491 ,\n",
       "       20.44171457,  7.30340549, 33.13892161, 28.41293108, 24.58522513,\n",
       "       12.44673568, 20.25489284, 22.48601345, 24.42119495, 33.92740928,\n",
       "       18.63104614, 32.32820984, 18.67352155, 27.36115374, 34.46174375,\n",
       "       19.84089751, 18.40373436, 37.15821555, 44.94610923, 30.27513579,\n",
       "       22.00760066, 16.0127978 , 18.16328402,  4.33298095, 30.93867591,\n",
       "       24.15262229, 17.17277775, 34.10334259, 13.89433899, 17.46893797,\n",
       "       25.30893285, 30.35309561, 16.10339452, 26.91513852, 22.98227547,\n",
       "       32.14815603, 37.34454946, 22.90074019, 17.56894548, 30.18430234,\n",
       "        0.10360753, 20.22573888, 16.82248142, 23.15487984, 21.16760077,\n",
       "       30.5734497 ,  3.15502223, 15.92340596, 20.06361892, 10.43608925,\n",
       "       24.28745773, 24.00445196, 19.86245393, 17.63614975, 19.44871423,\n",
       "       23.81075322, 21.16261396, 23.47439589, 19.98453898, 27.05134381,\n",
       "       21.84066905, 36.80150664,  8.16676015, 28.70036278, 17.12188494,\n",
       "       15.50979745, 19.294246  , 30.15336215, 17.37264235, 10.73425764,\n",
       "       21.52916918, 21.69200241, 33.12540671, 22.30189309, 21.94929448,\n",
       "       12.85610293, 11.57605846, 22.66292798, 33.65426492,  6.08353957,\n",
       "       34.76875886,  7.95929671, 31.90690271,  8.7752099 , 20.72989525,\n",
       "       32.72047022, 21.34319049, 27.16332024, 24.1623896 , 22.68986244,\n",
       "       25.17800744, 24.52779596, 30.66139018, 37.3362994 , 33.2147882 ,\n",
       "       23.21825086, 36.13381973, 23.89682341, 22.07728572, 30.06489707,\n",
       "       27.24105283, 29.31188864, 31.45057926, 26.74107102, 29.58735987,\n",
       "       16.90021886, 20.60029568, 21.96586941, 36.77042006, 25.24859328,\n",
       "       23.08568697, 15.32758657,  5.918702  , 14.80932341, 23.67342037,\n",
       "       26.74592331, 34.09978093, 23.93815977, 19.9868425 , 24.73687974,\n",
       "       26.10434151, 30.71721237, 26.62262586, 34.1263333 , 22.67915823,\n",
       "       13.13096496, 36.60828941, 32.25783559, 15.89281425, 24.785974  ,\n",
       "       19.32107821, 19.5968184 , 24.52106619, 26.34621695, 29.83423805,\n",
       "       16.69898193, 16.61243821])"
      ]
     },
     "execution_count": 20,
     "metadata": {},
     "output_type": "execute_result"
    }
   ],
   "source": [
    "y_pred"
   ]
  },
  {
   "cell_type": "code",
   "execution_count": 21,
   "id": "ed901733",
   "metadata": {},
   "outputs": [
    {
     "data": {
      "text/plain": [
       "3.835696361418935"
      ]
     },
     "execution_count": 21,
     "metadata": {},
     "output_type": "execute_result"
    }
   ],
   "source": [
    "MAE_LR = metrics.mean_absolute_error(y_test, y_pred)\n",
    "\n",
    "MAE_LR"
   ]
  },
  {
   "cell_type": "code",
   "execution_count": 22,
   "id": "1dd2188e",
   "metadata": {},
   "outputs": [],
   "source": [
    "MSE_LR = metrics.mean_squared_error(y_test, y_pred)"
   ]
  },
  {
   "cell_type": "code",
   "execution_count": 23,
   "id": "2cb95478",
   "metadata": {},
   "outputs": [],
   "source": [
    "RMSE_LR = np.sqrt(MSE_LR)"
   ]
  },
  {
   "cell_type": "code",
   "execution_count": 24,
   "id": "0fffbcb6",
   "metadata": {},
   "outputs": [],
   "source": [
    "Error_LR = pd.DataFrame([MAE_LR, MSE_LR, RMSE_LR], index=['MAE', 'MSE', 'RMSE'], columns=['LR'])"
   ]
  },
  {
   "cell_type": "code",
   "execution_count": 25,
   "id": "72ff861b",
   "metadata": {},
   "outputs": [
    {
     "data": {
      "text/html": [
       "<div>\n",
       "<style scoped>\n",
       "    .dataframe tbody tr th:only-of-type {\n",
       "        vertical-align: middle;\n",
       "    }\n",
       "\n",
       "    .dataframe tbody tr th {\n",
       "        vertical-align: top;\n",
       "    }\n",
       "\n",
       "    .dataframe thead th {\n",
       "        text-align: right;\n",
       "    }\n",
       "</style>\n",
       "<table border=\"1\" class=\"dataframe\">\n",
       "  <thead>\n",
       "    <tr style=\"text-align: right;\">\n",
       "      <th></th>\n",
       "      <th>LR</th>\n",
       "    </tr>\n",
       "  </thead>\n",
       "  <tbody>\n",
       "    <tr>\n",
       "      <th>MAE</th>\n",
       "      <td>3.835696</td>\n",
       "    </tr>\n",
       "    <tr>\n",
       "      <th>MSE</th>\n",
       "      <td>28.547585</td>\n",
       "    </tr>\n",
       "    <tr>\n",
       "      <th>RMSE</th>\n",
       "      <td>5.342994</td>\n",
       "    </tr>\n",
       "  </tbody>\n",
       "</table>\n",
       "</div>"
      ],
      "text/plain": [
       "             LR\n",
       "MAE    3.835696\n",
       "MSE   28.547585\n",
       "RMSE   5.342994"
      ]
     },
     "execution_count": 25,
     "metadata": {},
     "output_type": "execute_result"
    }
   ],
   "source": [
    "Error_LR"
   ]
  },
  {
   "cell_type": "markdown",
   "id": "f3c7f08a",
   "metadata": {},
   "source": [
    "# Step4: PolynomialFeatures"
   ]
  },
  {
   "cell_type": "code",
   "execution_count": 26,
   "id": "f6a904fe",
   "metadata": {},
   "outputs": [],
   "source": [
    "poly = PolynomialFeatures(degree=2, include_bias=True)"
   ]
  },
  {
   "cell_type": "code",
   "execution_count": 27,
   "id": "8f9d6c53",
   "metadata": {},
   "outputs": [],
   "source": [
    "poly_x = poly.fit_transform(X)"
   ]
  },
  {
   "cell_type": "code",
   "execution_count": 28,
   "id": "2cc30d34",
   "metadata": {},
   "outputs": [],
   "source": [
    "# poly_x"
   ]
  },
  {
   "cell_type": "code",
   "execution_count": 29,
   "id": "2027f64d",
   "metadata": {},
   "outputs": [
    {
     "data": {
      "text/plain": [
       "(506, 105)"
      ]
     },
     "execution_count": 29,
     "metadata": {},
     "output_type": "execute_result"
    }
   ],
   "source": [
    "poly_x.shape"
   ]
  },
  {
   "cell_type": "markdown",
   "id": "f9678985",
   "metadata": {},
   "source": [
    "# Step5: train_test_split"
   ]
  },
  {
   "cell_type": "code",
   "execution_count": 30,
   "id": "009aad00",
   "metadata": {},
   "outputs": [],
   "source": [
    "X_train, X_test, y_train, y_test = train_test_split(poly_x, y, test_size=0.3, random_state=101)"
   ]
  },
  {
   "cell_type": "code",
   "execution_count": 31,
   "id": "4dbb8f4a",
   "metadata": {},
   "outputs": [
    {
     "data": {
      "text/plain": [
       "(354, 105)"
      ]
     },
     "execution_count": 31,
     "metadata": {},
     "output_type": "execute_result"
    }
   ],
   "source": [
    "X_train.shape"
   ]
  },
  {
   "cell_type": "code",
   "execution_count": 32,
   "id": "95c9055b",
   "metadata": {},
   "outputs": [
    {
     "data": {
      "text/plain": [
       "(152, 105)"
      ]
     },
     "execution_count": 32,
     "metadata": {},
     "output_type": "execute_result"
    }
   ],
   "source": [
    "X_test.shape"
   ]
  },
  {
   "cell_type": "markdown",
   "id": "5b906c36",
   "metadata": {},
   "source": [
    "# Step6: Polynomial Regression"
   ]
  },
  {
   "cell_type": "markdown",
   "id": "ba59846d",
   "metadata": {},
   "source": [
    "### Creat the Model"
   ]
  },
  {
   "cell_type": "code",
   "execution_count": 33,
   "id": "3f1aecdc",
   "metadata": {},
   "outputs": [],
   "source": [
    "polymodel = LinearRegression()"
   ]
  },
  {
   "cell_type": "markdown",
   "id": "f45ca157",
   "metadata": {},
   "source": [
    "###  Train the Model"
   ]
  },
  {
   "cell_type": "code",
   "execution_count": 34,
   "id": "57a1e508",
   "metadata": {},
   "outputs": [
    {
     "data": {
      "text/html": [
       "<style>#sk-container-id-2 {color: black;}#sk-container-id-2 pre{padding: 0;}#sk-container-id-2 div.sk-toggleable {background-color: white;}#sk-container-id-2 label.sk-toggleable__label {cursor: pointer;display: block;width: 100%;margin-bottom: 0;padding: 0.3em;box-sizing: border-box;text-align: center;}#sk-container-id-2 label.sk-toggleable__label-arrow:before {content: \"▸\";float: left;margin-right: 0.25em;color: #696969;}#sk-container-id-2 label.sk-toggleable__label-arrow:hover:before {color: black;}#sk-container-id-2 div.sk-estimator:hover label.sk-toggleable__label-arrow:before {color: black;}#sk-container-id-2 div.sk-toggleable__content {max-height: 0;max-width: 0;overflow: hidden;text-align: left;background-color: #f0f8ff;}#sk-container-id-2 div.sk-toggleable__content pre {margin: 0.2em;color: black;border-radius: 0.25em;background-color: #f0f8ff;}#sk-container-id-2 input.sk-toggleable__control:checked~div.sk-toggleable__content {max-height: 200px;max-width: 100%;overflow: auto;}#sk-container-id-2 input.sk-toggleable__control:checked~label.sk-toggleable__label-arrow:before {content: \"▾\";}#sk-container-id-2 div.sk-estimator input.sk-toggleable__control:checked~label.sk-toggleable__label {background-color: #d4ebff;}#sk-container-id-2 div.sk-label input.sk-toggleable__control:checked~label.sk-toggleable__label {background-color: #d4ebff;}#sk-container-id-2 input.sk-hidden--visually {border: 0;clip: rect(1px 1px 1px 1px);clip: rect(1px, 1px, 1px, 1px);height: 1px;margin: -1px;overflow: hidden;padding: 0;position: absolute;width: 1px;}#sk-container-id-2 div.sk-estimator {font-family: monospace;background-color: #f0f8ff;border: 1px dotted black;border-radius: 0.25em;box-sizing: border-box;margin-bottom: 0.5em;}#sk-container-id-2 div.sk-estimator:hover {background-color: #d4ebff;}#sk-container-id-2 div.sk-parallel-item::after {content: \"\";width: 100%;border-bottom: 1px solid gray;flex-grow: 1;}#sk-container-id-2 div.sk-label:hover label.sk-toggleable__label {background-color: #d4ebff;}#sk-container-id-2 div.sk-serial::before {content: \"\";position: absolute;border-left: 1px solid gray;box-sizing: border-box;top: 0;bottom: 0;left: 50%;z-index: 0;}#sk-container-id-2 div.sk-serial {display: flex;flex-direction: column;align-items: center;background-color: white;padding-right: 0.2em;padding-left: 0.2em;position: relative;}#sk-container-id-2 div.sk-item {position: relative;z-index: 1;}#sk-container-id-2 div.sk-parallel {display: flex;align-items: stretch;justify-content: center;background-color: white;position: relative;}#sk-container-id-2 div.sk-item::before, #sk-container-id-2 div.sk-parallel-item::before {content: \"\";position: absolute;border-left: 1px solid gray;box-sizing: border-box;top: 0;bottom: 0;left: 50%;z-index: -1;}#sk-container-id-2 div.sk-parallel-item {display: flex;flex-direction: column;z-index: 1;position: relative;background-color: white;}#sk-container-id-2 div.sk-parallel-item:first-child::after {align-self: flex-end;width: 50%;}#sk-container-id-2 div.sk-parallel-item:last-child::after {align-self: flex-start;width: 50%;}#sk-container-id-2 div.sk-parallel-item:only-child::after {width: 0;}#sk-container-id-2 div.sk-dashed-wrapped {border: 1px dashed gray;margin: 0 0.4em 0.5em 0.4em;box-sizing: border-box;padding-bottom: 0.4em;background-color: white;}#sk-container-id-2 div.sk-label label {font-family: monospace;font-weight: bold;display: inline-block;line-height: 1.2em;}#sk-container-id-2 div.sk-label-container {text-align: center;}#sk-container-id-2 div.sk-container {/* jupyter's `normalize.less` sets `[hidden] { display: none; }` but bootstrap.min.css set `[hidden] { display: none !important; }` so we also need the `!important` here to be able to override the default hidden behavior on the sphinx rendered scikit-learn.org. See: https://github.com/scikit-learn/scikit-learn/issues/21755 */display: inline-block !important;position: relative;}#sk-container-id-2 div.sk-text-repr-fallback {display: none;}</style><div id=\"sk-container-id-2\" class=\"sk-top-container\"><div class=\"sk-text-repr-fallback\"><pre>LinearRegression()</pre><b>In a Jupyter environment, please rerun this cell to show the HTML representation or trust the notebook. <br />On GitHub, the HTML representation is unable to render, please try loading this page with nbviewer.org.</b></div><div class=\"sk-container\" hidden><div class=\"sk-item\"><div class=\"sk-estimator sk-toggleable\"><input class=\"sk-toggleable__control sk-hidden--visually\" id=\"sk-estimator-id-2\" type=\"checkbox\" checked><label for=\"sk-estimator-id-2\" class=\"sk-toggleable__label sk-toggleable__label-arrow\">LinearRegression</label><div class=\"sk-toggleable__content\"><pre>LinearRegression()</pre></div></div></div></div></div>"
      ],
      "text/plain": [
       "LinearRegression()"
      ]
     },
     "execution_count": 34,
     "metadata": {},
     "output_type": "execute_result"
    }
   ],
   "source": [
    "polymodel.fit(X_train, y_train)"
   ]
  },
  {
   "cell_type": "code",
   "execution_count": 35,
   "id": "bf6fedb9",
   "metadata": {},
   "outputs": [
    {
     "data": {
      "text/plain": [
       "array([-8.04455672e+08, -5.30723786e-01,  1.35791101e-01, -3.78509358e+00,\n",
       "       -5.29392242e-01,  1.33198006e+02,  1.64474837e+01,  6.41075136e-01,\n",
       "       -1.28532274e+01,  5.38439397e+00, -1.86955116e-01,  6.31977813e+00,\n",
       "        1.34835612e-01,  1.74459559e-01,  4.67206192e-04, -7.25228623e-04,\n",
       "        1.07093824e-01,  1.10142816e+00, -8.70342299e-01,  1.27902725e-01,\n",
       "       -1.19764805e-02, -1.78175801e-01,  2.65334570e-02, -4.00587952e-04,\n",
       "       -4.93773302e-02, -5.29793531e-04,  2.01363889e-02, -1.53012450e-03,\n",
       "       -4.97783185e-03, -6.87514201e-02, -1.12681887e+00,  2.48976271e-02,\n",
       "       -2.27097539e-04, -9.93709440e-03,  5.86723582e-03,  8.24444099e-04,\n",
       "       -2.79455999e-02,  1.71013784e-03, -9.13093620e-03,  5.11384686e-02,\n",
       "        7.75061510e-02,  2.59343598e+00,  1.53451175e-01,  3.75517926e-03,\n",
       "        1.23574629e-01,  8.66161025e-02, -4.95894826e-04, -1.05899488e-02,\n",
       "        1.28086709e-03, -5.83344968e-02, -5.29389791e-01, -1.48367879e+01,\n",
       "       -5.36920712e-01, -4.20786279e-02,  1.85400809e+00, -1.37031672e-01,\n",
       "        1.82183119e-02, -4.53949055e-01,  2.98937236e-02,  7.96535347e-03,\n",
       "       -6.46017558e+01,  2.92214232e-01, -4.93977158e-01,  1.50244458e+01,\n",
       "       -3.14955163e+00,  2.83948845e-01, -1.03367627e+01, -6.39516050e-02,\n",
       "        2.85339429e-01,  3.82101726e-01,  1.16776101e-02,  2.33455349e-01,\n",
       "       -7.60169040e-02, -1.60249085e-02, -5.47463367e-01, -6.29868767e-03,\n",
       "       -1.14843236e-01, -2.39119111e-04, -2.08939739e-02,  2.76832983e-02,\n",
       "       -1.09667722e-03,  4.99710028e-03, -7.98656733e-04, -8.62212247e-04,\n",
       "        4.38459371e-01, -6.28643046e-02, -3.15092969e-03,  3.52881013e-02,\n",
       "       -2.14472709e-03,  8.12170198e-02, -1.33013574e-01,  5.24215621e-03,\n",
       "       -1.42205491e-01, -4.47941733e-03, -8.48322332e-02, -7.93312262e-05,\n",
       "        5.96728623e-03,  2.48235256e-04,  2.61542492e-03,  6.12519507e-02,\n",
       "       -2.38567887e-03, -5.16292905e-02, -4.11016078e-05,  5.98941881e-04,\n",
       "        3.24023161e-02])"
      ]
     },
     "execution_count": 35,
     "metadata": {},
     "output_type": "execute_result"
    }
   ],
   "source": [
    "polymodel.coef_"
   ]
  },
  {
   "cell_type": "code",
   "execution_count": 36,
   "id": "7ba259ec",
   "metadata": {},
   "outputs": [
    {
     "data": {
      "text/plain": [
       "804455556.3090991"
      ]
     },
     "execution_count": 36,
     "metadata": {},
     "output_type": "execute_result"
    }
   ],
   "source": [
    "polymodel.intercept_"
   ]
  },
  {
   "cell_type": "code",
   "execution_count": null,
   "id": "b22b0009",
   "metadata": {},
   "outputs": [],
   "source": []
  },
  {
   "cell_type": "markdown",
   "id": "245c44c1",
   "metadata": {},
   "source": [
    "###  Prediction & Evaluation"
   ]
  },
  {
   "cell_type": "code",
   "execution_count": 37,
   "id": "d6a4d7c1",
   "metadata": {},
   "outputs": [],
   "source": [
    "y_pred_p = polymodel.predict(X_test)"
   ]
  },
  {
   "cell_type": "code",
   "execution_count": 38,
   "id": "90710b80",
   "metadata": {},
   "outputs": [
    {
     "data": {
      "text/plain": [
       "2.8388441633237034"
      ]
     },
     "execution_count": 38,
     "metadata": {},
     "output_type": "execute_result"
    }
   ],
   "source": [
    "MAE_p = metrics.mean_absolute_error(y_test, y_pred_p)\n",
    "\n",
    "MAE_p"
   ]
  },
  {
   "cell_type": "code",
   "execution_count": 39,
   "id": "e45be141",
   "metadata": {},
   "outputs": [],
   "source": [
    "MSE_p = metrics.mean_squared_error(y_test, y_pred_p)"
   ]
  },
  {
   "cell_type": "code",
   "execution_count": 40,
   "id": "82717da3",
   "metadata": {},
   "outputs": [],
   "source": [
    "RMSE_p = np.sqrt(MSE_p)"
   ]
  },
  {
   "cell_type": "code",
   "execution_count": 41,
   "id": "62a96959",
   "metadata": {},
   "outputs": [],
   "source": [
    "Error_p = pd.DataFrame([MAE_p, MSE_p, RMSE_p], index=['MAE', 'MSE', 'RMSE'],\n",
    "                      columns=['Poly'])"
   ]
  },
  {
   "cell_type": "code",
   "execution_count": 42,
   "id": "c70d9930",
   "metadata": {},
   "outputs": [
    {
     "data": {
      "text/html": [
       "<div>\n",
       "<style scoped>\n",
       "    .dataframe tbody tr th:only-of-type {\n",
       "        vertical-align: middle;\n",
       "    }\n",
       "\n",
       "    .dataframe tbody tr th {\n",
       "        vertical-align: top;\n",
       "    }\n",
       "\n",
       "    .dataframe thead th {\n",
       "        text-align: right;\n",
       "    }\n",
       "</style>\n",
       "<table border=\"1\" class=\"dataframe\">\n",
       "  <thead>\n",
       "    <tr style=\"text-align: right;\">\n",
       "      <th></th>\n",
       "      <th>Poly</th>\n",
       "    </tr>\n",
       "  </thead>\n",
       "  <tbody>\n",
       "    <tr>\n",
       "      <th>MAE</th>\n",
       "      <td>2.838844</td>\n",
       "    </tr>\n",
       "    <tr>\n",
       "      <th>MSE</th>\n",
       "      <td>16.427818</td>\n",
       "    </tr>\n",
       "    <tr>\n",
       "      <th>RMSE</th>\n",
       "      <td>4.053124</td>\n",
       "    </tr>\n",
       "  </tbody>\n",
       "</table>\n",
       "</div>"
      ],
      "text/plain": [
       "           Poly\n",
       "MAE    2.838844\n",
       "MSE   16.427818\n",
       "RMSE   4.053124"
      ]
     },
     "execution_count": 42,
     "metadata": {},
     "output_type": "execute_result"
    }
   ],
   "source": [
    "Error_p"
   ]
  },
  {
   "cell_type": "code",
   "execution_count": 43,
   "id": "a9bf107a",
   "metadata": {},
   "outputs": [
    {
     "data": {
      "text/html": [
       "<div>\n",
       "<style scoped>\n",
       "    .dataframe tbody tr th:only-of-type {\n",
       "        vertical-align: middle;\n",
       "    }\n",
       "\n",
       "    .dataframe tbody tr th {\n",
       "        vertical-align: top;\n",
       "    }\n",
       "\n",
       "    .dataframe thead th {\n",
       "        text-align: right;\n",
       "    }\n",
       "</style>\n",
       "<table border=\"1\" class=\"dataframe\">\n",
       "  <thead>\n",
       "    <tr style=\"text-align: right;\">\n",
       "      <th></th>\n",
       "      <th>LR</th>\n",
       "      <th>Poly</th>\n",
       "    </tr>\n",
       "  </thead>\n",
       "  <tbody>\n",
       "    <tr>\n",
       "      <th>MAE</th>\n",
       "      <td>3.835696</td>\n",
       "      <td>2.838844</td>\n",
       "    </tr>\n",
       "    <tr>\n",
       "      <th>MSE</th>\n",
       "      <td>28.547585</td>\n",
       "      <td>16.427818</td>\n",
       "    </tr>\n",
       "    <tr>\n",
       "      <th>RMSE</th>\n",
       "      <td>5.342994</td>\n",
       "      <td>4.053124</td>\n",
       "    </tr>\n",
       "  </tbody>\n",
       "</table>\n",
       "</div>"
      ],
      "text/plain": [
       "             LR       Poly\n",
       "MAE    3.835696   2.838844\n",
       "MSE   28.547585  16.427818\n",
       "RMSE   5.342994   4.053124"
      ]
     },
     "execution_count": 43,
     "metadata": {},
     "output_type": "execute_result"
    }
   ],
   "source": [
    "pd.concat([Error_LR, Error_p], axis=1)"
   ]
  },
  {
   "cell_type": "markdown",
   "id": "dc46bd2e",
   "metadata": {},
   "source": [
    "# Step7: Choose Degree"
   ]
  },
  {
   "cell_type": "code",
   "execution_count": 44,
   "id": "74da7aa5",
   "metadata": {},
   "outputs": [],
   "source": [
    "train_RMSE_list = []\n",
    "\n",
    "test_RMSE_list = []"
   ]
  },
  {
   "cell_type": "code",
   "execution_count": 45,
   "id": "29bbce07",
   "metadata": {},
   "outputs": [],
   "source": [
    "for d in range(1, 10):\n",
    "    # feature poly\n",
    "    poly = PolynomialFeatures(degree=d, include_bias=True)\n",
    "    poly_x = poly.fit_transform(X)\n",
    "    # train test\n",
    "    X_train, X_test, y_train, y_test = train_test_split(poly_x, y, test_size=0.3, random_state=101)\n",
    "    \n",
    "    #Creat Model\n",
    "    polymodel = LinearRegression()\n",
    "    \n",
    "    # train\n",
    "    polymodel.fit(X_train, y_train)\n",
    "    \n",
    "    # predict\n",
    "    y_train_pred = polymodel.predict(X_train)\n",
    "    y_test_pred = polymodel.predict(X_test)\n",
    "    # test, eval, RMSE\n",
    "    train_RMSE = np.sqrt(metrics.mean_squared_error(y_train, y_train_pred))\n",
    "    test_RMSE = np.sqrt(metrics.mean_squared_error(y_test, y_test_pred))\n",
    "    \n",
    "    train_RMSE_list.append(train_RMSE)\n",
    "    test_RMSE_list.append(test_RMSE)"
   ]
  },
  {
   "cell_type": "code",
   "execution_count": 46,
   "id": "9a27f2e7",
   "metadata": {},
   "outputs": [
    {
     "data": {
      "text/plain": [
       "[4.413151230211124,\n",
       " 2.5875292325299144,\n",
       " 4.3674768874280195e-09,\n",
       " 7.336265503907319e-11,\n",
       " 6.276878195808328e-10,\n",
       " 2.374760479080009e-10,\n",
       " 1.437437761073798e-10,\n",
       " 5.309604368974308e-10,\n",
       " 1.4897141716188247e-09]"
      ]
     },
     "execution_count": 46,
     "metadata": {},
     "output_type": "execute_result"
    }
   ],
   "source": [
    "train_RMSE_list"
   ]
  },
  {
   "cell_type": "code",
   "execution_count": 47,
   "id": "1043704b",
   "metadata": {},
   "outputs": [
    {
     "data": {
      "text/plain": [
       "[5.342994036256091,\n",
       " 4.053124496256134,\n",
       " 279.3570873541143,\n",
       " 79.21597940133631,\n",
       " 131.66908092785076,\n",
       " 86.09237777997023,\n",
       " 81.91669060148583,\n",
       " 116.55662630197527,\n",
       " 283.3885251958427]"
      ]
     },
     "execution_count": 47,
     "metadata": {},
     "output_type": "execute_result"
    }
   ],
   "source": [
    "test_RMSE_list"
   ]
  },
  {
   "cell_type": "code",
   "execution_count": 48,
   "id": "fd480a5f",
   "metadata": {},
   "outputs": [
    {
     "data": {
      "text/plain": [
       "<matplotlib.legend.Legend at 0x1c9ee067210>"
      ]
     },
     "execution_count": 48,
     "metadata": {},
     "output_type": "execute_result"
    },
    {
     "data": {
      "image/png": "[encoded data removed]",
      "text/plain": [
       "<Figure size 640x480 with 1 Axes>"
      ]
     },
     "metadata": {},
     "output_type": "display_data"
    }
   ],
   "source": [
    "plt.plot(range(1, 4), train_RMSE_list[:3], label='Train')\n",
    "plt.plot(range(1, 4), test_RMSE_list[:3], label='Test')\n",
    "\n",
    "plt.xlabel('Degree')\n",
    "plt.ylabel('RMSE')\n",
    "\n",
    "plt.legend()"
   ]
  },
  {
   "cell_type": "code",
   "execution_count": null,
   "id": "9e57f10c",
   "metadata": {},
   "outputs": [],
   "source": []
  },
  {
   "cell_type": "markdown",
   "id": "81cb28e5",
   "metadata": {},
   "source": [
    "# Finished!"
   ]
  }
 ],
 "metadata": {
  "kernelspec": {
   "display_name": "Python 3 (ipykernel)",
   "language": "python",
   "name": "python3"
  },
  "language_info": {
   "codemirror_mode": {
    "name": "ipython",
    "version": 3
   },
   "file_extension": ".py",
   "mimetype": "text/x-python",
   "name": "python",
   "nbconvert_exporter": "python",
   "pygments_lexer": "ipython3",
   "version": "3.11.4"
  }
 },
 "nbformat": 4,
 "nbformat_minor": 5
}
