{
 "cells": [
  {
   "cell_type": "markdown",
   "metadata": {},
   "source": [
    "<img src=\"https://github.com/aminizahra/ML_AI2YOU/blob/main/AI2YOU.png?raw=true\" alt=\"AI2YOU\" width=\"300\" height=\"300\">\n",
    "<h1 align=\"center\"><font size = 14>Hands-On Machine Learning</font></h1>\n",
    "<br>\n",
    "<h2 align=\"center\"><font size = 5>Data Cleaning</font></h2>\n",
    "<h3 align=\"center\">Zahra Amini</h3>\n",
    "<br>\n",
    "<br>\n",
    "<br>\n",
    "<br>\n",
    "<br>"
   ]
  },
  {
   "cell_type": "markdown",
   "metadata": {},
   "source": [
    "# **Data Cleaning**"
   ]
  },
  {
   "cell_type": "markdown",
   "metadata": {},
   "source": [
    "# What is data cleaning?\n",
    "\n",
    "Data cleaning is the process of fixing or removing incorrect, corrupted, incorrectly formatted, duplicate, or incomplete data within a dataset. When combining multiple data sources, there are many opportunities for data to be duplicated or mislabeled. If data is incorrect, outcomes and algorithms are unreliable, even though they may look correct. There is no one absolute way to prescribe the exact steps in the data cleaning process because the processes will vary from dataset to dataset. But it is crucial to establish a template for your data cleaning process so you know you are doing it the right way every time."
   ]
  },
  {
   "cell_type": "markdown",
   "metadata": {},
   "source": [
    "# 0. Start"
   ]
  },
  {
   "cell_type": "markdown",
   "metadata": {},
   "source": [
    "## 📤 Import Libraries"
   ]
  },
  {
   "cell_type": "code",
   "execution_count": 1,
   "metadata": {},
   "outputs": [],
   "source": [
    "import matplotlib.pyplot as plt\n",
    "import numpy as np\n",
    "import pandas as pd\n",
    "import seaborn as sns\n",
    "\n",
    "\n",
    "# import fuzzywuzzy\n",
    "# from fuzzywuzzy import process"
   ]
  },
  {
   "cell_type": "markdown",
   "metadata": {},
   "source": [
    "# 💾 Read Data"
   ]
  },
  {
   "cell_type": "code",
   "execution_count": 2,
   "metadata": {},
   "outputs": [],
   "source": [
    "df = pd.read_csv(\"COVID-19.csv\")"
   ]
  },
  {
   "cell_type": "markdown",
   "metadata": {},
   "source": [
    "# 🔎 Check the basic information of the dataset"
   ]
  },
  {
   "cell_type": "code",
   "execution_count": 3,
   "metadata": {},
   "outputs": [
    {
     "data": {
      "text/html": [
       "<div>\n",
       "<style scoped>\n",
       "    .dataframe tbody tr th:only-of-type {\n",
       "        vertical-align: middle;\n",
       "    }\n",
       "\n",
       "    .dataframe tbody tr th {\n",
       "        vertical-align: top;\n",
       "    }\n",
       "\n",
       "    .dataframe thead th {\n",
       "        text-align: right;\n",
       "    }\n",
       "</style>\n",
       "<table border=\"1\" class=\"dataframe\">\n",
       "  <thead>\n",
       "    <tr style=\"text-align: right;\">\n",
       "      <th></th>\n",
       "      <th>Country</th>\n",
       "      <th>date</th>\n",
       "      <th>SESSO</th>\n",
       "      <th>AGE</th>\n",
       "      <th>WBC</th>\n",
       "      <th>Piastrine</th>\n",
       "      <th>Neutrofili</th>\n",
       "      <th>Linfociti</th>\n",
       "      <th>Monociti</th>\n",
       "      <th>Eosinofili</th>\n",
       "      <th>Basofili</th>\n",
       "      <th>PCR</th>\n",
       "      <th>AST</th>\n",
       "      <th>ALT</th>\n",
       "      <th>ALP</th>\n",
       "      <th>GGT</th>\n",
       "      <th>LDH</th>\n",
       "      <th>TARGET</th>\n",
       "    </tr>\n",
       "  </thead>\n",
       "  <tbody>\n",
       "    <tr>\n",
       "      <th>0</th>\n",
       "      <td>Canada</td>\n",
       "      <td>3/2/07</td>\n",
       "      <td>M</td>\n",
       "      <td>56</td>\n",
       "      <td>2.9</td>\n",
       "      <td>128.0</td>\n",
       "      <td>1.9</td>\n",
       "      <td>0.8</td>\n",
       "      <td>0.2</td>\n",
       "      <td>0.0</td>\n",
       "      <td>0.0</td>\n",
       "      <td>29.0</td>\n",
       "      <td>36.0</td>\n",
       "      <td>18.0</td>\n",
       "      <td>43.0</td>\n",
       "      <td>21.0</td>\n",
       "      <td>257.0</td>\n",
       "      <td>2</td>\n",
       "    </tr>\n",
       "    <tr>\n",
       "      <th>1</th>\n",
       "      <td>USA</td>\n",
       "      <td>3/22/07</td>\n",
       "      <td>M</td>\n",
       "      <td>56</td>\n",
       "      <td>3.5</td>\n",
       "      <td>151.0</td>\n",
       "      <td>2.1</td>\n",
       "      <td>0.9</td>\n",
       "      <td>0.4</td>\n",
       "      <td>0.0</td>\n",
       "      <td>0.0</td>\n",
       "      <td>16.5</td>\n",
       "      <td>25.0</td>\n",
       "      <td>14.0</td>\n",
       "      <td>50.0</td>\n",
       "      <td>17.0</td>\n",
       "      <td>207.0</td>\n",
       "      <td>2</td>\n",
       "    </tr>\n",
       "    <tr>\n",
       "      <th>2</th>\n",
       "      <td>Austria</td>\n",
       "      <td>4/6/07</td>\n",
       "      <td>M</td>\n",
       "      <td>72</td>\n",
       "      <td>4.6</td>\n",
       "      <td>206.0</td>\n",
       "      <td>NaN</td>\n",
       "      <td>NaN</td>\n",
       "      <td>NaN</td>\n",
       "      <td>NaN</td>\n",
       "      <td>NaN</td>\n",
       "      <td>193.7</td>\n",
       "      <td>31.0</td>\n",
       "      <td>22.0</td>\n",
       "      <td>NaN</td>\n",
       "      <td>NaN</td>\n",
       "      <td>NaN</td>\n",
       "      <td>2</td>\n",
       "    </tr>\n",
       "    <tr>\n",
       "      <th>3</th>\n",
       "      <td>Pakistan</td>\n",
       "      <td>4/14/07</td>\n",
       "      <td>M</td>\n",
       "      <td>72</td>\n",
       "      <td>16.5</td>\n",
       "      <td>316.0</td>\n",
       "      <td>14.0</td>\n",
       "      <td>1.2</td>\n",
       "      <td>0.3</td>\n",
       "      <td>0.0</td>\n",
       "      <td>0.0</td>\n",
       "      <td>318.7</td>\n",
       "      <td>96.0</td>\n",
       "      <td>33.0</td>\n",
       "      <td>80.0</td>\n",
       "      <td>42.0</td>\n",
       "      <td>651.0</td>\n",
       "      <td>2</td>\n",
       "    </tr>\n",
       "    <tr>\n",
       "      <th>4</th>\n",
       "      <td>germany</td>\n",
       "      <td>4/15/07</td>\n",
       "      <td>M</td>\n",
       "      <td>77</td>\n",
       "      <td>4.9</td>\n",
       "      <td>198.0</td>\n",
       "      <td>NaN</td>\n",
       "      <td>NaN</td>\n",
       "      <td>NaN</td>\n",
       "      <td>NaN</td>\n",
       "      <td>NaN</td>\n",
       "      <td>NaN</td>\n",
       "      <td>NaN</td>\n",
       "      <td>NaN</td>\n",
       "      <td>NaN</td>\n",
       "      <td>NaN</td>\n",
       "      <td>NaN</td>\n",
       "      <td>2</td>\n",
       "    </tr>\n",
       "  </tbody>\n",
       "</table>\n",
       "</div>"
      ],
      "text/plain": [
       "    Country     date SESSO  AGE   WBC  Piastrine  Neutrofili Linfociti  \\\n",
       "0    Canada   3/2/07     M   56   2.9      128.0         1.9       0.8   \n",
       "1       USA  3/22/07     M   56   3.5      151.0         2.1       0.9   \n",
       "2   Austria   4/6/07     M   72   4.6      206.0         NaN       NaN   \n",
       "3  Pakistan  4/14/07     M   72  16.5      316.0        14.0       1.2   \n",
       "4   germany  4/15/07     M   77   4.9      198.0         NaN       NaN   \n",
       "\n",
       "   Monociti  Eosinofili  Basofili    PCR   AST   ALT   ALP   GGT    LDH  \\\n",
       "0       0.2         0.0       0.0   29.0  36.0  18.0  43.0  21.0  257.0   \n",
       "1       0.4         0.0       0.0   16.5  25.0  14.0  50.0  17.0  207.0   \n",
       "2       NaN         NaN       NaN  193.7  31.0  22.0   NaN   NaN    NaN   \n",
       "3       0.3         0.0       0.0  318.7  96.0  33.0  80.0  42.0  651.0   \n",
       "4       NaN         NaN       NaN    NaN   NaN   NaN   NaN   NaN    NaN   \n",
       "\n",
       "   TARGET  \n",
       "0       2  \n",
       "1       2  \n",
       "2       2  \n",
       "3       2  \n",
       "4       2  "
      ]
     },
     "execution_count": 3,
     "metadata": {},
     "output_type": "execute_result"
    }
   ],
   "source": [
    "df.head()"
   ]
  },
  {
   "cell_type": "code",
   "execution_count": 4,
   "metadata": {},
   "outputs": [
    {
     "data": {
      "text/plain": [
       "array([2, 1, 0], dtype=int64)"
      ]
     },
     "execution_count": 4,
     "metadata": {},
     "output_type": "execute_result"
    }
   ],
   "source": [
    "df['TARGET'].unique()"
   ]
  },
  {
   "cell_type": "code",
   "execution_count": 5,
   "metadata": {},
   "outputs": [
    {
     "name": "stdout",
     "output_type": "stream",
     "text": [
      "<class 'pandas.core.frame.DataFrame'>\n",
      "RangeIndex: 295 entries, 0 to 294\n",
      "Data columns (total 18 columns):\n",
      " #   Column      Non-Null Count  Dtype  \n",
      "---  ------      --------------  -----  \n",
      " 0   Country     295 non-null    object \n",
      " 1   date        295 non-null    object \n",
      " 2   SESSO       295 non-null    object \n",
      " 3   AGE         295 non-null    int64  \n",
      " 4   WBC         293 non-null    float64\n",
      " 5   Piastrine   293 non-null    float64\n",
      " 6   Neutrofili  222 non-null    float64\n",
      " 7   Linfociti   222 non-null    object \n",
      " 8   Monociti    222 non-null    float64\n",
      " 9   Eosinofili  222 non-null    float64\n",
      " 10  Basofili    220 non-null    float64\n",
      " 11  PCR         286 non-null    float64\n",
      " 12  AST         292 non-null    float64\n",
      " 13  ALT         279 non-null    float64\n",
      " 14  ALP         139 non-null    float64\n",
      " 15  GGT         144 non-null    float64\n",
      " 16  LDH         205 non-null    float64\n",
      " 17  TARGET      295 non-null    int64  \n",
      "dtypes: float64(12), int64(2), object(4)\n",
      "memory usage: 41.6+ KB\n"
     ]
    }
   ],
   "source": [
    "df.info()"
   ]
  },
  {
   "cell_type": "code",
   "execution_count": 6,
   "metadata": {},
   "outputs": [
    {
     "data": {
      "text/plain": [
       "(295, 18)"
      ]
     },
     "execution_count": 6,
     "metadata": {},
     "output_type": "execute_result"
    }
   ],
   "source": [
    "df.shape"
   ]
  },
  {
   "cell_type": "markdown",
   "metadata": {},
   "source": [
    "# 1. Inconsistent Data Entry"
   ]
  },
  {
   "cell_type": "markdown",
   "metadata": {},
   "source": [
    "### Convert to float"
   ]
  },
  {
   "cell_type": "code",
   "execution_count": 7,
   "metadata": {},
   "outputs": [
    {
     "name": "stdout",
     "output_type": "stream",
     "text": [
      "<class 'pandas.core.frame.DataFrame'>\n",
      "RangeIndex: 295 entries, 0 to 294\n",
      "Data columns (total 18 columns):\n",
      " #   Column      Non-Null Count  Dtype  \n",
      "---  ------      --------------  -----  \n",
      " 0   Country     295 non-null    object \n",
      " 1   date        295 non-null    object \n",
      " 2   SESSO       295 non-null    object \n",
      " 3   AGE         295 non-null    int64  \n",
      " 4   WBC         293 non-null    float64\n",
      " 5   Piastrine   293 non-null    float64\n",
      " 6   Neutrofili  222 non-null    float64\n",
      " 7   Linfociti   222 non-null    object \n",
      " 8   Monociti    222 non-null    float64\n",
      " 9   Eosinofili  222 non-null    float64\n",
      " 10  Basofili    220 non-null    float64\n",
      " 11  PCR         286 non-null    float64\n",
      " 12  AST         292 non-null    float64\n",
      " 13  ALT         279 non-null    float64\n",
      " 14  ALP         139 non-null    float64\n",
      " 15  GGT         144 non-null    float64\n",
      " 16  LDH         205 non-null    float64\n",
      " 17  TARGET      295 non-null    int64  \n",
      "dtypes: float64(12), int64(2), object(4)\n",
      "memory usage: 41.6+ KB\n"
     ]
    }
   ],
   "source": [
    "df.info()"
   ]
  },
  {
   "cell_type": "code",
   "execution_count": 8,
   "metadata": {},
   "outputs": [
    {
     "data": {
      "text/plain": [
       "0      0.8\n",
       "1      0.9\n",
       "2      NaN\n",
       "3      1.2\n",
       "4      NaN\n",
       "      ... \n",
       "290    0.4\n",
       "291    1.3\n",
       "292    0.6\n",
       "293    0.8\n",
       "294    0.6\n",
       "Name: Linfociti, Length: 295, dtype: object"
      ]
     },
     "execution_count": 8,
     "metadata": {},
     "output_type": "execute_result"
    }
   ],
   "source": [
    "df['Linfociti']"
   ]
  },
  {
   "cell_type": "code",
   "execution_count": 9,
   "metadata": {},
   "outputs": [],
   "source": [
    "# df[\"Linfociti\"].astype(float)"
   ]
  },
  {
   "cell_type": "code",
   "execution_count": 10,
   "metadata": {},
   "outputs": [],
   "source": [
    "indx = df[df['Linfociti']=='0-4'].index"
   ]
  },
  {
   "cell_type": "code",
   "execution_count": 11,
   "metadata": {},
   "outputs": [
    {
     "name": "stderr",
     "output_type": "stream",
     "text": [
      "C:\\Users\\amini\\AppData\\Local\\Temp\\ipykernel_18188\\3815495428.py:1: SettingWithCopyWarning: \n",
      "A value is trying to be set on a copy of a slice from a DataFrame\n",
      "\n",
      "See the caveats in the documentation: https://pandas.pydata.org/pandas-docs/stable/user_guide/indexing.html#returning-a-view-versus-a-copy\n",
      "  df[\"Linfociti\"][indx]= 0.4\n"
     ]
    }
   ],
   "source": [
    "df[\"Linfociti\"][indx]= 0.4"
   ]
  },
  {
   "cell_type": "code",
   "execution_count": 12,
   "metadata": {},
   "outputs": [],
   "source": [
    "df[\"Linfociti\"] = df[\"Linfociti\"].astype(float)"
   ]
  },
  {
   "cell_type": "code",
   "execution_count": 13,
   "metadata": {},
   "outputs": [
    {
     "name": "stdout",
     "output_type": "stream",
     "text": [
      "<class 'pandas.core.frame.DataFrame'>\n",
      "RangeIndex: 295 entries, 0 to 294\n",
      "Data columns (total 18 columns):\n",
      " #   Column      Non-Null Count  Dtype  \n",
      "---  ------      --------------  -----  \n",
      " 0   Country     295 non-null    object \n",
      " 1   date        295 non-null    object \n",
      " 2   SESSO       295 non-null    object \n",
      " 3   AGE         295 non-null    int64  \n",
      " 4   WBC         293 non-null    float64\n",
      " 5   Piastrine   293 non-null    float64\n",
      " 6   Neutrofili  222 non-null    float64\n",
      " 7   Linfociti   222 non-null    float64\n",
      " 8   Monociti    222 non-null    float64\n",
      " 9   Eosinofili  222 non-null    float64\n",
      " 10  Basofili    220 non-null    float64\n",
      " 11  PCR         286 non-null    float64\n",
      " 12  AST         292 non-null    float64\n",
      " 13  ALT         279 non-null    float64\n",
      " 14  ALP         139 non-null    float64\n",
      " 15  GGT         144 non-null    float64\n",
      " 16  LDH         205 non-null    float64\n",
      " 17  TARGET      295 non-null    int64  \n",
      "dtypes: float64(13), int64(2), object(3)\n",
      "memory usage: 41.6+ KB\n"
     ]
    }
   ],
   "source": [
    "df.info()"
   ]
  },
  {
   "cell_type": "markdown",
   "metadata": {},
   "source": [
    "### isnull"
   ]
  },
  {
   "cell_type": "code",
   "execution_count": 14,
   "metadata": {},
   "outputs": [
    {
     "data": {
      "text/plain": [
       "Country         0\n",
       "date            0\n",
       "SESSO           0\n",
       "AGE             0\n",
       "WBC             2\n",
       "Piastrine       2\n",
       "Neutrofili     73\n",
       "Linfociti      73\n",
       "Monociti       73\n",
       "Eosinofili     73\n",
       "Basofili       75\n",
       "PCR             9\n",
       "AST             3\n",
       "ALT            16\n",
       "ALP           156\n",
       "GGT           151\n",
       "LDH            90\n",
       "TARGET          0\n",
       "dtype: int64"
      ]
     },
     "execution_count": 14,
     "metadata": {},
     "output_type": "execute_result"
    }
   ],
   "source": [
    "df.isnull().sum()"
   ]
  },
  {
   "cell_type": "code",
   "execution_count": null,
   "metadata": {},
   "outputs": [],
   "source": []
  },
  {
   "cell_type": "markdown",
   "metadata": {},
   "source": [
    "# 2. Handling Duplicates"
   ]
  },
  {
   "cell_type": "code",
   "execution_count": 15,
   "metadata": {},
   "outputs": [
    {
     "data": {
      "text/plain": [
       "16"
      ]
     },
     "execution_count": 15,
     "metadata": {},
     "output_type": "execute_result"
    }
   ],
   "source": [
    "df.duplicated().sum()"
   ]
  },
  {
   "cell_type": "code",
   "execution_count": 16,
   "metadata": {},
   "outputs": [],
   "source": [
    "df.drop_duplicates(inplace=True)"
   ]
  },
  {
   "cell_type": "code",
   "execution_count": 17,
   "metadata": {},
   "outputs": [],
   "source": [
    "# df.drop_duplicates(subset='ID', inplace=True)"
   ]
  },
  {
   "cell_type": "code",
   "execution_count": 18,
   "metadata": {},
   "outputs": [
    {
     "name": "stdout",
     "output_type": "stream",
     "text": [
      "<class 'pandas.core.frame.DataFrame'>\n",
      "Int64Index: 279 entries, 0 to 278\n",
      "Data columns (total 18 columns):\n",
      " #   Column      Non-Null Count  Dtype  \n",
      "---  ------      --------------  -----  \n",
      " 0   Country     279 non-null    object \n",
      " 1   date        279 non-null    object \n",
      " 2   SESSO       279 non-null    object \n",
      " 3   AGE         279 non-null    int64  \n",
      " 4   WBC         277 non-null    float64\n",
      " 5   Piastrine   277 non-null    float64\n",
      " 6   Neutrofili  209 non-null    float64\n",
      " 7   Linfociti   209 non-null    float64\n",
      " 8   Monociti    209 non-null    float64\n",
      " 9   Eosinofili  209 non-null    float64\n",
      " 10  Basofili    208 non-null    float64\n",
      " 11  PCR         273 non-null    float64\n",
      " 12  AST         277 non-null    float64\n",
      " 13  ALT         266 non-null    float64\n",
      " 14  ALP         131 non-null    float64\n",
      " 15  GGT         136 non-null    float64\n",
      " 16  LDH         194 non-null    float64\n",
      " 17  TARGET      279 non-null    int64  \n",
      "dtypes: float64(13), int64(2), object(3)\n",
      "memory usage: 41.4+ KB\n"
     ]
    }
   ],
   "source": [
    "df.info()"
   ]
  },
  {
   "cell_type": "markdown",
   "metadata": {},
   "source": [
    "# 3. Handling Outliers"
   ]
  },
  {
   "cell_type": "markdown",
   "metadata": {},
   "source": [
    "# BoxPlot:\n",
    "\n",
    "<a><img src=\"box-plot.png\" alt=\"poxblot\" border=\"0\"></a>\n",
    "\n",
    "<a><img src=\"box-plot-construction.png\" alt=\"poxblot\" border=\"0\"></a>\n"
   ]
  },
  {
   "cell_type": "markdown",
   "metadata": {},
   "source": [
    "<a><img src=\"outl1 (1).png\" alt=\"poxblot\" border=\"0\"></a>"
   ]
  },
  {
   "cell_type": "code",
   "execution_count": 19,
   "metadata": {},
   "outputs": [
    {
     "name": "stderr",
     "output_type": "stream",
     "text": [
      "C:\\Users\\amini\\AppData\\Local\\Temp\\ipykernel_18188\\1076323962.py:1: FutureWarning: The default value of numeric_only in DataFrame.corr is deprecated. In a future version, it will default to False. Select only valid columns or specify the value of numeric_only to silence this warning.\n",
      "  df.corr()[['TARGET']].sort_values('TARGET', ascending=False).T\n"
     ]
    },
    {
     "data": {
      "text/html": [
       "<div>\n",
       "<style scoped>\n",
       "    .dataframe tbody tr th:only-of-type {\n",
       "        vertical-align: middle;\n",
       "    }\n",
       "\n",
       "    .dataframe tbody tr th {\n",
       "        vertical-align: top;\n",
       "    }\n",
       "\n",
       "    .dataframe thead th {\n",
       "        text-align: right;\n",
       "    }\n",
       "</style>\n",
       "<table border=\"1\" class=\"dataframe\">\n",
       "  <thead>\n",
       "    <tr style=\"text-align: right;\">\n",
       "      <th></th>\n",
       "      <th>TARGET</th>\n",
       "      <th>LDH</th>\n",
       "      <th>PCR</th>\n",
       "      <th>AST</th>\n",
       "      <th>ALT</th>\n",
       "      <th>AGE</th>\n",
       "      <th>Basofili</th>\n",
       "      <th>Piastrine</th>\n",
       "      <th>Neutrofili</th>\n",
       "      <th>GGT</th>\n",
       "      <th>WBC</th>\n",
       "      <th>ALP</th>\n",
       "      <th>Eosinofili</th>\n",
       "      <th>Monociti</th>\n",
       "      <th>Linfociti</th>\n",
       "    </tr>\n",
       "  </thead>\n",
       "  <tbody>\n",
       "    <tr>\n",
       "      <th>TARGET</th>\n",
       "      <td>1.0</td>\n",
       "      <td>0.432503</td>\n",
       "      <td>0.302248</td>\n",
       "      <td>0.248244</td>\n",
       "      <td>0.223103</td>\n",
       "      <td>0.096823</td>\n",
       "      <td>0.057408</td>\n",
       "      <td>0.030131</td>\n",
       "      <td>0.019409</td>\n",
       "      <td>-0.013642</td>\n",
       "      <td>-0.032397</td>\n",
       "      <td>-0.09588</td>\n",
       "      <td>-0.09819</td>\n",
       "      <td>-0.193461</td>\n",
       "      <td>-0.279963</td>\n",
       "    </tr>\n",
       "  </tbody>\n",
       "</table>\n",
       "</div>"
      ],
      "text/plain": [
       "        TARGET       LDH       PCR       AST       ALT       AGE  Basofili  \\\n",
       "TARGET     1.0  0.432503  0.302248  0.248244  0.223103  0.096823  0.057408   \n",
       "\n",
       "        Piastrine  Neutrofili       GGT       WBC      ALP  Eosinofili  \\\n",
       "TARGET   0.030131    0.019409 -0.013642 -0.032397 -0.09588    -0.09819   \n",
       "\n",
       "        Monociti  Linfociti  \n",
       "TARGET -0.193461  -0.279963  "
      ]
     },
     "execution_count": 19,
     "metadata": {},
     "output_type": "execute_result"
    }
   ],
   "source": [
    "df.corr()[['TARGET']].sort_values('TARGET', ascending=False).T"
   ]
  },
  {
   "cell_type": "code",
   "execution_count": null,
   "metadata": {},
   "outputs": [],
   "source": []
  },
  {
   "cell_type": "code",
   "execution_count": null,
   "metadata": {},
   "outputs": [],
   "source": []
  },
  {
   "cell_type": "code",
   "execution_count": null,
   "metadata": {},
   "outputs": [],
   "source": []
  },
  {
   "cell_type": "markdown",
   "metadata": {},
   "source": [
    "### 🟣 **Remove the outliers**"
   ]
  },
  {
   "cell_type": "markdown",
   "metadata": {},
   "source": [
    "## Test"
   ]
  },
  {
   "cell_type": "code",
   "execution_count": 20,
   "metadata": {},
   "outputs": [
    {
     "data": {
      "text/plain": [
       "<matplotlib.lines.Line2D at 0x2c5164e9590>"
      ]
     },
     "execution_count": 20,
     "metadata": {},
     "output_type": "execute_result"
    },
    {
     "data": {
      "image/png": "[encoded data removed]",
      "text/plain": [
       "<Figure size 800x600 with 1 Axes>"
      ]
     },
     "metadata": {},
     "output_type": "display_data"
    }
   ],
   "source": [
    "fig = plt.figure(figsize=(8, 6))\n",
    "ax = fig.add_axes([0,0,1,1])\n",
    "\n",
    "sns.boxplot(ax=ax, data=df, x='TARGET', y='LDH')\n",
    "\n",
    "ax.axhline(y=485.75, color='b')\n",
    "\n",
    "ax.axhline(y=650, color = 'orange')\n",
    "\n",
    "ax.axhline(y=1200, color='g')"
   ]
  },
  {
   "cell_type": "code",
   "execution_count": null,
   "metadata": {},
   "outputs": [],
   "source": []
  },
  {
   "cell_type": "code",
   "execution_count": null,
   "metadata": {},
   "outputs": [],
   "source": []
  },
  {
   "cell_type": "markdown",
   "metadata": {},
   "source": [
    "## OUTLIERS Function"
   ]
  },
  {
   "cell_type": "code",
   "execution_count": 21,
   "metadata": {},
   "outputs": [],
   "source": [
    "def outliers(df, Target, feature, T):\n",
    "    \n",
    "    q1 = df[df[Target]==T][feature].quantile(0.25)\n",
    "    \n",
    "    q3 = df[df[Target]==T][feature].quantile(0.75)\n",
    "    \n",
    "    iqr = q3 - q1\n",
    "    \n",
    "    ub = (q3+(1.5*iqr))\n",
    "    \n",
    "#     lb = (q1-(1.5*iqr))\n",
    "    return ub"
   ]
  },
  {
   "cell_type": "code",
   "execution_count": 22,
   "metadata": {},
   "outputs": [],
   "source": [
    "def upperb(df, Target, feature):\n",
    "    ubs=[]\n",
    "    \n",
    "    for T in range(len(df[Target].unique())):\n",
    "        ubs.append(outliers(df, Target, feature, T))\n",
    "    \n",
    "    return ubs"
   ]
  },
  {
   "cell_type": "code",
   "execution_count": 23,
   "metadata": {},
   "outputs": [],
   "source": [
    "def boxplot(df, Target, feature):\n",
    "    fig = plt.figure(figsize=(8, 6))\n",
    "    ax = fig.add_axes([0,0,1,1])\n",
    "\n",
    "    sns.boxplot(ax=ax, data=df, x=Target, y=feature)\n",
    "    \n",
    "    y = upperb(df, Target, feature)\n",
    "\n",
    "    ax.axhline(y=y[0], color='b')\n",
    "\n",
    "    ax.axhline(y=y[1], color = 'orange')\n",
    "\n",
    "    ax.axhline(y=y[2], color='g')"
   ]
  },
  {
   "cell_type": "code",
   "execution_count": 24,
   "metadata": {},
   "outputs": [
    {
     "data": {
      "image/png": "[encoded data removed]",
      "text/plain": [
       "<Figure size 800x600 with 1 Axes>"
      ]
     },
     "metadata": {},
     "output_type": "display_data"
    }
   ],
   "source": [
    "boxplot(df, \"TARGET\", \"LDH\")"
   ]
  },
  {
   "cell_type": "code",
   "execution_count": 25,
   "metadata": {},
   "outputs": [],
   "source": [
    "def drop_outliers(df, Target, feature):\n",
    "    ubs=[]\n",
    "    \n",
    "    ubs= upperb(df, Target, feature)\n",
    "    \n",
    "    for T in range(len(df[Target].unique())):\n",
    "        df = df.drop(index= df[df[Target]==T][feature][df[feature]>ubs[T]].index,\n",
    "                    axis=0)\n",
    "    return df"
   ]
  },
  {
   "cell_type": "markdown",
   "metadata": {},
   "source": [
    "## LDH"
   ]
  },
  {
   "cell_type": "code",
   "execution_count": 26,
   "metadata": {},
   "outputs": [],
   "source": [
    "df = drop_outliers(df, \"TARGET\", \"LDH\")"
   ]
  },
  {
   "cell_type": "code",
   "execution_count": 27,
   "metadata": {},
   "outputs": [
    {
     "data": {
      "image/png": "[encoded data removed]",
      "text/plain": [
       "<Figure size 800x600 with 1 Axes>"
      ]
     },
     "metadata": {},
     "output_type": "display_data"
    }
   ],
   "source": [
    "boxplot(df, \"TARGET\", \"LDH\")"
   ]
  },
  {
   "cell_type": "code",
   "execution_count": null,
   "metadata": {},
   "outputs": [],
   "source": []
  },
  {
   "cell_type": "code",
   "execution_count": null,
   "metadata": {},
   "outputs": [],
   "source": []
  },
  {
   "cell_type": "markdown",
   "metadata": {},
   "source": [
    "## PCR"
   ]
  },
  {
   "cell_type": "code",
   "execution_count": 28,
   "metadata": {},
   "outputs": [],
   "source": [
    "df = drop_outliers(df, \"TARGET\", \"PCR\")"
   ]
  },
  {
   "cell_type": "code",
   "execution_count": null,
   "metadata": {},
   "outputs": [],
   "source": []
  },
  {
   "cell_type": "markdown",
   "metadata": {},
   "source": [
    "## AST"
   ]
  },
  {
   "cell_type": "code",
   "execution_count": 29,
   "metadata": {},
   "outputs": [],
   "source": [
    "df = drop_outliers(df, \"TARGET\", \"AST\")"
   ]
  },
  {
   "cell_type": "code",
   "execution_count": null,
   "metadata": {},
   "outputs": [],
   "source": []
  },
  {
   "cell_type": "markdown",
   "metadata": {},
   "source": [
    "## ALT"
   ]
  },
  {
   "cell_type": "code",
   "execution_count": 30,
   "metadata": {},
   "outputs": [],
   "source": [
    "df = drop_outliers(df, \"TARGET\", \"ALT\")"
   ]
  },
  {
   "cell_type": "code",
   "execution_count": null,
   "metadata": {},
   "outputs": [],
   "source": []
  },
  {
   "cell_type": "markdown",
   "metadata": {},
   "source": [
    "## Linfociti"
   ]
  },
  {
   "cell_type": "code",
   "execution_count": 31,
   "metadata": {},
   "outputs": [],
   "source": [
    "df = drop_outliers(df, \"TARGET\", \"Linfociti\")"
   ]
  },
  {
   "cell_type": "code",
   "execution_count": 32,
   "metadata": {},
   "outputs": [
    {
     "name": "stdout",
     "output_type": "stream",
     "text": [
      "<class 'pandas.core.frame.DataFrame'>\n",
      "Int64Index: 210 entries, 0 to 278\n",
      "Data columns (total 18 columns):\n",
      " #   Column      Non-Null Count  Dtype  \n",
      "---  ------      --------------  -----  \n",
      " 0   Country     210 non-null    object \n",
      " 1   date        210 non-null    object \n",
      " 2   SESSO       210 non-null    object \n",
      " 3   AGE         210 non-null    int64  \n",
      " 4   WBC         208 non-null    float64\n",
      " 5   Piastrine   208 non-null    float64\n",
      " 6   Neutrofili  151 non-null    float64\n",
      " 7   Linfociti   151 non-null    float64\n",
      " 8   Monociti    151 non-null    float64\n",
      " 9   Eosinofili  152 non-null    float64\n",
      " 10  Basofili    151 non-null    float64\n",
      " 11  PCR         204 non-null    float64\n",
      " 12  AST         208 non-null    float64\n",
      " 13  ALT         201 non-null    float64\n",
      " 14  ALP         95 non-null     float64\n",
      " 15  GGT         100 non-null    float64\n",
      " 16  LDH         142 non-null    float64\n",
      " 17  TARGET      210 non-null    int64  \n",
      "dtypes: float64(13), int64(2), object(3)\n",
      "memory usage: 31.2+ KB\n"
     ]
    }
   ],
   "source": [
    "df.info()"
   ]
  },
  {
   "cell_type": "code",
   "execution_count": null,
   "metadata": {},
   "outputs": [],
   "source": []
  },
  {
   "cell_type": "markdown",
   "metadata": {},
   "source": [
    "# 4. Handling Missing Values"
   ]
  },
  {
   "cell_type": "markdown",
   "metadata": {},
   "source": [
    "## Fill/Keep/Drop?"
   ]
  },
  {
   "cell_type": "code",
   "execution_count": 33,
   "metadata": {},
   "outputs": [
    {
     "data": {
      "text/html": [
       "<div>\n",
       "<style scoped>\n",
       "    .dataframe tbody tr th:only-of-type {\n",
       "        vertical-align: middle;\n",
       "    }\n",
       "\n",
       "    .dataframe tbody tr th {\n",
       "        vertical-align: top;\n",
       "    }\n",
       "\n",
       "    .dataframe thead th {\n",
       "        text-align: right;\n",
       "    }\n",
       "</style>\n",
       "<table border=\"1\" class=\"dataframe\">\n",
       "  <thead>\n",
       "    <tr style=\"text-align: right;\">\n",
       "      <th></th>\n",
       "      <th>Country</th>\n",
       "      <th>date</th>\n",
       "      <th>SESSO</th>\n",
       "      <th>AGE</th>\n",
       "      <th>WBC</th>\n",
       "      <th>Piastrine</th>\n",
       "      <th>Neutrofili</th>\n",
       "      <th>Linfociti</th>\n",
       "      <th>Monociti</th>\n",
       "      <th>Eosinofili</th>\n",
       "      <th>Basofili</th>\n",
       "      <th>PCR</th>\n",
       "      <th>AST</th>\n",
       "      <th>ALT</th>\n",
       "      <th>ALP</th>\n",
       "      <th>GGT</th>\n",
       "      <th>LDH</th>\n",
       "      <th>TARGET</th>\n",
       "    </tr>\n",
       "  </thead>\n",
       "  <tbody>\n",
       "    <tr>\n",
       "      <th>0</th>\n",
       "      <td>Canada</td>\n",
       "      <td>3/2/07</td>\n",
       "      <td>M</td>\n",
       "      <td>56</td>\n",
       "      <td>2.9</td>\n",
       "      <td>128.0</td>\n",
       "      <td>1.9</td>\n",
       "      <td>0.8</td>\n",
       "      <td>0.2</td>\n",
       "      <td>0.0</td>\n",
       "      <td>0.0</td>\n",
       "      <td>29.0</td>\n",
       "      <td>36.0</td>\n",
       "      <td>18.0</td>\n",
       "      <td>43.0</td>\n",
       "      <td>21.0</td>\n",
       "      <td>257.0</td>\n",
       "      <td>2</td>\n",
       "    </tr>\n",
       "    <tr>\n",
       "      <th>1</th>\n",
       "      <td>USA</td>\n",
       "      <td>3/22/07</td>\n",
       "      <td>M</td>\n",
       "      <td>56</td>\n",
       "      <td>3.5</td>\n",
       "      <td>151.0</td>\n",
       "      <td>2.1</td>\n",
       "      <td>0.9</td>\n",
       "      <td>0.4</td>\n",
       "      <td>0.0</td>\n",
       "      <td>0.0</td>\n",
       "      <td>16.5</td>\n",
       "      <td>25.0</td>\n",
       "      <td>14.0</td>\n",
       "      <td>50.0</td>\n",
       "      <td>17.0</td>\n",
       "      <td>207.0</td>\n",
       "      <td>2</td>\n",
       "    </tr>\n",
       "    <tr>\n",
       "      <th>2</th>\n",
       "      <td>Austria</td>\n",
       "      <td>4/6/07</td>\n",
       "      <td>M</td>\n",
       "      <td>72</td>\n",
       "      <td>4.6</td>\n",
       "      <td>206.0</td>\n",
       "      <td>NaN</td>\n",
       "      <td>NaN</td>\n",
       "      <td>NaN</td>\n",
       "      <td>NaN</td>\n",
       "      <td>NaN</td>\n",
       "      <td>193.7</td>\n",
       "      <td>31.0</td>\n",
       "      <td>22.0</td>\n",
       "      <td>NaN</td>\n",
       "      <td>NaN</td>\n",
       "      <td>NaN</td>\n",
       "      <td>2</td>\n",
       "    </tr>\n",
       "    <tr>\n",
       "      <th>3</th>\n",
       "      <td>Pakistan</td>\n",
       "      <td>4/14/07</td>\n",
       "      <td>M</td>\n",
       "      <td>72</td>\n",
       "      <td>16.5</td>\n",
       "      <td>316.0</td>\n",
       "      <td>14.0</td>\n",
       "      <td>1.2</td>\n",
       "      <td>0.3</td>\n",
       "      <td>0.0</td>\n",
       "      <td>0.0</td>\n",
       "      <td>318.7</td>\n",
       "      <td>96.0</td>\n",
       "      <td>33.0</td>\n",
       "      <td>80.0</td>\n",
       "      <td>42.0</td>\n",
       "      <td>651.0</td>\n",
       "      <td>2</td>\n",
       "    </tr>\n",
       "    <tr>\n",
       "      <th>4</th>\n",
       "      <td>germany</td>\n",
       "      <td>4/15/07</td>\n",
       "      <td>M</td>\n",
       "      <td>77</td>\n",
       "      <td>4.9</td>\n",
       "      <td>198.0</td>\n",
       "      <td>NaN</td>\n",
       "      <td>NaN</td>\n",
       "      <td>NaN</td>\n",
       "      <td>NaN</td>\n",
       "      <td>NaN</td>\n",
       "      <td>NaN</td>\n",
       "      <td>NaN</td>\n",
       "      <td>NaN</td>\n",
       "      <td>NaN</td>\n",
       "      <td>NaN</td>\n",
       "      <td>NaN</td>\n",
       "      <td>2</td>\n",
       "    </tr>\n",
       "  </tbody>\n",
       "</table>\n",
       "</div>"
      ],
      "text/plain": [
       "    Country     date SESSO  AGE   WBC  Piastrine  Neutrofili  Linfociti  \\\n",
       "0    Canada   3/2/07     M   56   2.9      128.0         1.9        0.8   \n",
       "1       USA  3/22/07     M   56   3.5      151.0         2.1        0.9   \n",
       "2   Austria   4/6/07     M   72   4.6      206.0         NaN        NaN   \n",
       "3  Pakistan  4/14/07     M   72  16.5      316.0        14.0        1.2   \n",
       "4   germany  4/15/07     M   77   4.9      198.0         NaN        NaN   \n",
       "\n",
       "   Monociti  Eosinofili  Basofili    PCR   AST   ALT   ALP   GGT    LDH  \\\n",
       "0       0.2         0.0       0.0   29.0  36.0  18.0  43.0  21.0  257.0   \n",
       "1       0.4         0.0       0.0   16.5  25.0  14.0  50.0  17.0  207.0   \n",
       "2       NaN         NaN       NaN  193.7  31.0  22.0   NaN   NaN    NaN   \n",
       "3       0.3         0.0       0.0  318.7  96.0  33.0  80.0  42.0  651.0   \n",
       "4       NaN         NaN       NaN    NaN   NaN   NaN   NaN   NaN    NaN   \n",
       "\n",
       "   TARGET  \n",
       "0       2  \n",
       "1       2  \n",
       "2       2  \n",
       "3       2  \n",
       "4       2  "
      ]
     },
     "execution_count": 33,
     "metadata": {},
     "output_type": "execute_result"
    }
   ],
   "source": [
    "df.head()"
   ]
  },
  {
   "cell_type": "markdown",
   "metadata": {},
   "source": [
    "## A. How Much Data is Missing?"
   ]
  },
  {
   "cell_type": "code",
   "execution_count": 34,
   "metadata": {},
   "outputs": [
    {
     "data": {
      "text/plain": [
       "Country         0\n",
       "date            0\n",
       "SESSO           0\n",
       "AGE             0\n",
       "WBC             2\n",
       "Piastrine       2\n",
       "Neutrofili     59\n",
       "Linfociti      59\n",
       "Monociti       59\n",
       "Eosinofili     58\n",
       "Basofili       59\n",
       "PCR             6\n",
       "AST             2\n",
       "ALT             9\n",
       "ALP           115\n",
       "GGT           110\n",
       "LDH            68\n",
       "TARGET          0\n",
       "dtype: int64"
      ]
     },
     "execution_count": 34,
     "metadata": {},
     "output_type": "execute_result"
    }
   ],
   "source": [
    "df.isnull().sum()"
   ]
  },
  {
   "cell_type": "markdown",
   "metadata": {},
   "source": [
    "### Make a Function to calculate the percent of missing data in each columns (feature) and then sort it"
   ]
  },
  {
   "cell_type": "code",
   "execution_count": 35,
   "metadata": {},
   "outputs": [],
   "source": [
    "def missing_per(df):\n",
    "    nan_per = 100*(df.isnull().sum()/len(df))\n",
    "    \n",
    "    nan_per = nan_per[nan_per>0].sort_values()\n",
    "    \n",
    "    return nan_per"
   ]
  },
  {
   "cell_type": "code",
   "execution_count": 36,
   "metadata": {},
   "outputs": [],
   "source": [
    "nan_per = missing_per(df)"
   ]
  },
  {
   "cell_type": "code",
   "execution_count": 37,
   "metadata": {},
   "outputs": [
    {
     "data": {
      "text/plain": [
       "WBC            0.952381\n",
       "Piastrine      0.952381\n",
       "AST            0.952381\n",
       "PCR            2.857143\n",
       "ALT            4.285714\n",
       "Eosinofili    27.619048\n",
       "Neutrofili    28.095238\n",
       "Linfociti     28.095238\n",
       "Monociti      28.095238\n",
       "Basofili      28.095238\n",
       "LDH           32.380952\n",
       "GGT           52.380952\n",
       "ALP           54.761905\n",
       "dtype: float64"
      ]
     },
     "execution_count": 37,
     "metadata": {},
     "output_type": "execute_result"
    }
   ],
   "source": [
    "nan_per"
   ]
  },
  {
   "cell_type": "markdown",
   "metadata": {},
   "source": [
    "### Plot the feature with missing indicating the percent of missing data:"
   ]
  },
  {
   "cell_type": "code",
   "execution_count": 38,
   "metadata": {},
   "outputs": [],
   "source": [
    "def plot(df):\n",
    "    nan_per = missing_per(df)\n",
    "    \n",
    "    plt.figure(figsize=(12, 6))\n",
    "    \n",
    "    sns.barplot(x=nan_per.index, y=nan_per)"
   ]
  },
  {
   "cell_type": "code",
   "execution_count": 39,
   "metadata": {},
   "outputs": [
    {
     "data": {
      "image/png": "[encoded data removed]",
      "text/plain": [
       "<Figure size 1200x600 with 1 Axes>"
      ]
     },
     "metadata": {},
     "output_type": "display_data"
    }
   ],
   "source": [
    "plot(df)"
   ]
  },
  {
   "cell_type": "markdown",
   "metadata": {},
   "source": [
    "## B. Working base on Rows Missing Data"
   ]
  },
  {
   "cell_type": "markdown",
   "metadata": {},
   "source": [
    "**If only a few rows are missing some values, then it might just be a good idea to drop those rows.** \n",
    "\n",
    "**What does this cost you in terms of performace? It essentialy removes potential training/testing data, but if its only a few rows, its unlikely to change performance.**"
   ]
  },
  {
   "cell_type": "markdown",
   "metadata": {},
   "source": [
    "**Every Feature with missing data must be checked!**\n",
    "\n",
    "**We choose a threshold of 1%. It means, if there is less than 1% of a feature are missing,then we will consider just dropping that rows**"
   ]
  },
  {
   "cell_type": "code",
   "execution_count": 40,
   "metadata": {},
   "outputs": [
    {
     "data": {
      "text/plain": [
       "WBC          0.952381\n",
       "Piastrine    0.952381\n",
       "AST          0.952381\n",
       "dtype: float64"
      ]
     },
     "execution_count": 40,
     "metadata": {},
     "output_type": "execute_result"
    }
   ],
   "source": [
    "nan_per[nan_per<1]"
   ]
  },
  {
   "cell_type": "code",
   "execution_count": 41,
   "metadata": {},
   "outputs": [
    {
     "data": {
      "text/html": [
       "<div>\n",
       "<style scoped>\n",
       "    .dataframe tbody tr th:only-of-type {\n",
       "        vertical-align: middle;\n",
       "    }\n",
       "\n",
       "    .dataframe tbody tr th {\n",
       "        vertical-align: top;\n",
       "    }\n",
       "\n",
       "    .dataframe thead th {\n",
       "        text-align: right;\n",
       "    }\n",
       "</style>\n",
       "<table border=\"1\" class=\"dataframe\">\n",
       "  <thead>\n",
       "    <tr style=\"text-align: right;\">\n",
       "      <th></th>\n",
       "      <th>Country</th>\n",
       "      <th>date</th>\n",
       "      <th>SESSO</th>\n",
       "      <th>AGE</th>\n",
       "      <th>WBC</th>\n",
       "      <th>Piastrine</th>\n",
       "      <th>Neutrofili</th>\n",
       "      <th>Linfociti</th>\n",
       "      <th>Monociti</th>\n",
       "      <th>Eosinofili</th>\n",
       "      <th>Basofili</th>\n",
       "      <th>PCR</th>\n",
       "      <th>AST</th>\n",
       "      <th>ALT</th>\n",
       "      <th>ALP</th>\n",
       "      <th>GGT</th>\n",
       "      <th>LDH</th>\n",
       "      <th>TARGET</th>\n",
       "    </tr>\n",
       "  </thead>\n",
       "  <tbody>\n",
       "    <tr>\n",
       "      <th>40</th>\n",
       "      <td>Austria</td>\n",
       "      <td>9/22/07</td>\n",
       "      <td>M</td>\n",
       "      <td>84</td>\n",
       "      <td>NaN</td>\n",
       "      <td>NaN</td>\n",
       "      <td>NaN</td>\n",
       "      <td>NaN</td>\n",
       "      <td>NaN</td>\n",
       "      <td>NaN</td>\n",
       "      <td>NaN</td>\n",
       "      <td>NaN</td>\n",
       "      <td>NaN</td>\n",
       "      <td>NaN</td>\n",
       "      <td>NaN</td>\n",
       "      <td>NaN</td>\n",
       "      <td>NaN</td>\n",
       "      <td>2</td>\n",
       "    </tr>\n",
       "    <tr>\n",
       "      <th>69</th>\n",
       "      <td>Norway</td>\n",
       "      <td>12/19/07</td>\n",
       "      <td>M</td>\n",
       "      <td>37</td>\n",
       "      <td>NaN</td>\n",
       "      <td>NaN</td>\n",
       "      <td>NaN</td>\n",
       "      <td>NaN</td>\n",
       "      <td>NaN</td>\n",
       "      <td>NaN</td>\n",
       "      <td>NaN</td>\n",
       "      <td>108.8</td>\n",
       "      <td>27.0</td>\n",
       "      <td>39.0</td>\n",
       "      <td>NaN</td>\n",
       "      <td>NaN</td>\n",
       "      <td>321.0</td>\n",
       "      <td>2</td>\n",
       "    </tr>\n",
       "  </tbody>\n",
       "</table>\n",
       "</div>"
      ],
      "text/plain": [
       "    Country      date SESSO  AGE  WBC  Piastrine  Neutrofili  Linfociti  \\\n",
       "40  Austria   9/22/07     M   84  NaN        NaN         NaN        NaN   \n",
       "69   Norway  12/19/07     M   37  NaN        NaN         NaN        NaN   \n",
       "\n",
       "    Monociti  Eosinofili  Basofili    PCR   AST   ALT  ALP  GGT    LDH  TARGET  \n",
       "40       NaN         NaN       NaN    NaN   NaN   NaN  NaN  NaN    NaN       2  \n",
       "69       NaN         NaN       NaN  108.8  27.0  39.0  NaN  NaN  321.0       2  "
      ]
     },
     "execution_count": 41,
     "metadata": {},
     "output_type": "execute_result"
    }
   ],
   "source": [
    "df[df['WBC'].isnull()]"
   ]
  },
  {
   "cell_type": "code",
   "execution_count": 42,
   "metadata": {},
   "outputs": [
    {
     "data": {
      "text/html": [
       "<div>\n",
       "<style scoped>\n",
       "    .dataframe tbody tr th:only-of-type {\n",
       "        vertical-align: middle;\n",
       "    }\n",
       "\n",
       "    .dataframe tbody tr th {\n",
       "        vertical-align: top;\n",
       "    }\n",
       "\n",
       "    .dataframe thead th {\n",
       "        text-align: right;\n",
       "    }\n",
       "</style>\n",
       "<table border=\"1\" class=\"dataframe\">\n",
       "  <thead>\n",
       "    <tr style=\"text-align: right;\">\n",
       "      <th></th>\n",
       "      <th>Country</th>\n",
       "      <th>date</th>\n",
       "      <th>SESSO</th>\n",
       "      <th>AGE</th>\n",
       "      <th>WBC</th>\n",
       "      <th>Piastrine</th>\n",
       "      <th>Neutrofili</th>\n",
       "      <th>Linfociti</th>\n",
       "      <th>Monociti</th>\n",
       "      <th>Eosinofili</th>\n",
       "      <th>Basofili</th>\n",
       "      <th>PCR</th>\n",
       "      <th>AST</th>\n",
       "      <th>ALT</th>\n",
       "      <th>ALP</th>\n",
       "      <th>GGT</th>\n",
       "      <th>LDH</th>\n",
       "      <th>TARGET</th>\n",
       "    </tr>\n",
       "  </thead>\n",
       "  <tbody>\n",
       "    <tr>\n",
       "      <th>4</th>\n",
       "      <td>germany</td>\n",
       "      <td>4/15/07</td>\n",
       "      <td>M</td>\n",
       "      <td>77</td>\n",
       "      <td>4.9</td>\n",
       "      <td>198.0</td>\n",
       "      <td>NaN</td>\n",
       "      <td>NaN</td>\n",
       "      <td>NaN</td>\n",
       "      <td>NaN</td>\n",
       "      <td>NaN</td>\n",
       "      <td>NaN</td>\n",
       "      <td>NaN</td>\n",
       "      <td>NaN</td>\n",
       "      <td>NaN</td>\n",
       "      <td>NaN</td>\n",
       "      <td>NaN</td>\n",
       "      <td>2</td>\n",
       "    </tr>\n",
       "    <tr>\n",
       "      <th>40</th>\n",
       "      <td>Austria</td>\n",
       "      <td>9/22/07</td>\n",
       "      <td>M</td>\n",
       "      <td>84</td>\n",
       "      <td>NaN</td>\n",
       "      <td>NaN</td>\n",
       "      <td>NaN</td>\n",
       "      <td>NaN</td>\n",
       "      <td>NaN</td>\n",
       "      <td>NaN</td>\n",
       "      <td>NaN</td>\n",
       "      <td>NaN</td>\n",
       "      <td>NaN</td>\n",
       "      <td>NaN</td>\n",
       "      <td>NaN</td>\n",
       "      <td>NaN</td>\n",
       "      <td>NaN</td>\n",
       "      <td>2</td>\n",
       "    </tr>\n",
       "  </tbody>\n",
       "</table>\n",
       "</div>"
      ],
      "text/plain": [
       "    Country     date SESSO  AGE  WBC  Piastrine  Neutrofili  Linfociti  \\\n",
       "4   germany  4/15/07     M   77  4.9      198.0         NaN        NaN   \n",
       "40  Austria  9/22/07     M   84  NaN        NaN         NaN        NaN   \n",
       "\n",
       "    Monociti  Eosinofili  Basofili  PCR  AST  ALT  ALP  GGT  LDH  TARGET  \n",
       "4        NaN         NaN       NaN  NaN  NaN  NaN  NaN  NaN  NaN       2  \n",
       "40       NaN         NaN       NaN  NaN  NaN  NaN  NaN  NaN  NaN       2  "
      ]
     },
     "execution_count": 42,
     "metadata": {},
     "output_type": "execute_result"
    }
   ],
   "source": [
    "df[df['AST'].isnull()]"
   ]
  },
  {
   "cell_type": "code",
   "execution_count": 43,
   "metadata": {},
   "outputs": [
    {
     "data": {
      "text/html": [
       "<div>\n",
       "<style scoped>\n",
       "    .dataframe tbody tr th:only-of-type {\n",
       "        vertical-align: middle;\n",
       "    }\n",
       "\n",
       "    .dataframe tbody tr th {\n",
       "        vertical-align: top;\n",
       "    }\n",
       "\n",
       "    .dataframe thead th {\n",
       "        text-align: right;\n",
       "    }\n",
       "</style>\n",
       "<table border=\"1\" class=\"dataframe\">\n",
       "  <thead>\n",
       "    <tr style=\"text-align: right;\">\n",
       "      <th></th>\n",
       "      <th>Country</th>\n",
       "      <th>date</th>\n",
       "      <th>SESSO</th>\n",
       "      <th>AGE</th>\n",
       "      <th>WBC</th>\n",
       "      <th>Piastrine</th>\n",
       "      <th>Neutrofili</th>\n",
       "      <th>Linfociti</th>\n",
       "      <th>Monociti</th>\n",
       "      <th>Eosinofili</th>\n",
       "      <th>Basofili</th>\n",
       "      <th>PCR</th>\n",
       "      <th>AST</th>\n",
       "      <th>ALT</th>\n",
       "      <th>ALP</th>\n",
       "      <th>GGT</th>\n",
       "      <th>LDH</th>\n",
       "      <th>TARGET</th>\n",
       "    </tr>\n",
       "  </thead>\n",
       "  <tbody>\n",
       "    <tr>\n",
       "      <th>40</th>\n",
       "      <td>Austria</td>\n",
       "      <td>9/22/07</td>\n",
       "      <td>M</td>\n",
       "      <td>84</td>\n",
       "      <td>NaN</td>\n",
       "      <td>NaN</td>\n",
       "      <td>NaN</td>\n",
       "      <td>NaN</td>\n",
       "      <td>NaN</td>\n",
       "      <td>NaN</td>\n",
       "      <td>NaN</td>\n",
       "      <td>NaN</td>\n",
       "      <td>NaN</td>\n",
       "      <td>NaN</td>\n",
       "      <td>NaN</td>\n",
       "      <td>NaN</td>\n",
       "      <td>NaN</td>\n",
       "      <td>2</td>\n",
       "    </tr>\n",
       "    <tr>\n",
       "      <th>69</th>\n",
       "      <td>Norway</td>\n",
       "      <td>12/19/07</td>\n",
       "      <td>M</td>\n",
       "      <td>37</td>\n",
       "      <td>NaN</td>\n",
       "      <td>NaN</td>\n",
       "      <td>NaN</td>\n",
       "      <td>NaN</td>\n",
       "      <td>NaN</td>\n",
       "      <td>NaN</td>\n",
       "      <td>NaN</td>\n",
       "      <td>108.8</td>\n",
       "      <td>27.0</td>\n",
       "      <td>39.0</td>\n",
       "      <td>NaN</td>\n",
       "      <td>NaN</td>\n",
       "      <td>321.0</td>\n",
       "      <td>2</td>\n",
       "    </tr>\n",
       "  </tbody>\n",
       "</table>\n",
       "</div>"
      ],
      "text/plain": [
       "    Country      date SESSO  AGE  WBC  Piastrine  Neutrofili  Linfociti  \\\n",
       "40  Austria   9/22/07     M   84  NaN        NaN         NaN        NaN   \n",
       "69   Norway  12/19/07     M   37  NaN        NaN         NaN        NaN   \n",
       "\n",
       "    Monociti  Eosinofili  Basofili    PCR   AST   ALT  ALP  GGT    LDH  TARGET  \n",
       "40       NaN         NaN       NaN    NaN   NaN   NaN  NaN  NaN    NaN       2  \n",
       "69       NaN         NaN       NaN  108.8  27.0  39.0  NaN  NaN  321.0       2  "
      ]
     },
     "execution_count": 43,
     "metadata": {},
     "output_type": "execute_result"
    }
   ],
   "source": [
    "df[df['Piastrine'].isnull()]"
   ]
  },
  {
   "cell_type": "code",
   "execution_count": null,
   "metadata": {},
   "outputs": [],
   "source": []
  },
  {
   "cell_type": "markdown",
   "metadata": {},
   "source": [
    "### Dropping Rows:"
   ]
  },
  {
   "cell_type": "code",
   "execution_count": 44,
   "metadata": {},
   "outputs": [],
   "source": [
    "df= df.dropna(axis=0, subset=['WBC', 'Piastrine', 'AST'])"
   ]
  },
  {
   "cell_type": "code",
   "execution_count": 45,
   "metadata": {},
   "outputs": [
    {
     "data": {
      "text/plain": [
       "PCR            1.932367\n",
       "ALT            3.381643\n",
       "Eosinofili    26.570048\n",
       "Neutrofili    27.053140\n",
       "Linfociti     27.053140\n",
       "Monociti      27.053140\n",
       "Basofili      27.053140\n",
       "LDH           31.884058\n",
       "GGT           51.690821\n",
       "ALP           54.106280\n",
       "dtype: float64"
      ]
     },
     "execution_count": 45,
     "metadata": {},
     "output_type": "execute_result"
    }
   ],
   "source": [
    "missing_per(df)"
   ]
  },
  {
   "cell_type": "code",
   "execution_count": 46,
   "metadata": {},
   "outputs": [
    {
     "data": {
      "image/png": "[encoded data removed]",
      "text/plain": [
       "<Figure size 1200x600 with 1 Axes>"
      ]
     },
     "metadata": {},
     "output_type": "display_data"
    }
   ],
   "source": [
    "plot(df)"
   ]
  },
  {
   "cell_type": "code",
   "execution_count": null,
   "metadata": {},
   "outputs": [],
   "source": []
  },
  {
   "cell_type": "code",
   "execution_count": null,
   "metadata": {},
   "outputs": [],
   "source": []
  },
  {
   "cell_type": "markdown",
   "metadata": {},
   "source": [
    "## Filling the missing values:"
   ]
  },
  {
   "cell_type": "markdown",
   "metadata": {},
   "source": [
    "## C. Working based on Columns Missing Data"
   ]
  },
  {
   "cell_type": "code",
   "execution_count": 47,
   "metadata": {},
   "outputs": [
    {
     "data": {
      "text/plain": [
       "PCR    1.932367\n",
       "ALT    3.381643\n",
       "dtype: float64"
      ]
     },
     "execution_count": 47,
     "metadata": {},
     "output_type": "execute_result"
    }
   ],
   "source": [
    "nan_per = missing_per(df)\n",
    "nan_per[nan_per<10]"
   ]
  },
  {
   "cell_type": "code",
   "execution_count": 48,
   "metadata": {},
   "outputs": [],
   "source": [
    "df['PCR'] = df['PCR'].fillna(df['PCR'].mean())"
   ]
  },
  {
   "cell_type": "code",
   "execution_count": 49,
   "metadata": {},
   "outputs": [],
   "source": [
    "df['ALT'] = df['ALT'].fillna(df['ALT'].mean())"
   ]
  },
  {
   "cell_type": "code",
   "execution_count": 50,
   "metadata": {},
   "outputs": [
    {
     "data": {
      "text/plain": [
       "Eosinofili    26.570048\n",
       "Neutrofili    27.053140\n",
       "Linfociti     27.053140\n",
       "Monociti      27.053140\n",
       "Basofili      27.053140\n",
       "LDH           31.884058\n",
       "GGT           51.690821\n",
       "ALP           54.106280\n",
       "dtype: float64"
      ]
     },
     "execution_count": 50,
     "metadata": {},
     "output_type": "execute_result"
    }
   ],
   "source": [
    "missing_per(df)"
   ]
  },
  {
   "cell_type": "code",
   "execution_count": null,
   "metadata": {},
   "outputs": [],
   "source": []
  },
  {
   "cell_type": "markdown",
   "metadata": {},
   "source": [
    "## Remove the Columns with more than 50% missing values"
   ]
  },
  {
   "cell_type": "markdown",
   "metadata": {},
   "source": [
    "### GGT"
   ]
  },
  {
   "cell_type": "code",
   "execution_count": 51,
   "metadata": {},
   "outputs": [],
   "source": [
    "df = df.drop('GGT', axis=1)"
   ]
  },
  {
   "cell_type": "code",
   "execution_count": null,
   "metadata": {},
   "outputs": [],
   "source": []
  },
  {
   "cell_type": "markdown",
   "metadata": {},
   "source": [
    "### ALP"
   ]
  },
  {
   "cell_type": "code",
   "execution_count": 52,
   "metadata": {},
   "outputs": [],
   "source": [
    "df = df.drop('ALP', axis=1)"
   ]
  },
  {
   "cell_type": "code",
   "execution_count": 53,
   "metadata": {},
   "outputs": [
    {
     "data": {
      "text/plain": [
       "Eosinofili    26.570048\n",
       "Neutrofili    27.053140\n",
       "Linfociti     27.053140\n",
       "Monociti      27.053140\n",
       "Basofili      27.053140\n",
       "LDH           31.884058\n",
       "dtype: float64"
      ]
     },
     "execution_count": 53,
     "metadata": {},
     "output_type": "execute_result"
    }
   ],
   "source": [
    "missing_per(df)"
   ]
  },
  {
   "cell_type": "markdown",
   "metadata": {},
   "source": [
    "### PLOT"
   ]
  },
  {
   "cell_type": "code",
   "execution_count": 54,
   "metadata": {},
   "outputs": [
    {
     "data": {
      "image/png": "[encoded data removed]",
      "text/plain": [
       "<Figure size 1200x600 with 1 Axes>"
      ]
     },
     "metadata": {},
     "output_type": "display_data"
    }
   ],
   "source": [
    "plot(df)"
   ]
  },
  {
   "cell_type": "markdown",
   "metadata": {},
   "source": [
    "## D. Imputation of Missing Data"
   ]
  },
  {
   "cell_type": "markdown",
   "metadata": {},
   "source": [
    "## What are the Stages of Life?\n",
    "\n",
    "- Infant = 0-1 year.\n",
    "- Toddler = 2-4 yrs.\n",
    "- Child = 5-12 yrs.\n",
    "- Teen = 13-19 yrs.\n",
    "- Adult = 20-39 yrs.\n",
    "- Middle Age Adult = 40-59 yrs.\n",
    "- Senior Adult = 60+"
   ]
  },
  {
   "cell_type": "code",
   "execution_count": 55,
   "metadata": {},
   "outputs": [
    {
     "data": {
      "text/plain": [
       "array([ 0, 18, 23, 25, 26, 28, 29, 30, 32, 33, 34, 36, 37, 38, 39, 40, 41,\n",
       "       42, 44, 45, 46, 47, 48, 49, 50, 51, 52, 53, 54, 55, 56, 57, 58, 59,\n",
       "       60, 61, 62, 63, 64, 65, 66, 67, 68, 69, 70, 71, 72, 74, 75, 76, 77,\n",
       "       79, 80, 81, 82, 84, 85, 86, 87, 89, 90, 91, 93, 94, 95],\n",
       "      dtype=int64)"
      ]
     },
     "execution_count": 55,
     "metadata": {},
     "output_type": "execute_result"
    }
   ],
   "source": [
    "np.sort(df['AGE'].unique())"
   ]
  },
  {
   "cell_type": "code",
   "execution_count": 56,
   "metadata": {},
   "outputs": [],
   "source": [
    "def ageGroup(age):\n",
    "    \n",
    "    if(age>=0 and age<=19):\n",
    "        return 'Teen'\n",
    "    \n",
    "    elif(age>19 and age<=39):\n",
    "        return 'Adult'\n",
    "    \n",
    "    elif(age>39 and age<=59):\n",
    "        return 'Middle Age Adult'\n",
    "    \n",
    "    elif(age>=60):\n",
    "        return 'Senior Adult'"
   ]
  },
  {
   "cell_type": "code",
   "execution_count": 57,
   "metadata": {},
   "outputs": [],
   "source": [
    "df['AgeGroups'] = df['AGE'].apply(ageGroup)"
   ]
  },
  {
   "cell_type": "code",
   "execution_count": 58,
   "metadata": {},
   "outputs": [
    {
     "data": {
      "text/plain": [
       "0      Middle Age Adult\n",
       "1      Middle Age Adult\n",
       "2          Senior Adult\n",
       "3          Senior Adult\n",
       "5          Senior Adult\n",
       "             ...       \n",
       "274    Middle Age Adult\n",
       "275               Adult\n",
       "276    Middle Age Adult\n",
       "277    Middle Age Adult\n",
       "278    Middle Age Adult\n",
       "Name: AgeGroups, Length: 207, dtype: object"
      ]
     },
     "execution_count": 58,
     "metadata": {},
     "output_type": "execute_result"
    }
   ],
   "source": [
    "df['AgeGroups']"
   ]
  },
  {
   "cell_type": "code",
   "execution_count": null,
   "metadata": {},
   "outputs": [],
   "source": []
  },
  {
   "cell_type": "markdown",
   "metadata": {},
   "source": [
    "### Eosinofili"
   ]
  },
  {
   "cell_type": "code",
   "execution_count": 59,
   "metadata": {},
   "outputs": [],
   "source": [
    "df['Eosinofili'] = df.groupby('AgeGroups')['Eosinofili'].transform(lambda x: x.fillna(x.mean()))"
   ]
  },
  {
   "cell_type": "code",
   "execution_count": 60,
   "metadata": {},
   "outputs": [
    {
     "data": {
      "text/plain": [
       "Neutrofili    27.053140\n",
       "Linfociti     27.053140\n",
       "Monociti      27.053140\n",
       "Basofili      27.053140\n",
       "LDH           31.884058\n",
       "dtype: float64"
      ]
     },
     "execution_count": 60,
     "metadata": {},
     "output_type": "execute_result"
    }
   ],
   "source": [
    "missing_per(df)"
   ]
  },
  {
   "cell_type": "code",
   "execution_count": null,
   "metadata": {},
   "outputs": [],
   "source": []
  },
  {
   "cell_type": "code",
   "execution_count": null,
   "metadata": {},
   "outputs": [],
   "source": []
  },
  {
   "cell_type": "markdown",
   "metadata": {},
   "source": [
    "### Neutrofili"
   ]
  },
  {
   "cell_type": "code",
   "execution_count": 61,
   "metadata": {},
   "outputs": [],
   "source": [
    "df['Neutrofili'] = df['Neutrofili'].fillna(df['Neutrofili'].mean())"
   ]
  },
  {
   "cell_type": "code",
   "execution_count": 62,
   "metadata": {},
   "outputs": [
    {
     "data": {
      "text/plain": [
       "Linfociti    27.053140\n",
       "Monociti     27.053140\n",
       "Basofili     27.053140\n",
       "LDH          31.884058\n",
       "dtype: float64"
      ]
     },
     "execution_count": 62,
     "metadata": {},
     "output_type": "execute_result"
    }
   ],
   "source": [
    "missing_per(df)"
   ]
  },
  {
   "cell_type": "markdown",
   "metadata": {},
   "source": [
    "### Linfociti"
   ]
  },
  {
   "cell_type": "code",
   "execution_count": 63,
   "metadata": {},
   "outputs": [],
   "source": [
    "male = df[df['SESSO']=='M']\n",
    "\n",
    "female = df[df['SESSO']=='F']"
   ]
  },
  {
   "cell_type": "code",
   "execution_count": 64,
   "metadata": {},
   "outputs": [
    {
     "name": "stderr",
     "output_type": "stream",
     "text": [
      "C:\\Users\\amini\\AppData\\Local\\Temp\\ipykernel_18188\\641595925.py:1: SettingWithCopyWarning: \n",
      "A value is trying to be set on a copy of a slice from a DataFrame.\n",
      "Try using .loc[row_indexer,col_indexer] = value instead\n",
      "\n",
      "See the caveats in the documentation: https://pandas.pydata.org/pandas-docs/stable/user_guide/indexing.html#returning-a-view-versus-a-copy\n",
      "  male['Linfociti'] = male.groupby(by='AgeGroups')['Linfociti'].transform(lambda x: x.fillna(x.mean()))\n"
     ]
    }
   ],
   "source": [
    "male['Linfociti'] = male.groupby(by='AgeGroups')['Linfociti'].transform(lambda x: x.fillna(x.mean()))"
   ]
  },
  {
   "cell_type": "code",
   "execution_count": 65,
   "metadata": {},
   "outputs": [
    {
     "name": "stderr",
     "output_type": "stream",
     "text": [
      "C:\\Users\\amini\\AppData\\Local\\Temp\\ipykernel_18188\\1603174101.py:1: SettingWithCopyWarning: \n",
      "A value is trying to be set on a copy of a slice from a DataFrame.\n",
      "Try using .loc[row_indexer,col_indexer] = value instead\n",
      "\n",
      "See the caveats in the documentation: https://pandas.pydata.org/pandas-docs/stable/user_guide/indexing.html#returning-a-view-versus-a-copy\n",
      "  female['Linfociti'] = female.groupby(by='AgeGroups')['Linfociti'].transform(lambda x: x.fillna(x.mean()))\n"
     ]
    }
   ],
   "source": [
    "female['Linfociti'] = female.groupby(by='AgeGroups')['Linfociti'].transform(lambda x: x.fillna(x.mean()))"
   ]
  },
  {
   "cell_type": "code",
   "execution_count": 66,
   "metadata": {},
   "outputs": [],
   "source": [
    "df = pd.concat([male, female], axis=0)"
   ]
  },
  {
   "cell_type": "code",
   "execution_count": 67,
   "metadata": {},
   "outputs": [
    {
     "data": {
      "text/plain": [
       "Linfociti     0.483092\n",
       "Monociti     27.053140\n",
       "Basofili     27.053140\n",
       "LDH          31.884058\n",
       "dtype: float64"
      ]
     },
     "execution_count": 67,
     "metadata": {},
     "output_type": "execute_result"
    }
   ],
   "source": [
    "missing_per(df)"
   ]
  },
  {
   "cell_type": "code",
   "execution_count": 68,
   "metadata": {},
   "outputs": [
    {
     "data": {
      "text/html": [
       "<div>\n",
       "<style scoped>\n",
       "    .dataframe tbody tr th:only-of-type {\n",
       "        vertical-align: middle;\n",
       "    }\n",
       "\n",
       "    .dataframe tbody tr th {\n",
       "        vertical-align: top;\n",
       "    }\n",
       "\n",
       "    .dataframe thead th {\n",
       "        text-align: right;\n",
       "    }\n",
       "</style>\n",
       "<table border=\"1\" class=\"dataframe\">\n",
       "  <thead>\n",
       "    <tr style=\"text-align: right;\">\n",
       "      <th></th>\n",
       "      <th>Country</th>\n",
       "      <th>date</th>\n",
       "      <th>SESSO</th>\n",
       "      <th>AGE</th>\n",
       "      <th>WBC</th>\n",
       "      <th>Piastrine</th>\n",
       "      <th>Neutrofili</th>\n",
       "      <th>Linfociti</th>\n",
       "      <th>Monociti</th>\n",
       "      <th>Eosinofili</th>\n",
       "      <th>Basofili</th>\n",
       "      <th>PCR</th>\n",
       "      <th>AST</th>\n",
       "      <th>ALT</th>\n",
       "      <th>LDH</th>\n",
       "      <th>TARGET</th>\n",
       "      <th>AgeGroups</th>\n",
       "    </tr>\n",
       "  </thead>\n",
       "  <tbody>\n",
       "    <tr>\n",
       "      <th>202</th>\n",
       "      <td>Italy</td>\n",
       "      <td>7/31/09</td>\n",
       "      <td>F</td>\n",
       "      <td>18</td>\n",
       "      <td>9.2</td>\n",
       "      <td>311.0</td>\n",
       "      <td>5.913907</td>\n",
       "      <td>NaN</td>\n",
       "      <td>NaN</td>\n",
       "      <td>0.0</td>\n",
       "      <td>NaN</td>\n",
       "      <td>0.1</td>\n",
       "      <td>24.0</td>\n",
       "      <td>27.0</td>\n",
       "      <td>142.0</td>\n",
       "      <td>0</td>\n",
       "      <td>Teen</td>\n",
       "    </tr>\n",
       "  </tbody>\n",
       "</table>\n",
       "</div>"
      ],
      "text/plain": [
       "    Country     date SESSO  AGE  WBC  Piastrine  Neutrofili  Linfociti  \\\n",
       "202   Italy  7/31/09     F   18  9.2      311.0    5.913907        NaN   \n",
       "\n",
       "     Monociti  Eosinofili  Basofili  PCR   AST   ALT    LDH  TARGET AgeGroups  \n",
       "202       NaN         0.0       NaN  0.1  24.0  27.0  142.0       0      Teen  "
      ]
     },
     "execution_count": 68,
     "metadata": {},
     "output_type": "execute_result"
    }
   ],
   "source": [
    "df[df['Linfociti'].isnull()==True]"
   ]
  },
  {
   "cell_type": "code",
   "execution_count": 69,
   "metadata": {},
   "outputs": [],
   "source": [
    "df['Linfociti'] = df['Linfociti'].fillna(df['Linfociti'].mean())"
   ]
  },
  {
   "cell_type": "code",
   "execution_count": 70,
   "metadata": {},
   "outputs": [
    {
     "data": {
      "text/plain": [
       "Monociti    27.053140\n",
       "Basofili    27.053140\n",
       "LDH         31.884058\n",
       "dtype: float64"
      ]
     },
     "execution_count": 70,
     "metadata": {},
     "output_type": "execute_result"
    }
   ],
   "source": [
    "missing_per(df)"
   ]
  },
  {
   "cell_type": "markdown",
   "metadata": {},
   "source": [
    "### Monociti"
   ]
  },
  {
   "cell_type": "code",
   "execution_count": 71,
   "metadata": {},
   "outputs": [],
   "source": [
    "df['Monociti'] = df['Monociti'].fillna(df['Monociti'].mean())"
   ]
  },
  {
   "cell_type": "code",
   "execution_count": 72,
   "metadata": {},
   "outputs": [
    {
     "data": {
      "text/plain": [
       "Basofili    27.053140\n",
       "LDH         31.884058\n",
       "dtype: float64"
      ]
     },
     "execution_count": 72,
     "metadata": {},
     "output_type": "execute_result"
    }
   ],
   "source": [
    "missing_per(df)"
   ]
  },
  {
   "cell_type": "markdown",
   "metadata": {},
   "source": [
    "### Basofili"
   ]
  },
  {
   "cell_type": "code",
   "execution_count": 73,
   "metadata": {},
   "outputs": [],
   "source": [
    "df['Basofili'] = df['Basofili'].fillna(df['Basofili'].mean())"
   ]
  },
  {
   "cell_type": "code",
   "execution_count": 74,
   "metadata": {},
   "outputs": [
    {
     "data": {
      "text/plain": [
       "LDH    31.884058\n",
       "dtype: float64"
      ]
     },
     "execution_count": 74,
     "metadata": {},
     "output_type": "execute_result"
    }
   ],
   "source": [
    "missing_per(df)"
   ]
  },
  {
   "cell_type": "markdown",
   "metadata": {},
   "source": [
    "### LDH"
   ]
  },
  {
   "cell_type": "code",
   "execution_count": 75,
   "metadata": {},
   "outputs": [],
   "source": [
    "df['LDH'] = df.groupby(by='AgeGroups')['LDH'].transform(lambda x: x.fillna(x.mean()))"
   ]
  },
  {
   "cell_type": "markdown",
   "metadata": {},
   "source": [
    "# 5. Now, we don't have any Missing Data"
   ]
  },
  {
   "cell_type": "code",
   "execution_count": 76,
   "metadata": {},
   "outputs": [
    {
     "data": {
      "text/plain": [
       "Series([], dtype: float64)"
      ]
     },
     "execution_count": 76,
     "metadata": {},
     "output_type": "execute_result"
    }
   ],
   "source": [
    "missing_per(df)"
   ]
  },
  {
   "cell_type": "markdown",
   "metadata": {},
   "source": [
    "# 6.Save Dataset"
   ]
  },
  {
   "cell_type": "code",
   "execution_count": 77,
   "metadata": {},
   "outputs": [],
   "source": [
    "#save\n",
    "\n",
    "df.to_csv('COVID19_new.csv')"
   ]
  },
  {
   "cell_type": "markdown",
   "metadata": {},
   "source": [
    "## Finished\n",
    "\n",
    "\n"
   ]
  }
 ],
 "metadata": {
  "kernelspec": {
   "display_name": "Python 3 (ipykernel)",
   "language": "python",
   "name": "python3"
  },
  "language_info": {
   "codemirror_mode": {
    "name": "ipython",
    "version": 3
   },
   "file_extension": ".py",
   "mimetype": "text/x-python",
   "name": "python",
   "nbconvert_exporter": "python",
   "pygments_lexer": "ipython3",
   "version": "3.11.4"
  }
 },
 "nbformat": 4,
 "nbformat_minor": 4
}
