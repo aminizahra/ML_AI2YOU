{
 "cells": [
  {
   "cell_type": "markdown",
   "id": "b5ab29d4",
   "metadata": {},
   "source": [
    "<img src=\"https://github.com/aminizahra/ML_AI2YOU/blob/main/AI2YOU.png?raw=true\" alt=\"AI2YOU\" width=\"300\" height=\"300\">\n",
    "<h1 align=\"center\"><font size = 14>Hands-On Machine Learning</font></h1>\n",
    "<br>\n",
    "<h2 align=\"center\"><font size = 5>Regularization</font></h2>\n",
    "<h3 align=\"center\">Zahra Amini</h3>\n",
    "<br>\n",
    "<br>\n",
    "<br>\n",
    "<br>\n",
    "<br>"
   ]
  },
  {
   "cell_type": "markdown",
   "id": "aa4d88c1",
   "metadata": {},
   "source": [
    "# Step1: Import all Necessary Libraries"
   ]
  },
  {
   "cell_type": "code",
   "execution_count": 1,
   "id": "93264060",
   "metadata": {},
   "outputs": [],
   "source": [
    "import numpy as np\n",
    "import pandas as pd\n",
    "import matplotlib.pyplot as plt\n",
    "import seaborn as sns\n",
    "%matplotlib inline"
   ]
  },
  {
   "cell_type": "code",
   "execution_count": 2,
   "id": "f53ebe1c",
   "metadata": {},
   "outputs": [],
   "source": [
    "from sklearn.preprocessing import StandardScaler\n",
    "\n",
    "from sklearn.model_selection import train_test_split\n",
    "\n",
    "from sklearn.linear_model import LinearRegression\n",
    "\n",
    "from sklearn.preprocessing import PolynomialFeatures\n",
    "\n",
    "from sklearn.linear_model import Ridge\n",
    "\n",
    "from sklearn.metrics import mean_absolute_error, mean_squared_error\n",
    "\n",
    "from sklearn.linear_model import RidgeCV\n",
    "\n",
    "from sklearn.linear_model import Lasso\n",
    "\n",
    "from sklearn.linear_model import LassoCV\n",
    "\n",
    "from sklearn.linear_model import ElasticNetCV"
   ]
  },
  {
   "cell_type": "markdown",
   "id": "2e60a41b",
   "metadata": {},
   "source": [
    "# Step2: Read Data"
   ]
  },
  {
   "cell_type": "code",
   "execution_count": 3,
   "id": "9219ca2d",
   "metadata": {},
   "outputs": [],
   "source": [
    "column_names = ['CRIM', 'ZN', 'INDUS', 'CHAS', 'NOX', 'RM', 'AGE', 'DIS', 'RAD', 'TAX', 'PTRATIO', 'B', 'LSTAT', 'Price']\n",
    "df = pd.read_csv('Boston_house_price.csv', delimiter=\"\\s+\", names=column_names)"
   ]
  },
  {
   "cell_type": "markdown",
   "id": "9be19987",
   "metadata": {},
   "source": [
    "# Step3: Data Overview"
   ]
  },
  {
   "cell_type": "code",
   "execution_count": 4,
   "id": "5ad3fd85",
   "metadata": {},
   "outputs": [
    {
     "data": {
      "text/html": [
       "<div>\n",
       "<style scoped>\n",
       "    .dataframe tbody tr th:only-of-type {\n",
       "        vertical-align: middle;\n",
       "    }\n",
       "\n",
       "    .dataframe tbody tr th {\n",
       "        vertical-align: top;\n",
       "    }\n",
       "\n",
       "    .dataframe thead th {\n",
       "        text-align: right;\n",
       "    }\n",
       "</style>\n",
       "<table border=\"1\" class=\"dataframe\">\n",
       "  <thead>\n",
       "    <tr style=\"text-align: right;\">\n",
       "      <th></th>\n",
       "      <th>CRIM</th>\n",
       "      <th>ZN</th>\n",
       "      <th>INDUS</th>\n",
       "      <th>CHAS</th>\n",
       "      <th>NOX</th>\n",
       "      <th>RM</th>\n",
       "      <th>AGE</th>\n",
       "      <th>DIS</th>\n",
       "      <th>RAD</th>\n",
       "      <th>TAX</th>\n",
       "      <th>PTRATIO</th>\n",
       "      <th>B</th>\n",
       "      <th>LSTAT</th>\n",
       "      <th>Price</th>\n",
       "    </tr>\n",
       "  </thead>\n",
       "  <tbody>\n",
       "    <tr>\n",
       "      <th>0</th>\n",
       "      <td>0.00632</td>\n",
       "      <td>18.0</td>\n",
       "      <td>2.31</td>\n",
       "      <td>0</td>\n",
       "      <td>0.538</td>\n",
       "      <td>6.575</td>\n",
       "      <td>65.2</td>\n",
       "      <td>4.0900</td>\n",
       "      <td>1</td>\n",
       "      <td>296.0</td>\n",
       "      <td>15.3</td>\n",
       "      <td>396.90</td>\n",
       "      <td>4.98</td>\n",
       "      <td>24.0</td>\n",
       "    </tr>\n",
       "    <tr>\n",
       "      <th>1</th>\n",
       "      <td>0.02731</td>\n",
       "      <td>0.0</td>\n",
       "      <td>7.07</td>\n",
       "      <td>0</td>\n",
       "      <td>0.469</td>\n",
       "      <td>6.421</td>\n",
       "      <td>78.9</td>\n",
       "      <td>4.9671</td>\n",
       "      <td>2</td>\n",
       "      <td>242.0</td>\n",
       "      <td>17.8</td>\n",
       "      <td>396.90</td>\n",
       "      <td>9.14</td>\n",
       "      <td>21.6</td>\n",
       "    </tr>\n",
       "    <tr>\n",
       "      <th>2</th>\n",
       "      <td>0.02729</td>\n",
       "      <td>0.0</td>\n",
       "      <td>7.07</td>\n",
       "      <td>0</td>\n",
       "      <td>0.469</td>\n",
       "      <td>7.185</td>\n",
       "      <td>61.1</td>\n",
       "      <td>4.9671</td>\n",
       "      <td>2</td>\n",
       "      <td>242.0</td>\n",
       "      <td>17.8</td>\n",
       "      <td>392.83</td>\n",
       "      <td>4.03</td>\n",
       "      <td>34.7</td>\n",
       "    </tr>\n",
       "    <tr>\n",
       "      <th>3</th>\n",
       "      <td>0.03237</td>\n",
       "      <td>0.0</td>\n",
       "      <td>2.18</td>\n",
       "      <td>0</td>\n",
       "      <td>0.458</td>\n",
       "      <td>6.998</td>\n",
       "      <td>45.8</td>\n",
       "      <td>6.0622</td>\n",
       "      <td>3</td>\n",
       "      <td>222.0</td>\n",
       "      <td>18.7</td>\n",
       "      <td>394.63</td>\n",
       "      <td>2.94</td>\n",
       "      <td>33.4</td>\n",
       "    </tr>\n",
       "    <tr>\n",
       "      <th>4</th>\n",
       "      <td>0.06905</td>\n",
       "      <td>0.0</td>\n",
       "      <td>2.18</td>\n",
       "      <td>0</td>\n",
       "      <td>0.458</td>\n",
       "      <td>7.147</td>\n",
       "      <td>54.2</td>\n",
       "      <td>6.0622</td>\n",
       "      <td>3</td>\n",
       "      <td>222.0</td>\n",
       "      <td>18.7</td>\n",
       "      <td>396.90</td>\n",
       "      <td>5.33</td>\n",
       "      <td>36.2</td>\n",
       "    </tr>\n",
       "  </tbody>\n",
       "</table>\n",
       "</div>"
      ],
      "text/plain": [
       "      CRIM    ZN  INDUS  CHAS    NOX     RM   AGE     DIS  RAD    TAX  \\\n",
       "0  0.00632  18.0   2.31     0  0.538  6.575  65.2  4.0900    1  296.0   \n",
       "1  0.02731   0.0   7.07     0  0.469  6.421  78.9  4.9671    2  242.0   \n",
       "2  0.02729   0.0   7.07     0  0.469  7.185  61.1  4.9671    2  242.0   \n",
       "3  0.03237   0.0   2.18     0  0.458  6.998  45.8  6.0622    3  222.0   \n",
       "4  0.06905   0.0   2.18     0  0.458  7.147  54.2  6.0622    3  222.0   \n",
       "\n",
       "   PTRATIO       B  LSTAT  Price  \n",
       "0     15.3  396.90   4.98   24.0  \n",
       "1     17.8  396.90   9.14   21.6  \n",
       "2     17.8  392.83   4.03   34.7  \n",
       "3     18.7  394.63   2.94   33.4  \n",
       "4     18.7  396.90   5.33   36.2  "
      ]
     },
     "execution_count": 4,
     "metadata": {},
     "output_type": "execute_result"
    }
   ],
   "source": [
    "df.head()"
   ]
  },
  {
   "cell_type": "code",
   "execution_count": 5,
   "id": "5690ec4c",
   "metadata": {},
   "outputs": [
    {
     "name": "stdout",
     "output_type": "stream",
     "text": [
      "<class 'pandas.core.frame.DataFrame'>\n",
      "RangeIndex: 506 entries, 0 to 505\n",
      "Data columns (total 14 columns):\n",
      " #   Column   Non-Null Count  Dtype  \n",
      "---  ------   --------------  -----  \n",
      " 0   CRIM     506 non-null    float64\n",
      " 1   ZN       506 non-null    float64\n",
      " 2   INDUS    506 non-null    float64\n",
      " 3   CHAS     506 non-null    int64  \n",
      " 4   NOX      506 non-null    float64\n",
      " 5   RM       506 non-null    float64\n",
      " 6   AGE      506 non-null    float64\n",
      " 7   DIS      506 non-null    float64\n",
      " 8   RAD      506 non-null    int64  \n",
      " 9   TAX      506 non-null    float64\n",
      " 10  PTRATIO  506 non-null    float64\n",
      " 11  B        506 non-null    float64\n",
      " 12  LSTAT    506 non-null    float64\n",
      " 13  Price    506 non-null    float64\n",
      "dtypes: float64(12), int64(2)\n",
      "memory usage: 55.5 KB\n"
     ]
    }
   ],
   "source": [
    "df.info()"
   ]
  },
  {
   "cell_type": "markdown",
   "id": "1a0a713d",
   "metadata": {},
   "source": [
    "# Step4: Determine X, y"
   ]
  },
  {
   "cell_type": "code",
   "execution_count": 6,
   "id": "5bb8d7c5",
   "metadata": {},
   "outputs": [],
   "source": [
    "X= df.drop('Price', axis=1)\n",
    "y=df['Price']"
   ]
  },
  {
   "cell_type": "markdown",
   "id": "9f77a33b",
   "metadata": {},
   "source": [
    "# Step6: Poly Regression"
   ]
  },
  {
   "cell_type": "markdown",
   "id": "6973a1b2",
   "metadata": {},
   "source": [
    "## Poly Features"
   ]
  },
  {
   "cell_type": "code",
   "execution_count": 7,
   "id": "b0995c45",
   "metadata": {},
   "outputs": [],
   "source": [
    "poly_conv = PolynomialFeatures(degree=3, include_bias=False)"
   ]
  },
  {
   "cell_type": "code",
   "execution_count": 8,
   "id": "1b5809ae",
   "metadata": {},
   "outputs": [],
   "source": [
    "poly_feature = poly_conv.fit_transform(X)"
   ]
  },
  {
   "cell_type": "code",
   "execution_count": 9,
   "id": "ac71b2f0",
   "metadata": {},
   "outputs": [
    {
     "data": {
      "text/plain": [
       "(506, 559)"
      ]
     },
     "execution_count": 9,
     "metadata": {},
     "output_type": "execute_result"
    }
   ],
   "source": [
    "poly_feature.shape"
   ]
  },
  {
   "cell_type": "markdown",
   "id": "5533eee0",
   "metadata": {},
   "source": [
    "## Train Test Split"
   ]
  },
  {
   "cell_type": "code",
   "execution_count": 10,
   "id": "ff3c6a59",
   "metadata": {},
   "outputs": [],
   "source": [
    "X_train, X_test, y_train, y_test = train_test_split(poly_feature, y, \n",
    "                                                    test_size=0.3, \n",
    "                                                    random_state=101)"
   ]
  },
  {
   "cell_type": "markdown",
   "id": "74b2fbfb",
   "metadata": {},
   "source": [
    "## Standard Scaler"
   ]
  },
  {
   "cell_type": "code",
   "execution_count": 11,
   "id": "100927d4",
   "metadata": {},
   "outputs": [],
   "source": [
    "scaler = StandardScaler()"
   ]
  },
  {
   "cell_type": "code",
   "execution_count": 12,
   "id": "e7a38882",
   "metadata": {},
   "outputs": [
    {
     "data": {
      "text/plain": [
       "StandardScaler()"
      ]
     },
     "execution_count": 12,
     "metadata": {},
     "output_type": "execute_result"
    }
   ],
   "source": [
    "scaler.fit(X_train)"
   ]
  },
  {
   "cell_type": "code",
   "execution_count": 13,
   "id": "f82bb37b",
   "metadata": {},
   "outputs": [],
   "source": [
    "X_train = scaler.transform(X_train)\n",
    "\n",
    "X_test = scaler.transform(X_test)"
   ]
  },
  {
   "cell_type": "markdown",
   "id": "680ee277",
   "metadata": {},
   "source": [
    "## Creat Model"
   ]
  },
  {
   "cell_type": "code",
   "execution_count": 14,
   "id": "2f9327e0",
   "metadata": {},
   "outputs": [],
   "source": [
    "Poly = LinearRegression()"
   ]
  },
  {
   "cell_type": "code",
   "execution_count": 16,
   "id": "46b8affb",
   "metadata": {},
   "outputs": [
    {
     "data": {
      "text/plain": [
       "LinearRegression()"
      ]
     },
     "execution_count": 16,
     "metadata": {},
     "output_type": "execute_result"
    }
   ],
   "source": [
    "Poly.fit(X_train, y_train)"
   ]
  },
  {
   "cell_type": "code",
   "execution_count": 17,
   "id": "904d1da2",
   "metadata": {},
   "outputs": [],
   "source": [
    "y_pred = Poly.predict(X_test)"
   ]
  },
  {
   "cell_type": "code",
   "execution_count": 18,
   "id": "1ee08908",
   "metadata": {},
   "outputs": [
    {
     "data": {
      "text/plain": [
       "35.5953018636575"
      ]
     },
     "execution_count": 18,
     "metadata": {},
     "output_type": "execute_result"
    }
   ],
   "source": [
    "mean_absolute_error(y_test, y_pred)"
   ]
  },
  {
   "cell_type": "markdown",
   "id": "a7f12f96",
   "metadata": {},
   "source": [
    "# Step8: Regularization"
   ]
  },
  {
   "cell_type": "markdown",
   "id": "0f16c611",
   "metadata": {},
   "source": [
    "## 1- Ridge Regression"
   ]
  },
  {
   "cell_type": "code",
   "execution_count": 19,
   "id": "680929aa",
   "metadata": {},
   "outputs": [],
   "source": [
    "ridge_model = Ridge(alpha=40)"
   ]
  },
  {
   "cell_type": "code",
   "execution_count": 20,
   "id": "3353422d",
   "metadata": {},
   "outputs": [
    {
     "data": {
      "text/plain": [
       "Ridge(alpha=40)"
      ]
     },
     "execution_count": 20,
     "metadata": {},
     "output_type": "execute_result"
    }
   ],
   "source": [
    "ridge_model.fit(X_train, y_train)"
   ]
  },
  {
   "cell_type": "code",
   "execution_count": 21,
   "id": "b21cd43d",
   "metadata": {},
   "outputs": [],
   "source": [
    "y_pred_r = ridge_model.predict(X_test)"
   ]
  },
  {
   "cell_type": "code",
   "execution_count": 22,
   "id": "d94b1973",
   "metadata": {},
   "outputs": [
    {
     "data": {
      "text/plain": [
       "2.7914826456230344"
      ]
     },
     "execution_count": 22,
     "metadata": {},
     "output_type": "execute_result"
    }
   ],
   "source": [
    "mean_absolute_error(y_test, y_pred_r)"
   ]
  },
  {
   "cell_type": "markdown",
   "id": "045f9e7c",
   "metadata": {},
   "source": [
    "## Ridge Regression (Coosing an alpha value with Cross-Validation)"
   ]
  },
  {
   "cell_type": "code",
   "execution_count": 23,
   "id": "c89286e8",
   "metadata": {},
   "outputs": [],
   "source": [
    "ridge_cv = RidgeCV(alphas=(0.1, 1, 10, 40), cv=5)"
   ]
  },
  {
   "cell_type": "code",
   "execution_count": 24,
   "id": "f3cb4dec",
   "metadata": {},
   "outputs": [
    {
     "data": {
      "text/plain": [
       "RidgeCV(alphas=array([ 0.1,  1. , 10. , 40. ]), cv=5)"
      ]
     },
     "execution_count": 24,
     "metadata": {},
     "output_type": "execute_result"
    }
   ],
   "source": [
    "ridge_cv.fit(X_train, y_train)"
   ]
  },
  {
   "cell_type": "code",
   "execution_count": 25,
   "id": "3de07657",
   "metadata": {},
   "outputs": [],
   "source": [
    "y_pred_rcv = ridge_cv.predict(X_test)"
   ]
  },
  {
   "cell_type": "code",
   "execution_count": 27,
   "id": "f7b9f1c5",
   "metadata": {},
   "outputs": [
    {
     "data": {
      "text/plain": [
       "2.637078582804363"
      ]
     },
     "execution_count": 27,
     "metadata": {},
     "output_type": "execute_result"
    }
   ],
   "source": [
    "mean_absolute_error(y_test, y_pred_rcv)"
   ]
  },
  {
   "cell_type": "code",
   "execution_count": 28,
   "id": "02f1aaaf",
   "metadata": {},
   "outputs": [
    {
     "data": {
      "text/plain": [
       "10.0"
      ]
     },
     "execution_count": 28,
     "metadata": {},
     "output_type": "execute_result"
    }
   ],
   "source": [
    "ridge_cv.alpha_"
   ]
  },
  {
   "cell_type": "code",
   "execution_count": 30,
   "id": "2713f1b3",
   "metadata": {},
   "outputs": [],
   "source": [
    "list_ridge = ridge_cv.coef_"
   ]
  },
  {
   "cell_type": "code",
   "execution_count": 31,
   "id": "1699ea7e",
   "metadata": {},
   "outputs": [],
   "source": [
    "def none_zero(list_ridge):\n",
    "    count = 0\n",
    "    \n",
    "    for i in list_ridge:\n",
    "        if i!=0:\n",
    "            count+=1\n",
    "    print(count)"
   ]
  },
  {
   "cell_type": "code",
   "execution_count": 32,
   "id": "6178a920",
   "metadata": {},
   "outputs": [
    {
     "name": "stdout",
     "output_type": "stream",
     "text": [
      "559\n"
     ]
    }
   ],
   "source": [
    "none_zero(list_ridge)"
   ]
  },
  {
   "cell_type": "markdown",
   "id": "9178bf0e",
   "metadata": {},
   "source": [
    "# 2- Lasso Regression"
   ]
  },
  {
   "cell_type": "code",
   "execution_count": 33,
   "id": "e511417b",
   "metadata": {},
   "outputs": [],
   "source": [
    "Lasso_model = Lasso(alpha=10)"
   ]
  },
  {
   "cell_type": "code",
   "execution_count": 34,
   "id": "e770e752",
   "metadata": {},
   "outputs": [
    {
     "data": {
      "text/plain": [
       "Lasso(alpha=10)"
      ]
     },
     "execution_count": 34,
     "metadata": {},
     "output_type": "execute_result"
    }
   ],
   "source": [
    "Lasso_model.fit(X_train, y_train)"
   ]
  },
  {
   "cell_type": "code",
   "execution_count": 35,
   "id": "deae8822",
   "metadata": {},
   "outputs": [],
   "source": [
    "y_pred_lasso = Lasso_model.predict(X_test)"
   ]
  },
  {
   "cell_type": "code",
   "execution_count": 36,
   "id": "9a26125f",
   "metadata": {},
   "outputs": [
    {
     "data": {
      "text/plain": [
       "7.464072256913471"
      ]
     },
     "execution_count": 36,
     "metadata": {},
     "output_type": "execute_result"
    }
   ],
   "source": [
    "mean_absolute_error(y_test, y_pred_lasso)"
   ]
  },
  {
   "cell_type": "markdown",
   "id": "d9deaa95",
   "metadata": {},
   "source": [
    "## Lasso Regression (Coosing an alpha value with Cross-Validation)"
   ]
  },
  {
   "cell_type": "code",
   "execution_count": 37,
   "id": "3733bed1",
   "metadata": {},
   "outputs": [],
   "source": [
    "Lasso_cv = LassoCV(eps=0.01, n_alphas=100, cv=5)"
   ]
  },
  {
   "cell_type": "code",
   "execution_count": 38,
   "id": "9e771147",
   "metadata": {},
   "outputs": [
    {
     "name": "stderr",
     "output_type": "stream",
     "text": [
      "C:\\Users\\amini\\anaconda3\\lib\\site-packages\\sklearn\\linear_model\\_coordinate_descent.py:647: ConvergenceWarning: Objective did not converge. You might want to increase the number of iterations, check the scale of the features or consider increasing regularisation. Duality gap: 7.640e+00, tolerance: 2.726e+00\n",
      "  model = cd_fast.enet_coordinate_descent(\n"
     ]
    },
    {
     "data": {
      "text/plain": [
       "LassoCV(cv=5, eps=0.01)"
      ]
     },
     "execution_count": 38,
     "metadata": {},
     "output_type": "execute_result"
    }
   ],
   "source": [
    "Lasso_cv.fit(X_train, y_train)"
   ]
  },
  {
   "cell_type": "code",
   "execution_count": 39,
   "id": "ebe22d6b",
   "metadata": {},
   "outputs": [],
   "source": [
    "y_pred_lasso = Lasso_cv.predict(X_test)"
   ]
  },
  {
   "cell_type": "code",
   "execution_count": 40,
   "id": "62f69b83",
   "metadata": {},
   "outputs": [
    {
     "data": {
      "text/plain": [
       "2.8972591396749197"
      ]
     },
     "execution_count": 40,
     "metadata": {},
     "output_type": "execute_result"
    }
   ],
   "source": [
    "mean_absolute_error(y_test, y_pred_lasso)"
   ]
  },
  {
   "cell_type": "code",
   "execution_count": 41,
   "id": "1222f202",
   "metadata": {},
   "outputs": [
    {
     "data": {
      "text/plain": [
       "0.06675139135367261"
      ]
     },
     "execution_count": 41,
     "metadata": {},
     "output_type": "execute_result"
    }
   ],
   "source": [
    "Lasso_cv.alpha_"
   ]
  },
  {
   "cell_type": "code",
   "execution_count": 44,
   "id": "7338720d",
   "metadata": {},
   "outputs": [
    {
     "data": {
      "text/plain": [
       "array([6.67513914, 6.37174376, 6.08213817, 5.80569561, 5.54181778,\n",
       "       5.28993361, 5.04949796, 4.81999049, 4.60091448, 4.39179582,\n",
       "       4.19218192, 4.00164078, 3.81976003, 3.64614604, 3.48042308,\n",
       "       3.32223248, 3.17123188, 3.0270945 , 2.88950838, 2.75817577,\n",
       "       2.63281242, 2.51314703, 2.39892062, 2.28988598, 2.18580713,\n",
       "       2.08645882, 1.99162605, 1.90110357, 1.81469548, 1.73221477,\n",
       "       1.65348293, 1.57832958, 1.50659207, 1.43811513, 1.37275058,\n",
       "       1.31035695, 1.2507992 , 1.19394845, 1.13968165, 1.08788136,\n",
       "       1.03843547, 0.99123698, 0.94618373, 0.90317822, 0.86212737,\n",
       "       0.82294235, 0.78553835, 0.74983442, 0.71575329, 0.6832212 ,\n",
       "       0.65216774, 0.62252571, 0.59423096, 0.56722224, 0.54144112,\n",
       "       0.51683178, 0.49334098, 0.47091787, 0.44951393, 0.42908282,\n",
       "       0.40958035, 0.39096429, 0.37319436, 0.3562321 , 0.3400408 ,\n",
       "       0.32458542, 0.30983251, 0.29575015, 0.28230785, 0.26947652,\n",
       "       0.2572284 , 0.24553697, 0.23437693, 0.22372414, 0.21355553,\n",
       "       0.2038491 , 0.19458385, 0.18573971, 0.17729756, 0.16923911,\n",
       "       0.16154693, 0.15420437, 0.14719555, 0.14050528, 0.1341191 ,\n",
       "       0.12802318, 0.12220433, 0.11664995, 0.11134803, 0.10628709,\n",
       "       0.10145618, 0.09684484, 0.09244309, 0.08824141, 0.0842307 ,\n",
       "       0.08040229, 0.07674788, 0.07325957, 0.06992981, 0.06675139])"
      ]
     },
     "execution_count": 44,
     "metadata": {},
     "output_type": "execute_result"
    }
   ],
   "source": [
    "Lasso_cv.alphas_"
   ]
  },
  {
   "cell_type": "code",
   "execution_count": 45,
   "id": "289dbae9",
   "metadata": {},
   "outputs": [],
   "source": [
    "List_Lasso = Lasso_cv.coef_"
   ]
  },
  {
   "cell_type": "code",
   "execution_count": 46,
   "id": "c7e4b34f",
   "metadata": {},
   "outputs": [
    {
     "name": "stdout",
     "output_type": "stream",
     "text": [
      "35\n"
     ]
    }
   ],
   "source": [
    "none_zero(List_Lasso)"
   ]
  },
  {
   "cell_type": "markdown",
   "id": "28f79c4b",
   "metadata": {},
   "source": [
    "# 3- Elastic Net"
   ]
  },
  {
   "cell_type": "code",
   "execution_count": 47,
   "id": "c696b988",
   "metadata": {},
   "outputs": [],
   "source": [
    "Elastic = ElasticNetCV(l1_ratio=[0.1, 0.5], cv=5, max_iter=100)"
   ]
  },
  {
   "cell_type": "code",
   "execution_count": 48,
   "id": "6d896eb9",
   "metadata": {},
   "outputs": [
    {
     "name": "stderr",
     "output_type": "stream",
     "text": [
      "C:\\Users\\amini\\anaconda3\\lib\\site-packages\\sklearn\\linear_model\\_coordinate_descent.py:647: ConvergenceWarning: Objective did not converge. You might want to increase the number of iterations, check the scale of the features or consider increasing regularisation. Duality gap: 2.960e+00, tolerance: 2.030e+00\n",
      "  model = cd_fast.enet_coordinate_descent(\n",
      "C:\\Users\\amini\\anaconda3\\lib\\site-packages\\sklearn\\linear_model\\_coordinate_descent.py:647: ConvergenceWarning: Objective did not converge. You might want to increase the number of iterations, check the scale of the features or consider increasing regularisation. Duality gap: 2.320e+00, tolerance: 2.030e+00\n",
      "  model = cd_fast.enet_coordinate_descent(\n",
      "C:\\Users\\amini\\anaconda3\\lib\\site-packages\\sklearn\\linear_model\\_coordinate_descent.py:647: ConvergenceWarning: Objective did not converge. You might want to increase the number of iterations, check the scale of the features or consider increasing regularisation. Duality gap: 5.137e+00, tolerance: 2.030e+00\n",
      "  model = cd_fast.enet_coordinate_descent(\n",
      "C:\\Users\\amini\\anaconda3\\lib\\site-packages\\sklearn\\linear_model\\_coordinate_descent.py:647: ConvergenceWarning: Objective did not converge. You might want to increase the number of iterations, check the scale of the features or consider increasing regularisation. Duality gap: 6.689e+00, tolerance: 2.030e+00\n",
      "  model = cd_fast.enet_coordinate_descent(\n",
      "C:\\Users\\amini\\anaconda3\\lib\\site-packages\\sklearn\\linear_model\\_coordinate_descent.py:647: ConvergenceWarning: Objective did not converge. You might want to increase the number of iterations, check the scale of the features or consider increasing regularisation. Duality gap: 7.606e+00, tolerance: 2.030e+00\n",
      "  model = cd_fast.enet_coordinate_descent(\n",
      "C:\\Users\\amini\\anaconda3\\lib\\site-packages\\sklearn\\linear_model\\_coordinate_descent.py:647: ConvergenceWarning: Objective did not converge. You might want to increase the number of iterations, check the scale of the features or consider increasing regularisation. Duality gap: 1.027e+01, tolerance: 2.030e+00\n",
      "  model = cd_fast.enet_coordinate_descent(\n",
      "C:\\Users\\amini\\anaconda3\\lib\\site-packages\\sklearn\\linear_model\\_coordinate_descent.py:647: ConvergenceWarning: Objective did not converge. You might want to increase the number of iterations, check the scale of the features or consider increasing regularisation. Duality gap: 9.344e+00, tolerance: 2.030e+00\n",
      "  model = cd_fast.enet_coordinate_descent(\n",
      "C:\\Users\\amini\\anaconda3\\lib\\site-packages\\sklearn\\linear_model\\_coordinate_descent.py:647: ConvergenceWarning: Objective did not converge. You might want to increase the number of iterations, check the scale of the features or consider increasing regularisation. Duality gap: 9.078e+00, tolerance: 2.030e+00\n",
      "  model = cd_fast.enet_coordinate_descent(\n",
      "C:\\Users\\amini\\anaconda3\\lib\\site-packages\\sklearn\\linear_model\\_coordinate_descent.py:647: ConvergenceWarning: Objective did not converge. You might want to increase the number of iterations, check the scale of the features or consider increasing regularisation. Duality gap: 1.559e+01, tolerance: 2.030e+00\n",
      "  model = cd_fast.enet_coordinate_descent(\n",
      "C:\\Users\\amini\\anaconda3\\lib\\site-packages\\sklearn\\linear_model\\_coordinate_descent.py:647: ConvergenceWarning: Objective did not converge. You might want to increase the number of iterations, check the scale of the features or consider increasing regularisation. Duality gap: 2.490e+01, tolerance: 2.030e+00\n",
      "  model = cd_fast.enet_coordinate_descent(\n",
      "C:\\Users\\amini\\anaconda3\\lib\\site-packages\\sklearn\\linear_model\\_coordinate_descent.py:647: ConvergenceWarning: Objective did not converge. You might want to increase the number of iterations, check the scale of the features or consider increasing regularisation. Duality gap: 3.650e+01, tolerance: 2.030e+00\n",
      "  model = cd_fast.enet_coordinate_descent(\n",
      "C:\\Users\\amini\\anaconda3\\lib\\site-packages\\sklearn\\linear_model\\_coordinate_descent.py:647: ConvergenceWarning: Objective did not converge. You might want to increase the number of iterations, check the scale of the features or consider increasing regularisation. Duality gap: 3.864e+01, tolerance: 2.030e+00\n",
      "  model = cd_fast.enet_coordinate_descent(\n",
      "C:\\Users\\amini\\anaconda3\\lib\\site-packages\\sklearn\\linear_model\\_coordinate_descent.py:647: ConvergenceWarning: Objective did not converge. You might want to increase the number of iterations, check the scale of the features or consider increasing regularisation. Duality gap: 2.616e+01, tolerance: 2.030e+00\n",
      "  model = cd_fast.enet_coordinate_descent(\n",
      "C:\\Users\\amini\\anaconda3\\lib\\site-packages\\sklearn\\linear_model\\_coordinate_descent.py:647: ConvergenceWarning: Objective did not converge. You might want to increase the number of iterations, check the scale of the features or consider increasing regularisation. Duality gap: 1.359e+01, tolerance: 2.030e+00\n",
      "  model = cd_fast.enet_coordinate_descent(\n",
      "C:\\Users\\amini\\anaconda3\\lib\\site-packages\\sklearn\\linear_model\\_coordinate_descent.py:647: ConvergenceWarning: Objective did not converge. You might want to increase the number of iterations, check the scale of the features or consider increasing regularisation. Duality gap: 1.037e+01, tolerance: 2.030e+00\n",
      "  model = cd_fast.enet_coordinate_descent(\n",
      "C:\\Users\\amini\\anaconda3\\lib\\site-packages\\sklearn\\linear_model\\_coordinate_descent.py:647: ConvergenceWarning: Objective did not converge. You might want to increase the number of iterations, check the scale of the features or consider increasing regularisation. Duality gap: 1.313e+01, tolerance: 2.030e+00\n",
      "  model = cd_fast.enet_coordinate_descent(\n",
      "C:\\Users\\amini\\anaconda3\\lib\\site-packages\\sklearn\\linear_model\\_coordinate_descent.py:647: ConvergenceWarning: Objective did not converge. You might want to increase the number of iterations, check the scale of the features or consider increasing regularisation. Duality gap: 5.931e+00, tolerance: 2.030e+00\n",
      "  model = cd_fast.enet_coordinate_descent(\n",
      "C:\\Users\\amini\\anaconda3\\lib\\site-packages\\sklearn\\linear_model\\_coordinate_descent.py:647: ConvergenceWarning: Objective did not converge. You might want to increase the number of iterations, check the scale of the features or consider increasing regularisation. Duality gap: 1.160e+01, tolerance: 2.030e+00\n",
      "  model = cd_fast.enet_coordinate_descent(\n",
      "C:\\Users\\amini\\anaconda3\\lib\\site-packages\\sklearn\\linear_model\\_coordinate_descent.py:647: ConvergenceWarning: Objective did not converge. You might want to increase the number of iterations, check the scale of the features or consider increasing regularisation. Duality gap: 1.266e+01, tolerance: 2.030e+00\n",
      "  model = cd_fast.enet_coordinate_descent(\n",
      "C:\\Users\\amini\\anaconda3\\lib\\site-packages\\sklearn\\linear_model\\_coordinate_descent.py:647: ConvergenceWarning: Objective did not converge. You might want to increase the number of iterations, check the scale of the features or consider increasing regularisation. Duality gap: 2.532e+01, tolerance: 2.030e+00\n",
      "  model = cd_fast.enet_coordinate_descent(\n",
      "C:\\Users\\amini\\anaconda3\\lib\\site-packages\\sklearn\\linear_model\\_coordinate_descent.py:647: ConvergenceWarning: Objective did not converge. You might want to increase the number of iterations, check the scale of the features or consider increasing regularisation. Duality gap: 2.537e+01, tolerance: 2.030e+00\n",
      "  model = cd_fast.enet_coordinate_descent(\n",
      "C:\\Users\\amini\\anaconda3\\lib\\site-packages\\sklearn\\linear_model\\_coordinate_descent.py:647: ConvergenceWarning: Objective did not converge. You might want to increase the number of iterations, check the scale of the features or consider increasing regularisation. Duality gap: 2.432e+01, tolerance: 2.030e+00\n",
      "  model = cd_fast.enet_coordinate_descent(\n",
      "C:\\Users\\amini\\anaconda3\\lib\\site-packages\\sklearn\\linear_model\\_coordinate_descent.py:647: ConvergenceWarning: Objective did not converge. You might want to increase the number of iterations, check the scale of the features or consider increasing regularisation. Duality gap: 1.824e+01, tolerance: 2.030e+00\n",
      "  model = cd_fast.enet_coordinate_descent(\n",
      "C:\\Users\\amini\\anaconda3\\lib\\site-packages\\sklearn\\linear_model\\_coordinate_descent.py:647: ConvergenceWarning: Objective did not converge. You might want to increase the number of iterations, check the scale of the features or consider increasing regularisation. Duality gap: 2.101e+01, tolerance: 2.030e+00\n",
      "  model = cd_fast.enet_coordinate_descent(\n",
      "C:\\Users\\amini\\anaconda3\\lib\\site-packages\\sklearn\\linear_model\\_coordinate_descent.py:647: ConvergenceWarning: Objective did not converge. You might want to increase the number of iterations, check the scale of the features or consider increasing regularisation. Duality gap: 2.286e+01, tolerance: 2.030e+00\n",
      "  model = cd_fast.enet_coordinate_descent(\n"
     ]
    },
    {
     "name": "stderr",
     "output_type": "stream",
     "text": [
      "C:\\Users\\amini\\anaconda3\\lib\\site-packages\\sklearn\\linear_model\\_coordinate_descent.py:647: ConvergenceWarning: Objective did not converge. You might want to increase the number of iterations, check the scale of the features or consider increasing regularisation. Duality gap: 2.210e+01, tolerance: 2.030e+00\n",
      "  model = cd_fast.enet_coordinate_descent(\n",
      "C:\\Users\\amini\\anaconda3\\lib\\site-packages\\sklearn\\linear_model\\_coordinate_descent.py:647: ConvergenceWarning: Objective did not converge. You might want to increase the number of iterations, check the scale of the features or consider increasing regularisation. Duality gap: 1.919e+01, tolerance: 2.030e+00\n",
      "  model = cd_fast.enet_coordinate_descent(\n",
      "C:\\Users\\amini\\anaconda3\\lib\\site-packages\\sklearn\\linear_model\\_coordinate_descent.py:647: ConvergenceWarning: Objective did not converge. You might want to increase the number of iterations, check the scale of the features or consider increasing regularisation. Duality gap: 2.968e+01, tolerance: 2.030e+00\n",
      "  model = cd_fast.enet_coordinate_descent(\n",
      "C:\\Users\\amini\\anaconda3\\lib\\site-packages\\sklearn\\linear_model\\_coordinate_descent.py:647: ConvergenceWarning: Objective did not converge. You might want to increase the number of iterations, check the scale of the features or consider increasing regularisation. Duality gap: 2.954e+01, tolerance: 2.030e+00\n",
      "  model = cd_fast.enet_coordinate_descent(\n",
      "C:\\Users\\amini\\anaconda3\\lib\\site-packages\\sklearn\\linear_model\\_coordinate_descent.py:647: ConvergenceWarning: Objective did not converge. You might want to increase the number of iterations, check the scale of the features or consider increasing regularisation. Duality gap: 2.298e+01, tolerance: 2.030e+00\n",
      "  model = cd_fast.enet_coordinate_descent(\n",
      "C:\\Users\\amini\\anaconda3\\lib\\site-packages\\sklearn\\linear_model\\_coordinate_descent.py:647: ConvergenceWarning: Objective did not converge. You might want to increase the number of iterations, check the scale of the features or consider increasing regularisation. Duality gap: 2.240e+01, tolerance: 2.030e+00\n",
      "  model = cd_fast.enet_coordinate_descent(\n",
      "C:\\Users\\amini\\anaconda3\\lib\\site-packages\\sklearn\\linear_model\\_coordinate_descent.py:647: ConvergenceWarning: Objective did not converge. You might want to increase the number of iterations, check the scale of the features or consider increasing regularisation. Duality gap: 2.306e+01, tolerance: 2.030e+00\n",
      "  model = cd_fast.enet_coordinate_descent(\n",
      "C:\\Users\\amini\\anaconda3\\lib\\site-packages\\sklearn\\linear_model\\_coordinate_descent.py:647: ConvergenceWarning: Objective did not converge. You might want to increase the number of iterations, check the scale of the features or consider increasing regularisation. Duality gap: 3.262e+01, tolerance: 2.030e+00\n",
      "  model = cd_fast.enet_coordinate_descent(\n",
      "C:\\Users\\amini\\anaconda3\\lib\\site-packages\\sklearn\\linear_model\\_coordinate_descent.py:647: ConvergenceWarning: Objective did not converge. You might want to increase the number of iterations, check the scale of the features or consider increasing regularisation. Duality gap: 3.974e+01, tolerance: 2.030e+00\n",
      "  model = cd_fast.enet_coordinate_descent(\n",
      "C:\\Users\\amini\\anaconda3\\lib\\site-packages\\sklearn\\linear_model\\_coordinate_descent.py:647: ConvergenceWarning: Objective did not converge. You might want to increase the number of iterations, check the scale of the features or consider increasing regularisation. Duality gap: 4.266e+01, tolerance: 2.030e+00\n",
      "  model = cd_fast.enet_coordinate_descent(\n",
      "C:\\Users\\amini\\anaconda3\\lib\\site-packages\\sklearn\\linear_model\\_coordinate_descent.py:647: ConvergenceWarning: Objective did not converge. You might want to increase the number of iterations, check the scale of the features or consider increasing regularisation. Duality gap: 4.393e+01, tolerance: 2.030e+00\n",
      "  model = cd_fast.enet_coordinate_descent(\n",
      "C:\\Users\\amini\\anaconda3\\lib\\site-packages\\sklearn\\linear_model\\_coordinate_descent.py:647: ConvergenceWarning: Objective did not converge. You might want to increase the number of iterations, check the scale of the features or consider increasing regularisation. Duality gap: 4.304e+01, tolerance: 2.030e+00\n",
      "  model = cd_fast.enet_coordinate_descent(\n",
      "C:\\Users\\amini\\anaconda3\\lib\\site-packages\\sklearn\\linear_model\\_coordinate_descent.py:647: ConvergenceWarning: Objective did not converge. You might want to increase the number of iterations, check the scale of the features or consider increasing regularisation. Duality gap: 4.320e+01, tolerance: 2.030e+00\n",
      "  model = cd_fast.enet_coordinate_descent(\n",
      "C:\\Users\\amini\\anaconda3\\lib\\site-packages\\sklearn\\linear_model\\_coordinate_descent.py:647: ConvergenceWarning: Objective did not converge. You might want to increase the number of iterations, check the scale of the features or consider increasing regularisation. Duality gap: 4.349e+01, tolerance: 2.030e+00\n",
      "  model = cd_fast.enet_coordinate_descent(\n",
      "C:\\Users\\amini\\anaconda3\\lib\\site-packages\\sklearn\\linear_model\\_coordinate_descent.py:647: ConvergenceWarning: Objective did not converge. You might want to increase the number of iterations, check the scale of the features or consider increasing regularisation. Duality gap: 4.703e+01, tolerance: 2.030e+00\n",
      "  model = cd_fast.enet_coordinate_descent(\n",
      "C:\\Users\\amini\\anaconda3\\lib\\site-packages\\sklearn\\linear_model\\_coordinate_descent.py:647: ConvergenceWarning: Objective did not converge. You might want to increase the number of iterations, check the scale of the features or consider increasing regularisation. Duality gap: 5.599e+01, tolerance: 2.030e+00\n",
      "  model = cd_fast.enet_coordinate_descent(\n",
      "C:\\Users\\amini\\anaconda3\\lib\\site-packages\\sklearn\\linear_model\\_coordinate_descent.py:647: ConvergenceWarning: Objective did not converge. You might want to increase the number of iterations, check the scale of the features or consider increasing regularisation. Duality gap: 6.443e+01, tolerance: 2.030e+00\n",
      "  model = cd_fast.enet_coordinate_descent(\n",
      "C:\\Users\\amini\\anaconda3\\lib\\site-packages\\sklearn\\linear_model\\_coordinate_descent.py:647: ConvergenceWarning: Objective did not converge. You might want to increase the number of iterations, check the scale of the features or consider increasing regularisation. Duality gap: 7.498e+01, tolerance: 2.030e+00\n",
      "  model = cd_fast.enet_coordinate_descent(\n",
      "C:\\Users\\amini\\anaconda3\\lib\\site-packages\\sklearn\\linear_model\\_coordinate_descent.py:647: ConvergenceWarning: Objective did not converge. You might want to increase the number of iterations, check the scale of the features or consider increasing regularisation. Duality gap: 8.636e+01, tolerance: 2.030e+00\n",
      "  model = cd_fast.enet_coordinate_descent(\n",
      "C:\\Users\\amini\\anaconda3\\lib\\site-packages\\sklearn\\linear_model\\_coordinate_descent.py:647: ConvergenceWarning: Objective did not converge. You might want to increase the number of iterations, check the scale of the features or consider increasing regularisation. Duality gap: 9.368e+01, tolerance: 2.030e+00\n",
      "  model = cd_fast.enet_coordinate_descent(\n",
      "C:\\Users\\amini\\anaconda3\\lib\\site-packages\\sklearn\\linear_model\\_coordinate_descent.py:647: ConvergenceWarning: Objective did not converge. You might want to increase the number of iterations, check the scale of the features or consider increasing regularisation. Duality gap: 4.219e+00, tolerance: 2.262e+00\n",
      "  model = cd_fast.enet_coordinate_descent(\n",
      "C:\\Users\\amini\\anaconda3\\lib\\site-packages\\sklearn\\linear_model\\_coordinate_descent.py:647: ConvergenceWarning: Objective did not converge. You might want to increase the number of iterations, check the scale of the features or consider increasing regularisation. Duality gap: 3.434e+00, tolerance: 2.262e+00\n",
      "  model = cd_fast.enet_coordinate_descent(\n",
      "C:\\Users\\amini\\anaconda3\\lib\\site-packages\\sklearn\\linear_model\\_coordinate_descent.py:647: ConvergenceWarning: Objective did not converge. You might want to increase the number of iterations, check the scale of the features or consider increasing regularisation. Duality gap: 6.922e+00, tolerance: 2.262e+00\n",
      "  model = cd_fast.enet_coordinate_descent(\n",
      "C:\\Users\\amini\\anaconda3\\lib\\site-packages\\sklearn\\linear_model\\_coordinate_descent.py:647: ConvergenceWarning: Objective did not converge. You might want to increase the number of iterations, check the scale of the features or consider increasing regularisation. Duality gap: 8.362e+00, tolerance: 2.262e+00\n",
      "  model = cd_fast.enet_coordinate_descent(\n",
      "C:\\Users\\amini\\anaconda3\\lib\\site-packages\\sklearn\\linear_model\\_coordinate_descent.py:647: ConvergenceWarning: Objective did not converge. You might want to increase the number of iterations, check the scale of the features or consider increasing regularisation. Duality gap: 1.145e+01, tolerance: 2.262e+00\n",
      "  model = cd_fast.enet_coordinate_descent(\n",
      "C:\\Users\\amini\\anaconda3\\lib\\site-packages\\sklearn\\linear_model\\_coordinate_descent.py:647: ConvergenceWarning: Objective did not converge. You might want to increase the number of iterations, check the scale of the features or consider increasing regularisation. Duality gap: 1.233e+01, tolerance: 2.262e+00\n",
      "  model = cd_fast.enet_coordinate_descent(\n",
      "C:\\Users\\amini\\anaconda3\\lib\\site-packages\\sklearn\\linear_model\\_coordinate_descent.py:647: ConvergenceWarning: Objective did not converge. You might want to increase the number of iterations, check the scale of the features or consider increasing regularisation. Duality gap: 9.155e+00, tolerance: 2.262e+00\n",
      "  model = cd_fast.enet_coordinate_descent(\n",
      "C:\\Users\\amini\\anaconda3\\lib\\site-packages\\sklearn\\linear_model\\_coordinate_descent.py:647: ConvergenceWarning: Objective did not converge. You might want to increase the number of iterations, check the scale of the features or consider increasing regularisation. Duality gap: 1.173e+01, tolerance: 2.262e+00\n",
      "  model = cd_fast.enet_coordinate_descent(\n"
     ]
    },
    {
     "name": "stderr",
     "output_type": "stream",
     "text": [
      "C:\\Users\\amini\\anaconda3\\lib\\site-packages\\sklearn\\linear_model\\_coordinate_descent.py:647: ConvergenceWarning: Objective did not converge. You might want to increase the number of iterations, check the scale of the features or consider increasing regularisation. Duality gap: 2.022e+01, tolerance: 2.262e+00\n",
      "  model = cd_fast.enet_coordinate_descent(\n",
      "C:\\Users\\amini\\anaconda3\\lib\\site-packages\\sklearn\\linear_model\\_coordinate_descent.py:647: ConvergenceWarning: Objective did not converge. You might want to increase the number of iterations, check the scale of the features or consider increasing regularisation. Duality gap: 3.213e+01, tolerance: 2.262e+00\n",
      "  model = cd_fast.enet_coordinate_descent(\n",
      "C:\\Users\\amini\\anaconda3\\lib\\site-packages\\sklearn\\linear_model\\_coordinate_descent.py:647: ConvergenceWarning: Objective did not converge. You might want to increase the number of iterations, check the scale of the features or consider increasing regularisation. Duality gap: 4.137e+01, tolerance: 2.262e+00\n",
      "  model = cd_fast.enet_coordinate_descent(\n",
      "C:\\Users\\amini\\anaconda3\\lib\\site-packages\\sklearn\\linear_model\\_coordinate_descent.py:647: ConvergenceWarning: Objective did not converge. You might want to increase the number of iterations, check the scale of the features or consider increasing regularisation. Duality gap: 2.702e+01, tolerance: 2.262e+00\n",
      "  model = cd_fast.enet_coordinate_descent(\n",
      "C:\\Users\\amini\\anaconda3\\lib\\site-packages\\sklearn\\linear_model\\_coordinate_descent.py:647: ConvergenceWarning: Objective did not converge. You might want to increase the number of iterations, check the scale of the features or consider increasing regularisation. Duality gap: 2.304e+01, tolerance: 2.262e+00\n",
      "  model = cd_fast.enet_coordinate_descent(\n",
      "C:\\Users\\amini\\anaconda3\\lib\\site-packages\\sklearn\\linear_model\\_coordinate_descent.py:647: ConvergenceWarning: Objective did not converge. You might want to increase the number of iterations, check the scale of the features or consider increasing regularisation. Duality gap: 7.970e+00, tolerance: 2.262e+00\n",
      "  model = cd_fast.enet_coordinate_descent(\n",
      "C:\\Users\\amini\\anaconda3\\lib\\site-packages\\sklearn\\linear_model\\_coordinate_descent.py:647: ConvergenceWarning: Objective did not converge. You might want to increase the number of iterations, check the scale of the features or consider increasing regularisation. Duality gap: 1.437e+01, tolerance: 2.262e+00\n",
      "  model = cd_fast.enet_coordinate_descent(\n",
      "C:\\Users\\amini\\anaconda3\\lib\\site-packages\\sklearn\\linear_model\\_coordinate_descent.py:647: ConvergenceWarning: Objective did not converge. You might want to increase the number of iterations, check the scale of the features or consider increasing regularisation. Duality gap: 6.952e+00, tolerance: 2.262e+00\n",
      "  model = cd_fast.enet_coordinate_descent(\n",
      "C:\\Users\\amini\\anaconda3\\lib\\site-packages\\sklearn\\linear_model\\_coordinate_descent.py:647: ConvergenceWarning: Objective did not converge. You might want to increase the number of iterations, check the scale of the features or consider increasing regularisation. Duality gap: 1.237e+01, tolerance: 2.262e+00\n",
      "  model = cd_fast.enet_coordinate_descent(\n",
      "C:\\Users\\amini\\anaconda3\\lib\\site-packages\\sklearn\\linear_model\\_coordinate_descent.py:647: ConvergenceWarning: Objective did not converge. You might want to increase the number of iterations, check the scale of the features or consider increasing regularisation. Duality gap: 1.577e+01, tolerance: 2.262e+00\n",
      "  model = cd_fast.enet_coordinate_descent(\n",
      "C:\\Users\\amini\\anaconda3\\lib\\site-packages\\sklearn\\linear_model\\_coordinate_descent.py:647: ConvergenceWarning: Objective did not converge. You might want to increase the number of iterations, check the scale of the features or consider increasing regularisation. Duality gap: 3.302e+01, tolerance: 2.262e+00\n",
      "  model = cd_fast.enet_coordinate_descent(\n",
      "C:\\Users\\amini\\anaconda3\\lib\\site-packages\\sklearn\\linear_model\\_coordinate_descent.py:647: ConvergenceWarning: Objective did not converge. You might want to increase the number of iterations, check the scale of the features or consider increasing regularisation. Duality gap: 3.289e+01, tolerance: 2.262e+00\n",
      "  model = cd_fast.enet_coordinate_descent(\n",
      "C:\\Users\\amini\\anaconda3\\lib\\site-packages\\sklearn\\linear_model\\_coordinate_descent.py:647: ConvergenceWarning: Objective did not converge. You might want to increase the number of iterations, check the scale of the features or consider increasing regularisation. Duality gap: 2.906e+01, tolerance: 2.262e+00\n",
      "  model = cd_fast.enet_coordinate_descent(\n",
      "C:\\Users\\amini\\anaconda3\\lib\\site-packages\\sklearn\\linear_model\\_coordinate_descent.py:647: ConvergenceWarning: Objective did not converge. You might want to increase the number of iterations, check the scale of the features or consider increasing regularisation. Duality gap: 2.190e+01, tolerance: 2.262e+00\n",
      "  model = cd_fast.enet_coordinate_descent(\n",
      "C:\\Users\\amini\\anaconda3\\lib\\site-packages\\sklearn\\linear_model\\_coordinate_descent.py:647: ConvergenceWarning: Objective did not converge. You might want to increase the number of iterations, check the scale of the features or consider increasing regularisation. Duality gap: 2.172e+01, tolerance: 2.262e+00\n",
      "  model = cd_fast.enet_coordinate_descent(\n",
      "C:\\Users\\amini\\anaconda3\\lib\\site-packages\\sklearn\\linear_model\\_coordinate_descent.py:647: ConvergenceWarning: Objective did not converge. You might want to increase the number of iterations, check the scale of the features or consider increasing regularisation. Duality gap: 2.020e+01, tolerance: 2.262e+00\n",
      "  model = cd_fast.enet_coordinate_descent(\n",
      "C:\\Users\\amini\\anaconda3\\lib\\site-packages\\sklearn\\linear_model\\_coordinate_descent.py:647: ConvergenceWarning: Objective did not converge. You might want to increase the number of iterations, check the scale of the features or consider increasing regularisation. Duality gap: 1.802e+01, tolerance: 2.262e+00\n",
      "  model = cd_fast.enet_coordinate_descent(\n",
      "C:\\Users\\amini\\anaconda3\\lib\\site-packages\\sklearn\\linear_model\\_coordinate_descent.py:647: ConvergenceWarning: Objective did not converge. You might want to increase the number of iterations, check the scale of the features or consider increasing regularisation. Duality gap: 2.083e+01, tolerance: 2.262e+00\n",
      "  model = cd_fast.enet_coordinate_descent(\n",
      "C:\\Users\\amini\\anaconda3\\lib\\site-packages\\sklearn\\linear_model\\_coordinate_descent.py:647: ConvergenceWarning: Objective did not converge. You might want to increase the number of iterations, check the scale of the features or consider increasing regularisation. Duality gap: 2.859e+01, tolerance: 2.262e+00\n",
      "  model = cd_fast.enet_coordinate_descent(\n",
      "C:\\Users\\amini\\anaconda3\\lib\\site-packages\\sklearn\\linear_model\\_coordinate_descent.py:647: ConvergenceWarning: Objective did not converge. You might want to increase the number of iterations, check the scale of the features or consider increasing regularisation. Duality gap: 2.955e+01, tolerance: 2.262e+00\n",
      "  model = cd_fast.enet_coordinate_descent(\n",
      "C:\\Users\\amini\\anaconda3\\lib\\site-packages\\sklearn\\linear_model\\_coordinate_descent.py:647: ConvergenceWarning: Objective did not converge. You might want to increase the number of iterations, check the scale of the features or consider increasing regularisation. Duality gap: 2.206e+01, tolerance: 2.262e+00\n",
      "  model = cd_fast.enet_coordinate_descent(\n",
      "C:\\Users\\amini\\anaconda3\\lib\\site-packages\\sklearn\\linear_model\\_coordinate_descent.py:647: ConvergenceWarning: Objective did not converge. You might want to increase the number of iterations, check the scale of the features or consider increasing regularisation. Duality gap: 2.106e+01, tolerance: 2.262e+00\n",
      "  model = cd_fast.enet_coordinate_descent(\n",
      "C:\\Users\\amini\\anaconda3\\lib\\site-packages\\sklearn\\linear_model\\_coordinate_descent.py:647: ConvergenceWarning: Objective did not converge. You might want to increase the number of iterations, check the scale of the features or consider increasing regularisation. Duality gap: 2.732e+01, tolerance: 2.262e+00\n",
      "  model = cd_fast.enet_coordinate_descent(\n",
      "C:\\Users\\amini\\anaconda3\\lib\\site-packages\\sklearn\\linear_model\\_coordinate_descent.py:647: ConvergenceWarning: Objective did not converge. You might want to increase the number of iterations, check the scale of the features or consider increasing regularisation. Duality gap: 3.315e+01, tolerance: 2.262e+00\n",
      "  model = cd_fast.enet_coordinate_descent(\n",
      "C:\\Users\\amini\\anaconda3\\lib\\site-packages\\sklearn\\linear_model\\_coordinate_descent.py:647: ConvergenceWarning: Objective did not converge. You might want to increase the number of iterations, check the scale of the features or consider increasing regularisation. Duality gap: 3.599e+01, tolerance: 2.262e+00\n",
      "  model = cd_fast.enet_coordinate_descent(\n"
     ]
    },
    {
     "name": "stderr",
     "output_type": "stream",
     "text": [
      "C:\\Users\\amini\\anaconda3\\lib\\site-packages\\sklearn\\linear_model\\_coordinate_descent.py:647: ConvergenceWarning: Objective did not converge. You might want to increase the number of iterations, check the scale of the features or consider increasing regularisation. Duality gap: 3.837e+01, tolerance: 2.262e+00\n",
      "  model = cd_fast.enet_coordinate_descent(\n",
      "C:\\Users\\amini\\anaconda3\\lib\\site-packages\\sklearn\\linear_model\\_coordinate_descent.py:647: ConvergenceWarning: Objective did not converge. You might want to increase the number of iterations, check the scale of the features or consider increasing regularisation. Duality gap: 3.856e+01, tolerance: 2.262e+00\n",
      "  model = cd_fast.enet_coordinate_descent(\n",
      "C:\\Users\\amini\\anaconda3\\lib\\site-packages\\sklearn\\linear_model\\_coordinate_descent.py:647: ConvergenceWarning: Objective did not converge. You might want to increase the number of iterations, check the scale of the features or consider increasing regularisation. Duality gap: 4.273e+01, tolerance: 2.262e+00\n",
      "  model = cd_fast.enet_coordinate_descent(\n",
      "C:\\Users\\amini\\anaconda3\\lib\\site-packages\\sklearn\\linear_model\\_coordinate_descent.py:647: ConvergenceWarning: Objective did not converge. You might want to increase the number of iterations, check the scale of the features or consider increasing regularisation. Duality gap: 4.420e+01, tolerance: 2.262e+00\n",
      "  model = cd_fast.enet_coordinate_descent(\n",
      "C:\\Users\\amini\\anaconda3\\lib\\site-packages\\sklearn\\linear_model\\_coordinate_descent.py:647: ConvergenceWarning: Objective did not converge. You might want to increase the number of iterations, check the scale of the features or consider increasing regularisation. Duality gap: 4.357e+01, tolerance: 2.262e+00\n",
      "  model = cd_fast.enet_coordinate_descent(\n",
      "C:\\Users\\amini\\anaconda3\\lib\\site-packages\\sklearn\\linear_model\\_coordinate_descent.py:647: ConvergenceWarning: Objective did not converge. You might want to increase the number of iterations, check the scale of the features or consider increasing regularisation. Duality gap: 4.689e+01, tolerance: 2.262e+00\n",
      "  model = cd_fast.enet_coordinate_descent(\n",
      "C:\\Users\\amini\\anaconda3\\lib\\site-packages\\sklearn\\linear_model\\_coordinate_descent.py:647: ConvergenceWarning: Objective did not converge. You might want to increase the number of iterations, check the scale of the features or consider increasing regularisation. Duality gap: 5.021e+01, tolerance: 2.262e+00\n",
      "  model = cd_fast.enet_coordinate_descent(\n",
      "C:\\Users\\amini\\anaconda3\\lib\\site-packages\\sklearn\\linear_model\\_coordinate_descent.py:647: ConvergenceWarning: Objective did not converge. You might want to increase the number of iterations, check the scale of the features or consider increasing regularisation. Duality gap: 5.544e+01, tolerance: 2.262e+00\n",
      "  model = cd_fast.enet_coordinate_descent(\n",
      "C:\\Users\\amini\\anaconda3\\lib\\site-packages\\sklearn\\linear_model\\_coordinate_descent.py:647: ConvergenceWarning: Objective did not converge. You might want to increase the number of iterations, check the scale of the features or consider increasing regularisation. Duality gap: 6.659e+01, tolerance: 2.262e+00\n",
      "  model = cd_fast.enet_coordinate_descent(\n",
      "C:\\Users\\amini\\anaconda3\\lib\\site-packages\\sklearn\\linear_model\\_coordinate_descent.py:647: ConvergenceWarning: Objective did not converge. You might want to increase the number of iterations, check the scale of the features or consider increasing regularisation. Duality gap: 7.947e+01, tolerance: 2.262e+00\n",
      "  model = cd_fast.enet_coordinate_descent(\n",
      "C:\\Users\\amini\\anaconda3\\lib\\site-packages\\sklearn\\linear_model\\_coordinate_descent.py:647: ConvergenceWarning: Objective did not converge. You might want to increase the number of iterations, check the scale of the features or consider increasing regularisation. Duality gap: 9.213e+01, tolerance: 2.262e+00\n",
      "  model = cd_fast.enet_coordinate_descent(\n",
      "C:\\Users\\amini\\anaconda3\\lib\\site-packages\\sklearn\\linear_model\\_coordinate_descent.py:647: ConvergenceWarning: Objective did not converge. You might want to increase the number of iterations, check the scale of the features or consider increasing regularisation. Duality gap: 4.677e+00, tolerance: 2.129e+00\n",
      "  model = cd_fast.enet_coordinate_descent(\n",
      "C:\\Users\\amini\\anaconda3\\lib\\site-packages\\sklearn\\linear_model\\_coordinate_descent.py:647: ConvergenceWarning: Objective did not converge. You might want to increase the number of iterations, check the scale of the features or consider increasing regularisation. Duality gap: 2.521e+00, tolerance: 2.129e+00\n",
      "  model = cd_fast.enet_coordinate_descent(\n",
      "C:\\Users\\amini\\anaconda3\\lib\\site-packages\\sklearn\\linear_model\\_coordinate_descent.py:647: ConvergenceWarning: Objective did not converge. You might want to increase the number of iterations, check the scale of the features or consider increasing regularisation. Duality gap: 5.408e+00, tolerance: 2.129e+00\n",
      "  model = cd_fast.enet_coordinate_descent(\n",
      "C:\\Users\\amini\\anaconda3\\lib\\site-packages\\sklearn\\linear_model\\_coordinate_descent.py:647: ConvergenceWarning: Objective did not converge. You might want to increase the number of iterations, check the scale of the features or consider increasing regularisation. Duality gap: 7.149e+00, tolerance: 2.129e+00\n",
      "  model = cd_fast.enet_coordinate_descent(\n",
      "C:\\Users\\amini\\anaconda3\\lib\\site-packages\\sklearn\\linear_model\\_coordinate_descent.py:647: ConvergenceWarning: Objective did not converge. You might want to increase the number of iterations, check the scale of the features or consider increasing regularisation. Duality gap: 6.373e+00, tolerance: 2.129e+00\n",
      "  model = cd_fast.enet_coordinate_descent(\n",
      "C:\\Users\\amini\\anaconda3\\lib\\site-packages\\sklearn\\linear_model\\_coordinate_descent.py:647: ConvergenceWarning: Objective did not converge. You might want to increase the number of iterations, check the scale of the features or consider increasing regularisation. Duality gap: 7.330e+00, tolerance: 2.129e+00\n",
      "  model = cd_fast.enet_coordinate_descent(\n",
      "C:\\Users\\amini\\anaconda3\\lib\\site-packages\\sklearn\\linear_model\\_coordinate_descent.py:647: ConvergenceWarning: Objective did not converge. You might want to increase the number of iterations, check the scale of the features or consider increasing regularisation. Duality gap: 5.978e+00, tolerance: 2.129e+00\n",
      "  model = cd_fast.enet_coordinate_descent(\n",
      "C:\\Users\\amini\\anaconda3\\lib\\site-packages\\sklearn\\linear_model\\_coordinate_descent.py:647: ConvergenceWarning: Objective did not converge. You might want to increase the number of iterations, check the scale of the features or consider increasing regularisation. Duality gap: 8.911e+00, tolerance: 2.129e+00\n",
      "  model = cd_fast.enet_coordinate_descent(\n",
      "C:\\Users\\amini\\anaconda3\\lib\\site-packages\\sklearn\\linear_model\\_coordinate_descent.py:647: ConvergenceWarning: Objective did not converge. You might want to increase the number of iterations, check the scale of the features or consider increasing regularisation. Duality gap: 9.348e+00, tolerance: 2.129e+00\n",
      "  model = cd_fast.enet_coordinate_descent(\n",
      "C:\\Users\\amini\\anaconda3\\lib\\site-packages\\sklearn\\linear_model\\_coordinate_descent.py:647: ConvergenceWarning: Objective did not converge. You might want to increase the number of iterations, check the scale of the features or consider increasing regularisation. Duality gap: 1.071e+01, tolerance: 2.129e+00\n",
      "  model = cd_fast.enet_coordinate_descent(\n",
      "C:\\Users\\amini\\anaconda3\\lib\\site-packages\\sklearn\\linear_model\\_coordinate_descent.py:647: ConvergenceWarning: Objective did not converge. You might want to increase the number of iterations, check the scale of the features or consider increasing regularisation. Duality gap: 1.323e+01, tolerance: 2.129e+00\n",
      "  model = cd_fast.enet_coordinate_descent(\n",
      "C:\\Users\\amini\\anaconda3\\lib\\site-packages\\sklearn\\linear_model\\_coordinate_descent.py:647: ConvergenceWarning: Objective did not converge. You might want to increase the number of iterations, check the scale of the features or consider increasing regularisation. Duality gap: 1.237e+01, tolerance: 2.129e+00\n",
      "  model = cd_fast.enet_coordinate_descent(\n",
      "C:\\Users\\amini\\anaconda3\\lib\\site-packages\\sklearn\\linear_model\\_coordinate_descent.py:647: ConvergenceWarning: Objective did not converge. You might want to increase the number of iterations, check the scale of the features or consider increasing regularisation. Duality gap: 1.288e+01, tolerance: 2.129e+00\n",
      "  model = cd_fast.enet_coordinate_descent(\n",
      "C:\\Users\\amini\\anaconda3\\lib\\site-packages\\sklearn\\linear_model\\_coordinate_descent.py:647: ConvergenceWarning: Objective did not converge. You might want to increase the number of iterations, check the scale of the features or consider increasing regularisation. Duality gap: 2.272e+01, tolerance: 2.129e+00\n",
      "  model = cd_fast.enet_coordinate_descent(\n",
      "C:\\Users\\amini\\anaconda3\\lib\\site-packages\\sklearn\\linear_model\\_coordinate_descent.py:647: ConvergenceWarning: Objective did not converge. You might want to increase the number of iterations, check the scale of the features or consider increasing regularisation. Duality gap: 3.471e+01, tolerance: 2.129e+00\n",
      "  model = cd_fast.enet_coordinate_descent(\n",
      "C:\\Users\\amini\\anaconda3\\lib\\site-packages\\sklearn\\linear_model\\_coordinate_descent.py:647: ConvergenceWarning: Objective did not converge. You might want to increase the number of iterations, check the scale of the features or consider increasing regularisation. Duality gap: 3.512e+01, tolerance: 2.129e+00\n",
      "  model = cd_fast.enet_coordinate_descent(\n",
      "C:\\Users\\amini\\anaconda3\\lib\\site-packages\\sklearn\\linear_model\\_coordinate_descent.py:647: ConvergenceWarning: Objective did not converge. You might want to increase the number of iterations, check the scale of the features or consider increasing regularisation. Duality gap: 2.257e+01, tolerance: 2.129e+00\n",
      "  model = cd_fast.enet_coordinate_descent(\n",
      "C:\\Users\\amini\\anaconda3\\lib\\site-packages\\sklearn\\linear_model\\_coordinate_descent.py:647: ConvergenceWarning: Objective did not converge. You might want to increase the number of iterations, check the scale of the features or consider increasing regularisation. Duality gap: 1.373e+01, tolerance: 2.129e+00\n",
      "  model = cd_fast.enet_coordinate_descent(\n",
      "C:\\Users\\amini\\anaconda3\\lib\\site-packages\\sklearn\\linear_model\\_coordinate_descent.py:647: ConvergenceWarning: Objective did not converge. You might want to increase the number of iterations, check the scale of the features or consider increasing regularisation. Duality gap: 1.029e+01, tolerance: 2.129e+00\n",
      "  model = cd_fast.enet_coordinate_descent(\n",
      "C:\\Users\\amini\\anaconda3\\lib\\site-packages\\sklearn\\linear_model\\_coordinate_descent.py:647: ConvergenceWarning: Objective did not converge. You might want to increase the number of iterations, check the scale of the features or consider increasing regularisation. Duality gap: 1.319e+01, tolerance: 2.129e+00\n",
      "  model = cd_fast.enet_coordinate_descent(\n",
      "C:\\Users\\amini\\anaconda3\\lib\\site-packages\\sklearn\\linear_model\\_coordinate_descent.py:647: ConvergenceWarning: Objective did not converge. You might want to increase the number of iterations, check the scale of the features or consider increasing regularisation. Duality gap: 7.002e+00, tolerance: 2.129e+00\n",
      "  model = cd_fast.enet_coordinate_descent(\n"
     ]
    },
    {
     "name": "stderr",
     "output_type": "stream",
     "text": [
      "C:\\Users\\amini\\anaconda3\\lib\\site-packages\\sklearn\\linear_model\\_coordinate_descent.py:647: ConvergenceWarning: Objective did not converge. You might want to increase the number of iterations, check the scale of the features or consider increasing regularisation. Duality gap: 1.427e+01, tolerance: 2.129e+00\n",
      "  model = cd_fast.enet_coordinate_descent(\n",
      "C:\\Users\\amini\\anaconda3\\lib\\site-packages\\sklearn\\linear_model\\_coordinate_descent.py:647: ConvergenceWarning: Objective did not converge. You might want to increase the number of iterations, check the scale of the features or consider increasing regularisation. Duality gap: 2.052e+01, tolerance: 2.129e+00\n",
      "  model = cd_fast.enet_coordinate_descent(\n",
      "C:\\Users\\amini\\anaconda3\\lib\\site-packages\\sklearn\\linear_model\\_coordinate_descent.py:647: ConvergenceWarning: Objective did not converge. You might want to increase the number of iterations, check the scale of the features or consider increasing regularisation. Duality gap: 3.335e+01, tolerance: 2.129e+00\n",
      "  model = cd_fast.enet_coordinate_descent(\n",
      "C:\\Users\\amini\\anaconda3\\lib\\site-packages\\sklearn\\linear_model\\_coordinate_descent.py:647: ConvergenceWarning: Objective did not converge. You might want to increase the number of iterations, check the scale of the features or consider increasing regularisation. Duality gap: 2.547e+01, tolerance: 2.129e+00\n",
      "  model = cd_fast.enet_coordinate_descent(\n",
      "C:\\Users\\amini\\anaconda3\\lib\\site-packages\\sklearn\\linear_model\\_coordinate_descent.py:647: ConvergenceWarning: Objective did not converge. You might want to increase the number of iterations, check the scale of the features or consider increasing regularisation. Duality gap: 2.389e+01, tolerance: 2.129e+00\n",
      "  model = cd_fast.enet_coordinate_descent(\n",
      "C:\\Users\\amini\\anaconda3\\lib\\site-packages\\sklearn\\linear_model\\_coordinate_descent.py:647: ConvergenceWarning: Objective did not converge. You might want to increase the number of iterations, check the scale of the features or consider increasing regularisation. Duality gap: 1.689e+01, tolerance: 2.129e+00\n",
      "  model = cd_fast.enet_coordinate_descent(\n",
      "C:\\Users\\amini\\anaconda3\\lib\\site-packages\\sklearn\\linear_model\\_coordinate_descent.py:647: ConvergenceWarning: Objective did not converge. You might want to increase the number of iterations, check the scale of the features or consider increasing regularisation. Duality gap: 1.888e+01, tolerance: 2.129e+00\n",
      "  model = cd_fast.enet_coordinate_descent(\n",
      "C:\\Users\\amini\\anaconda3\\lib\\site-packages\\sklearn\\linear_model\\_coordinate_descent.py:647: ConvergenceWarning: Objective did not converge. You might want to increase the number of iterations, check the scale of the features or consider increasing regularisation. Duality gap: 1.757e+01, tolerance: 2.129e+00\n",
      "  model = cd_fast.enet_coordinate_descent(\n",
      "C:\\Users\\amini\\anaconda3\\lib\\site-packages\\sklearn\\linear_model\\_coordinate_descent.py:647: ConvergenceWarning: Objective did not converge. You might want to increase the number of iterations, check the scale of the features or consider increasing regularisation. Duality gap: 1.761e+01, tolerance: 2.129e+00\n",
      "  model = cd_fast.enet_coordinate_descent(\n",
      "C:\\Users\\amini\\anaconda3\\lib\\site-packages\\sklearn\\linear_model\\_coordinate_descent.py:647: ConvergenceWarning: Objective did not converge. You might want to increase the number of iterations, check the scale of the features or consider increasing regularisation. Duality gap: 1.851e+01, tolerance: 2.129e+00\n",
      "  model = cd_fast.enet_coordinate_descent(\n",
      "C:\\Users\\amini\\anaconda3\\lib\\site-packages\\sklearn\\linear_model\\_coordinate_descent.py:647: ConvergenceWarning: Objective did not converge. You might want to increase the number of iterations, check the scale of the features or consider increasing regularisation. Duality gap: 2.173e+01, tolerance: 2.129e+00\n",
      "  model = cd_fast.enet_coordinate_descent(\n",
      "C:\\Users\\amini\\anaconda3\\lib\\site-packages\\sklearn\\linear_model\\_coordinate_descent.py:647: ConvergenceWarning: Objective did not converge. You might want to increase the number of iterations, check the scale of the features or consider increasing regularisation. Duality gap: 2.134e+01, tolerance: 2.129e+00\n",
      "  model = cd_fast.enet_coordinate_descent(\n",
      "C:\\Users\\amini\\anaconda3\\lib\\site-packages\\sklearn\\linear_model\\_coordinate_descent.py:647: ConvergenceWarning: Objective did not converge. You might want to increase the number of iterations, check the scale of the features or consider increasing regularisation. Duality gap: 2.156e+01, tolerance: 2.129e+00\n",
      "  model = cd_fast.enet_coordinate_descent(\n",
      "C:\\Users\\amini\\anaconda3\\lib\\site-packages\\sklearn\\linear_model\\_coordinate_descent.py:647: ConvergenceWarning: Objective did not converge. You might want to increase the number of iterations, check the scale of the features or consider increasing regularisation. Duality gap: 2.304e+01, tolerance: 2.129e+00\n",
      "  model = cd_fast.enet_coordinate_descent(\n",
      "C:\\Users\\amini\\anaconda3\\lib\\site-packages\\sklearn\\linear_model\\_coordinate_descent.py:647: ConvergenceWarning: Objective did not converge. You might want to increase the number of iterations, check the scale of the features or consider increasing regularisation. Duality gap: 2.410e+01, tolerance: 2.129e+00\n",
      "  model = cd_fast.enet_coordinate_descent(\n",
      "C:\\Users\\amini\\anaconda3\\lib\\site-packages\\sklearn\\linear_model\\_coordinate_descent.py:647: ConvergenceWarning: Objective did not converge. You might want to increase the number of iterations, check the scale of the features or consider increasing regularisation. Duality gap: 2.644e+01, tolerance: 2.129e+00\n",
      "  model = cd_fast.enet_coordinate_descent(\n",
      "C:\\Users\\amini\\anaconda3\\lib\\site-packages\\sklearn\\linear_model\\_coordinate_descent.py:647: ConvergenceWarning: Objective did not converge. You might want to increase the number of iterations, check the scale of the features or consider increasing regularisation. Duality gap: 2.898e+01, tolerance: 2.129e+00\n",
      "  model = cd_fast.enet_coordinate_descent(\n",
      "C:\\Users\\amini\\anaconda3\\lib\\site-packages\\sklearn\\linear_model\\_coordinate_descent.py:647: ConvergenceWarning: Objective did not converge. You might want to increase the number of iterations, check the scale of the features or consider increasing regularisation. Duality gap: 3.408e+01, tolerance: 2.129e+00\n",
      "  model = cd_fast.enet_coordinate_descent(\n",
      "C:\\Users\\amini\\anaconda3\\lib\\site-packages\\sklearn\\linear_model\\_coordinate_descent.py:647: ConvergenceWarning: Objective did not converge. You might want to increase the number of iterations, check the scale of the features or consider increasing regularisation. Duality gap: 4.354e+01, tolerance: 2.129e+00\n",
      "  model = cd_fast.enet_coordinate_descent(\n",
      "C:\\Users\\amini\\anaconda3\\lib\\site-packages\\sklearn\\linear_model\\_coordinate_descent.py:647: ConvergenceWarning: Objective did not converge. You might want to increase the number of iterations, check the scale of the features or consider increasing regularisation. Duality gap: 5.089e+01, tolerance: 2.129e+00\n",
      "  model = cd_fast.enet_coordinate_descent(\n",
      "C:\\Users\\amini\\anaconda3\\lib\\site-packages\\sklearn\\linear_model\\_coordinate_descent.py:647: ConvergenceWarning: Objective did not converge. You might want to increase the number of iterations, check the scale of the features or consider increasing regularisation. Duality gap: 6.246e+01, tolerance: 2.129e+00\n",
      "  model = cd_fast.enet_coordinate_descent(\n",
      "C:\\Users\\amini\\anaconda3\\lib\\site-packages\\sklearn\\linear_model\\_coordinate_descent.py:647: ConvergenceWarning: Objective did not converge. You might want to increase the number of iterations, check the scale of the features or consider increasing regularisation. Duality gap: 6.658e+01, tolerance: 2.129e+00\n",
      "  model = cd_fast.enet_coordinate_descent(\n",
      "C:\\Users\\amini\\anaconda3\\lib\\site-packages\\sklearn\\linear_model\\_coordinate_descent.py:647: ConvergenceWarning: Objective did not converge. You might want to increase the number of iterations, check the scale of the features or consider increasing regularisation. Duality gap: 7.242e+01, tolerance: 2.129e+00\n",
      "  model = cd_fast.enet_coordinate_descent(\n",
      "C:\\Users\\amini\\anaconda3\\lib\\site-packages\\sklearn\\linear_model\\_coordinate_descent.py:647: ConvergenceWarning: Objective did not converge. You might want to increase the number of iterations, check the scale of the features or consider increasing regularisation. Duality gap: 7.645e+01, tolerance: 2.129e+00\n",
      "  model = cd_fast.enet_coordinate_descent(\n",
      "C:\\Users\\amini\\anaconda3\\lib\\site-packages\\sklearn\\linear_model\\_coordinate_descent.py:647: ConvergenceWarning: Objective did not converge. You might want to increase the number of iterations, check the scale of the features or consider increasing regularisation. Duality gap: 7.962e+01, tolerance: 2.129e+00\n",
      "  model = cd_fast.enet_coordinate_descent(\n",
      "C:\\Users\\amini\\anaconda3\\lib\\site-packages\\sklearn\\linear_model\\_coordinate_descent.py:647: ConvergenceWarning: Objective did not converge. You might want to increase the number of iterations, check the scale of the features or consider increasing regularisation. Duality gap: 8.647e+01, tolerance: 2.129e+00\n",
      "  model = cd_fast.enet_coordinate_descent(\n",
      "C:\\Users\\amini\\anaconda3\\lib\\site-packages\\sklearn\\linear_model\\_coordinate_descent.py:647: ConvergenceWarning: Objective did not converge. You might want to increase the number of iterations, check the scale of the features or consider increasing regularisation. Duality gap: 9.275e+01, tolerance: 2.129e+00\n",
      "  model = cd_fast.enet_coordinate_descent(\n"
     ]
    },
    {
     "name": "stderr",
     "output_type": "stream",
     "text": [
      "C:\\Users\\amini\\anaconda3\\lib\\site-packages\\sklearn\\linear_model\\_coordinate_descent.py:647: ConvergenceWarning: Objective did not converge. You might want to increase the number of iterations, check the scale of the features or consider increasing regularisation. Duality gap: 2.265e+00, tolerance: 2.135e+00\n",
      "  model = cd_fast.enet_coordinate_descent(\n",
      "C:\\Users\\amini\\anaconda3\\lib\\site-packages\\sklearn\\linear_model\\_coordinate_descent.py:647: ConvergenceWarning: Objective did not converge. You might want to increase the number of iterations, check the scale of the features or consider increasing regularisation. Duality gap: 4.260e+00, tolerance: 2.135e+00\n",
      "  model = cd_fast.enet_coordinate_descent(\n",
      "C:\\Users\\amini\\anaconda3\\lib\\site-packages\\sklearn\\linear_model\\_coordinate_descent.py:647: ConvergenceWarning: Objective did not converge. You might want to increase the number of iterations, check the scale of the features or consider increasing regularisation. Duality gap: 3.124e+00, tolerance: 2.135e+00\n",
      "  model = cd_fast.enet_coordinate_descent(\n",
      "C:\\Users\\amini\\anaconda3\\lib\\site-packages\\sklearn\\linear_model\\_coordinate_descent.py:647: ConvergenceWarning: Objective did not converge. You might want to increase the number of iterations, check the scale of the features or consider increasing regularisation. Duality gap: 7.135e+00, tolerance: 2.135e+00\n",
      "  model = cd_fast.enet_coordinate_descent(\n",
      "C:\\Users\\amini\\anaconda3\\lib\\site-packages\\sklearn\\linear_model\\_coordinate_descent.py:647: ConvergenceWarning: Objective did not converge. You might want to increase the number of iterations, check the scale of the features or consider increasing regularisation. Duality gap: 8.079e+00, tolerance: 2.135e+00\n",
      "  model = cd_fast.enet_coordinate_descent(\n",
      "C:\\Users\\amini\\anaconda3\\lib\\site-packages\\sklearn\\linear_model\\_coordinate_descent.py:647: ConvergenceWarning: Objective did not converge. You might want to increase the number of iterations, check the scale of the features or consider increasing regularisation. Duality gap: 9.216e+00, tolerance: 2.135e+00\n",
      "  model = cd_fast.enet_coordinate_descent(\n",
      "C:\\Users\\amini\\anaconda3\\lib\\site-packages\\sklearn\\linear_model\\_coordinate_descent.py:647: ConvergenceWarning: Objective did not converge. You might want to increase the number of iterations, check the scale of the features or consider increasing regularisation. Duality gap: 9.615e+00, tolerance: 2.135e+00\n",
      "  model = cd_fast.enet_coordinate_descent(\n",
      "C:\\Users\\amini\\anaconda3\\lib\\site-packages\\sklearn\\linear_model\\_coordinate_descent.py:647: ConvergenceWarning: Objective did not converge. You might want to increase the number of iterations, check the scale of the features or consider increasing regularisation. Duality gap: 1.085e+01, tolerance: 2.135e+00\n",
      "  model = cd_fast.enet_coordinate_descent(\n",
      "C:\\Users\\amini\\anaconda3\\lib\\site-packages\\sklearn\\linear_model\\_coordinate_descent.py:647: ConvergenceWarning: Objective did not converge. You might want to increase the number of iterations, check the scale of the features or consider increasing regularisation. Duality gap: 1.024e+01, tolerance: 2.135e+00\n",
      "  model = cd_fast.enet_coordinate_descent(\n",
      "C:\\Users\\amini\\anaconda3\\lib\\site-packages\\sklearn\\linear_model\\_coordinate_descent.py:647: ConvergenceWarning: Objective did not converge. You might want to increase the number of iterations, check the scale of the features or consider increasing regularisation. Duality gap: 1.164e+01, tolerance: 2.135e+00\n",
      "  model = cd_fast.enet_coordinate_descent(\n",
      "C:\\Users\\amini\\anaconda3\\lib\\site-packages\\sklearn\\linear_model\\_coordinate_descent.py:647: ConvergenceWarning: Objective did not converge. You might want to increase the number of iterations, check the scale of the features or consider increasing regularisation. Duality gap: 2.139e+01, tolerance: 2.135e+00\n",
      "  model = cd_fast.enet_coordinate_descent(\n",
      "C:\\Users\\amini\\anaconda3\\lib\\site-packages\\sklearn\\linear_model\\_coordinate_descent.py:647: ConvergenceWarning: Objective did not converge. You might want to increase the number of iterations, check the scale of the features or consider increasing regularisation. Duality gap: 3.354e+01, tolerance: 2.135e+00\n",
      "  model = cd_fast.enet_coordinate_descent(\n",
      "C:\\Users\\amini\\anaconda3\\lib\\site-packages\\sklearn\\linear_model\\_coordinate_descent.py:647: ConvergenceWarning: Objective did not converge. You might want to increase the number of iterations, check the scale of the features or consider increasing regularisation. Duality gap: 4.205e+01, tolerance: 2.135e+00\n",
      "  model = cd_fast.enet_coordinate_descent(\n",
      "C:\\Users\\amini\\anaconda3\\lib\\site-packages\\sklearn\\linear_model\\_coordinate_descent.py:647: ConvergenceWarning: Objective did not converge. You might want to increase the number of iterations, check the scale of the features or consider increasing regularisation. Duality gap: 3.637e+01, tolerance: 2.135e+00\n",
      "  model = cd_fast.enet_coordinate_descent(\n",
      "C:\\Users\\amini\\anaconda3\\lib\\site-packages\\sklearn\\linear_model\\_coordinate_descent.py:647: ConvergenceWarning: Objective did not converge. You might want to increase the number of iterations, check the scale of the features or consider increasing regularisation. Duality gap: 3.071e+01, tolerance: 2.135e+00\n",
      "  model = cd_fast.enet_coordinate_descent(\n",
      "C:\\Users\\amini\\anaconda3\\lib\\site-packages\\sklearn\\linear_model\\_coordinate_descent.py:647: ConvergenceWarning: Objective did not converge. You might want to increase the number of iterations, check the scale of the features or consider increasing regularisation. Duality gap: 7.086e+00, tolerance: 2.135e+00\n",
      "  model = cd_fast.enet_coordinate_descent(\n",
      "C:\\Users\\amini\\anaconda3\\lib\\site-packages\\sklearn\\linear_model\\_coordinate_descent.py:647: ConvergenceWarning: Objective did not converge. You might want to increase the number of iterations, check the scale of the features or consider increasing regularisation. Duality gap: 1.463e+01, tolerance: 2.135e+00\n",
      "  model = cd_fast.enet_coordinate_descent(\n",
      "C:\\Users\\amini\\anaconda3\\lib\\site-packages\\sklearn\\linear_model\\_coordinate_descent.py:647: ConvergenceWarning: Objective did not converge. You might want to increase the number of iterations, check the scale of the features or consider increasing regularisation. Duality gap: 1.885e+01, tolerance: 2.135e+00\n",
      "  model = cd_fast.enet_coordinate_descent(\n",
      "C:\\Users\\amini\\anaconda3\\lib\\site-packages\\sklearn\\linear_model\\_coordinate_descent.py:647: ConvergenceWarning: Objective did not converge. You might want to increase the number of iterations, check the scale of the features or consider increasing regularisation. Duality gap: 9.654e+00, tolerance: 2.135e+00\n",
      "  model = cd_fast.enet_coordinate_descent(\n",
      "C:\\Users\\amini\\anaconda3\\lib\\site-packages\\sklearn\\linear_model\\_coordinate_descent.py:647: ConvergenceWarning: Objective did not converge. You might want to increase the number of iterations, check the scale of the features or consider increasing regularisation. Duality gap: 2.331e+01, tolerance: 2.135e+00\n",
      "  model = cd_fast.enet_coordinate_descent(\n",
      "C:\\Users\\amini\\anaconda3\\lib\\site-packages\\sklearn\\linear_model\\_coordinate_descent.py:647: ConvergenceWarning: Objective did not converge. You might want to increase the number of iterations, check the scale of the features or consider increasing regularisation. Duality gap: 2.314e+01, tolerance: 2.135e+00\n",
      "  model = cd_fast.enet_coordinate_descent(\n",
      "C:\\Users\\amini\\anaconda3\\lib\\site-packages\\sklearn\\linear_model\\_coordinate_descent.py:647: ConvergenceWarning: Objective did not converge. You might want to increase the number of iterations, check the scale of the features or consider increasing regularisation. Duality gap: 3.035e+01, tolerance: 2.135e+00\n",
      "  model = cd_fast.enet_coordinate_descent(\n",
      "C:\\Users\\amini\\anaconda3\\lib\\site-packages\\sklearn\\linear_model\\_coordinate_descent.py:647: ConvergenceWarning: Objective did not converge. You might want to increase the number of iterations, check the scale of the features or consider increasing regularisation. Duality gap: 3.118e+01, tolerance: 2.135e+00\n",
      "  model = cd_fast.enet_coordinate_descent(\n",
      "C:\\Users\\amini\\anaconda3\\lib\\site-packages\\sklearn\\linear_model\\_coordinate_descent.py:647: ConvergenceWarning: Objective did not converge. You might want to increase the number of iterations, check the scale of the features or consider increasing regularisation. Duality gap: 1.767e+01, tolerance: 2.135e+00\n",
      "  model = cd_fast.enet_coordinate_descent(\n",
      "C:\\Users\\amini\\anaconda3\\lib\\site-packages\\sklearn\\linear_model\\_coordinate_descent.py:647: ConvergenceWarning: Objective did not converge. You might want to increase the number of iterations, check the scale of the features or consider increasing regularisation. Duality gap: 2.234e+01, tolerance: 2.135e+00\n",
      "  model = cd_fast.enet_coordinate_descent(\n",
      "C:\\Users\\amini\\anaconda3\\lib\\site-packages\\sklearn\\linear_model\\_coordinate_descent.py:647: ConvergenceWarning: Objective did not converge. You might want to increase the number of iterations, check the scale of the features or consider increasing regularisation. Duality gap: 1.902e+01, tolerance: 2.135e+00\n",
      "  model = cd_fast.enet_coordinate_descent(\n",
      "C:\\Users\\amini\\anaconda3\\lib\\site-packages\\sklearn\\linear_model\\_coordinate_descent.py:647: ConvergenceWarning: Objective did not converge. You might want to increase the number of iterations, check the scale of the features or consider increasing regularisation. Duality gap: 1.669e+01, tolerance: 2.135e+00\n",
      "  model = cd_fast.enet_coordinate_descent(\n",
      "C:\\Users\\amini\\anaconda3\\lib\\site-packages\\sklearn\\linear_model\\_coordinate_descent.py:647: ConvergenceWarning: Objective did not converge. You might want to increase the number of iterations, check the scale of the features or consider increasing regularisation. Duality gap: 2.082e+01, tolerance: 2.135e+00\n",
      "  model = cd_fast.enet_coordinate_descent(\n",
      "C:\\Users\\amini\\anaconda3\\lib\\site-packages\\sklearn\\linear_model\\_coordinate_descent.py:647: ConvergenceWarning: Objective did not converge. You might want to increase the number of iterations, check the scale of the features or consider increasing regularisation. Duality gap: 2.659e+01, tolerance: 2.135e+00\n",
      "  model = cd_fast.enet_coordinate_descent(\n",
      "C:\\Users\\amini\\anaconda3\\lib\\site-packages\\sklearn\\linear_model\\_coordinate_descent.py:647: ConvergenceWarning: Objective did not converge. You might want to increase the number of iterations, check the scale of the features or consider increasing regularisation. Duality gap: 3.001e+01, tolerance: 2.135e+00\n",
      "  model = cd_fast.enet_coordinate_descent(\n",
      "C:\\Users\\amini\\anaconda3\\lib\\site-packages\\sklearn\\linear_model\\_coordinate_descent.py:647: ConvergenceWarning: Objective did not converge. You might want to increase the number of iterations, check the scale of the features or consider increasing regularisation. Duality gap: 2.490e+01, tolerance: 2.135e+00\n",
      "  model = cd_fast.enet_coordinate_descent(\n"
     ]
    },
    {
     "name": "stderr",
     "output_type": "stream",
     "text": [
      "C:\\Users\\amini\\anaconda3\\lib\\site-packages\\sklearn\\linear_model\\_coordinate_descent.py:647: ConvergenceWarning: Objective did not converge. You might want to increase the number of iterations, check the scale of the features or consider increasing regularisation. Duality gap: 2.782e+01, tolerance: 2.135e+00\n",
      "  model = cd_fast.enet_coordinate_descent(\n",
      "C:\\Users\\amini\\anaconda3\\lib\\site-packages\\sklearn\\linear_model\\_coordinate_descent.py:647: ConvergenceWarning: Objective did not converge. You might want to increase the number of iterations, check the scale of the features or consider increasing regularisation. Duality gap: 3.847e+01, tolerance: 2.135e+00\n",
      "  model = cd_fast.enet_coordinate_descent(\n",
      "C:\\Users\\amini\\anaconda3\\lib\\site-packages\\sklearn\\linear_model\\_coordinate_descent.py:647: ConvergenceWarning: Objective did not converge. You might want to increase the number of iterations, check the scale of the features or consider increasing regularisation. Duality gap: 4.700e+01, tolerance: 2.135e+00\n",
      "  model = cd_fast.enet_coordinate_descent(\n",
      "C:\\Users\\amini\\anaconda3\\lib\\site-packages\\sklearn\\linear_model\\_coordinate_descent.py:647: ConvergenceWarning: Objective did not converge. You might want to increase the number of iterations, check the scale of the features or consider increasing regularisation. Duality gap: 5.059e+01, tolerance: 2.135e+00\n",
      "  model = cd_fast.enet_coordinate_descent(\n",
      "C:\\Users\\amini\\anaconda3\\lib\\site-packages\\sklearn\\linear_model\\_coordinate_descent.py:647: ConvergenceWarning: Objective did not converge. You might want to increase the number of iterations, check the scale of the features or consider increasing regularisation. Duality gap: 4.091e+01, tolerance: 2.135e+00\n",
      "  model = cd_fast.enet_coordinate_descent(\n",
      "C:\\Users\\amini\\anaconda3\\lib\\site-packages\\sklearn\\linear_model\\_coordinate_descent.py:647: ConvergenceWarning: Objective did not converge. You might want to increase the number of iterations, check the scale of the features or consider increasing regularisation. Duality gap: 4.929e+01, tolerance: 2.135e+00\n",
      "  model = cd_fast.enet_coordinate_descent(\n",
      "C:\\Users\\amini\\anaconda3\\lib\\site-packages\\sklearn\\linear_model\\_coordinate_descent.py:647: ConvergenceWarning: Objective did not converge. You might want to increase the number of iterations, check the scale of the features or consider increasing regularisation. Duality gap: 5.377e+01, tolerance: 2.135e+00\n",
      "  model = cd_fast.enet_coordinate_descent(\n",
      "C:\\Users\\amini\\anaconda3\\lib\\site-packages\\sklearn\\linear_model\\_coordinate_descent.py:647: ConvergenceWarning: Objective did not converge. You might want to increase the number of iterations, check the scale of the features or consider increasing regularisation. Duality gap: 6.140e+01, tolerance: 2.135e+00\n",
      "  model = cd_fast.enet_coordinate_descent(\n",
      "C:\\Users\\amini\\anaconda3\\lib\\site-packages\\sklearn\\linear_model\\_coordinate_descent.py:647: ConvergenceWarning: Objective did not converge. You might want to increase the number of iterations, check the scale of the features or consider increasing regularisation. Duality gap: 7.237e+01, tolerance: 2.135e+00\n",
      "  model = cd_fast.enet_coordinate_descent(\n",
      "C:\\Users\\amini\\anaconda3\\lib\\site-packages\\sklearn\\linear_model\\_coordinate_descent.py:647: ConvergenceWarning: Objective did not converge. You might want to increase the number of iterations, check the scale of the features or consider increasing regularisation. Duality gap: 8.043e+01, tolerance: 2.135e+00\n",
      "  model = cd_fast.enet_coordinate_descent(\n",
      "C:\\Users\\amini\\anaconda3\\lib\\site-packages\\sklearn\\linear_model\\_coordinate_descent.py:647: ConvergenceWarning: Objective did not converge. You might want to increase the number of iterations, check the scale of the features or consider increasing regularisation. Duality gap: 8.382e+01, tolerance: 2.135e+00\n",
      "  model = cd_fast.enet_coordinate_descent(\n",
      "C:\\Users\\amini\\anaconda3\\lib\\site-packages\\sklearn\\linear_model\\_coordinate_descent.py:647: ConvergenceWarning: Objective did not converge. You might want to increase the number of iterations, check the scale of the features or consider increasing regularisation. Duality gap: 9.204e+01, tolerance: 2.135e+00\n",
      "  model = cd_fast.enet_coordinate_descent(\n",
      "C:\\Users\\amini\\anaconda3\\lib\\site-packages\\sklearn\\linear_model\\_coordinate_descent.py:647: ConvergenceWarning: Objective did not converge. You might want to increase the number of iterations, check the scale of the features or consider increasing regularisation. Duality gap: 1.007e+02, tolerance: 2.135e+00\n",
      "  model = cd_fast.enet_coordinate_descent(\n",
      "C:\\Users\\amini\\anaconda3\\lib\\site-packages\\sklearn\\linear_model\\_coordinate_descent.py:647: ConvergenceWarning: Objective did not converge. You might want to increase the number of iterations, check the scale of the features or consider increasing regularisation. Duality gap: 1.021e+02, tolerance: 2.135e+00\n",
      "  model = cd_fast.enet_coordinate_descent(\n",
      "C:\\Users\\amini\\anaconda3\\lib\\site-packages\\sklearn\\linear_model\\_coordinate_descent.py:647: ConvergenceWarning: Objective did not converge. You might want to increase the number of iterations, check the scale of the features or consider increasing regularisation. Duality gap: 1.128e+02, tolerance: 2.135e+00\n",
      "  model = cd_fast.enet_coordinate_descent(\n",
      "C:\\Users\\amini\\anaconda3\\lib\\site-packages\\sklearn\\linear_model\\_coordinate_descent.py:647: ConvergenceWarning: Objective did not converge. You might want to increase the number of iterations, check the scale of the features or consider increasing regularisation. Duality gap: 5.095e+00, tolerance: 2.336e+00\n",
      "  model = cd_fast.enet_coordinate_descent(\n",
      "C:\\Users\\amini\\anaconda3\\lib\\site-packages\\sklearn\\linear_model\\_coordinate_descent.py:647: ConvergenceWarning: Objective did not converge. You might want to increase the number of iterations, check the scale of the features or consider increasing regularisation. Duality gap: 4.070e+00, tolerance: 2.336e+00\n",
      "  model = cd_fast.enet_coordinate_descent(\n",
      "C:\\Users\\amini\\anaconda3\\lib\\site-packages\\sklearn\\linear_model\\_coordinate_descent.py:647: ConvergenceWarning: Objective did not converge. You might want to increase the number of iterations, check the scale of the features or consider increasing regularisation. Duality gap: 7.877e+00, tolerance: 2.336e+00\n",
      "  model = cd_fast.enet_coordinate_descent(\n",
      "C:\\Users\\amini\\anaconda3\\lib\\site-packages\\sklearn\\linear_model\\_coordinate_descent.py:647: ConvergenceWarning: Objective did not converge. You might want to increase the number of iterations, check the scale of the features or consider increasing regularisation. Duality gap: 1.022e+01, tolerance: 2.336e+00\n",
      "  model = cd_fast.enet_coordinate_descent(\n",
      "C:\\Users\\amini\\anaconda3\\lib\\site-packages\\sklearn\\linear_model\\_coordinate_descent.py:647: ConvergenceWarning: Objective did not converge. You might want to increase the number of iterations, check the scale of the features or consider increasing regularisation. Duality gap: 8.435e+00, tolerance: 2.336e+00\n",
      "  model = cd_fast.enet_coordinate_descent(\n",
      "C:\\Users\\amini\\anaconda3\\lib\\site-packages\\sklearn\\linear_model\\_coordinate_descent.py:647: ConvergenceWarning: Objective did not converge. You might want to increase the number of iterations, check the scale of the features or consider increasing regularisation. Duality gap: 8.853e+00, tolerance: 2.336e+00\n",
      "  model = cd_fast.enet_coordinate_descent(\n",
      "C:\\Users\\amini\\anaconda3\\lib\\site-packages\\sklearn\\linear_model\\_coordinate_descent.py:647: ConvergenceWarning: Objective did not converge. You might want to increase the number of iterations, check the scale of the features or consider increasing regularisation. Duality gap: 1.231e+01, tolerance: 2.336e+00\n",
      "  model = cd_fast.enet_coordinate_descent(\n",
      "C:\\Users\\amini\\anaconda3\\lib\\site-packages\\sklearn\\linear_model\\_coordinate_descent.py:647: ConvergenceWarning: Objective did not converge. You might want to increase the number of iterations, check the scale of the features or consider increasing regularisation. Duality gap: 1.417e+01, tolerance: 2.336e+00\n",
      "  model = cd_fast.enet_coordinate_descent(\n",
      "C:\\Users\\amini\\anaconda3\\lib\\site-packages\\sklearn\\linear_model\\_coordinate_descent.py:647: ConvergenceWarning: Objective did not converge. You might want to increase the number of iterations, check the scale of the features or consider increasing regularisation. Duality gap: 1.350e+01, tolerance: 2.336e+00\n",
      "  model = cd_fast.enet_coordinate_descent(\n",
      "C:\\Users\\amini\\anaconda3\\lib\\site-packages\\sklearn\\linear_model\\_coordinate_descent.py:647: ConvergenceWarning: Objective did not converge. You might want to increase the number of iterations, check the scale of the features or consider increasing regularisation. Duality gap: 1.044e+01, tolerance: 2.336e+00\n",
      "  model = cd_fast.enet_coordinate_descent(\n",
      "C:\\Users\\amini\\anaconda3\\lib\\site-packages\\sklearn\\linear_model\\_coordinate_descent.py:647: ConvergenceWarning: Objective did not converge. You might want to increase the number of iterations, check the scale of the features or consider increasing regularisation. Duality gap: 2.036e+01, tolerance: 2.336e+00\n",
      "  model = cd_fast.enet_coordinate_descent(\n",
      "C:\\Users\\amini\\anaconda3\\lib\\site-packages\\sklearn\\linear_model\\_coordinate_descent.py:647: ConvergenceWarning: Objective did not converge. You might want to increase the number of iterations, check the scale of the features or consider increasing regularisation. Duality gap: 3.119e+01, tolerance: 2.336e+00\n",
      "  model = cd_fast.enet_coordinate_descent(\n",
      "C:\\Users\\amini\\anaconda3\\lib\\site-packages\\sklearn\\linear_model\\_coordinate_descent.py:647: ConvergenceWarning: Objective did not converge. You might want to increase the number of iterations, check the scale of the features or consider increasing regularisation. Duality gap: 3.491e+01, tolerance: 2.336e+00\n",
      "  model = cd_fast.enet_coordinate_descent(\n",
      "C:\\Users\\amini\\anaconda3\\lib\\site-packages\\sklearn\\linear_model\\_coordinate_descent.py:647: ConvergenceWarning: Objective did not converge. You might want to increase the number of iterations, check the scale of the features or consider increasing regularisation. Duality gap: 2.339e+01, tolerance: 2.336e+00\n",
      "  model = cd_fast.enet_coordinate_descent(\n",
      "C:\\Users\\amini\\anaconda3\\lib\\site-packages\\sklearn\\linear_model\\_coordinate_descent.py:647: ConvergenceWarning: Objective did not converge. You might want to increase the number of iterations, check the scale of the features or consider increasing regularisation. Duality gap: 1.756e+01, tolerance: 2.336e+00\n",
      "  model = cd_fast.enet_coordinate_descent(\n",
      "C:\\Users\\amini\\anaconda3\\lib\\site-packages\\sklearn\\linear_model\\_coordinate_descent.py:647: ConvergenceWarning: Objective did not converge. You might want to increase the number of iterations, check the scale of the features or consider increasing regularisation. Duality gap: 9.271e+00, tolerance: 2.336e+00\n",
      "  model = cd_fast.enet_coordinate_descent(\n",
      "C:\\Users\\amini\\anaconda3\\lib\\site-packages\\sklearn\\linear_model\\_coordinate_descent.py:647: ConvergenceWarning: Objective did not converge. You might want to increase the number of iterations, check the scale of the features or consider increasing regularisation. Duality gap: 1.252e+01, tolerance: 2.336e+00\n",
      "  model = cd_fast.enet_coordinate_descent(\n"
     ]
    },
    {
     "name": "stderr",
     "output_type": "stream",
     "text": [
      "C:\\Users\\amini\\anaconda3\\lib\\site-packages\\sklearn\\linear_model\\_coordinate_descent.py:647: ConvergenceWarning: Objective did not converge. You might want to increase the number of iterations, check the scale of the features or consider increasing regularisation. Duality gap: 8.789e+00, tolerance: 2.336e+00\n",
      "  model = cd_fast.enet_coordinate_descent(\n",
      "C:\\Users\\amini\\anaconda3\\lib\\site-packages\\sklearn\\linear_model\\_coordinate_descent.py:647: ConvergenceWarning: Objective did not converge. You might want to increase the number of iterations, check the scale of the features or consider increasing regularisation. Duality gap: 1.743e+01, tolerance: 2.336e+00\n",
      "  model = cd_fast.enet_coordinate_descent(\n",
      "C:\\Users\\amini\\anaconda3\\lib\\site-packages\\sklearn\\linear_model\\_coordinate_descent.py:647: ConvergenceWarning: Objective did not converge. You might want to increase the number of iterations, check the scale of the features or consider increasing regularisation. Duality gap: 1.957e+01, tolerance: 2.336e+00\n",
      "  model = cd_fast.enet_coordinate_descent(\n",
      "C:\\Users\\amini\\anaconda3\\lib\\site-packages\\sklearn\\linear_model\\_coordinate_descent.py:647: ConvergenceWarning: Objective did not converge. You might want to increase the number of iterations, check the scale of the features or consider increasing regularisation. Duality gap: 3.008e+01, tolerance: 2.336e+00\n",
      "  model = cd_fast.enet_coordinate_descent(\n",
      "C:\\Users\\amini\\anaconda3\\lib\\site-packages\\sklearn\\linear_model\\_coordinate_descent.py:647: ConvergenceWarning: Objective did not converge. You might want to increase the number of iterations, check the scale of the features or consider increasing regularisation. Duality gap: 2.879e+01, tolerance: 2.336e+00\n",
      "  model = cd_fast.enet_coordinate_descent(\n",
      "C:\\Users\\amini\\anaconda3\\lib\\site-packages\\sklearn\\linear_model\\_coordinate_descent.py:647: ConvergenceWarning: Objective did not converge. You might want to increase the number of iterations, check the scale of the features or consider increasing regularisation. Duality gap: 3.216e+01, tolerance: 2.336e+00\n",
      "  model = cd_fast.enet_coordinate_descent(\n",
      "C:\\Users\\amini\\anaconda3\\lib\\site-packages\\sklearn\\linear_model\\_coordinate_descent.py:647: ConvergenceWarning: Objective did not converge. You might want to increase the number of iterations, check the scale of the features or consider increasing regularisation. Duality gap: 2.732e+01, tolerance: 2.336e+00\n",
      "  model = cd_fast.enet_coordinate_descent(\n",
      "C:\\Users\\amini\\anaconda3\\lib\\site-packages\\sklearn\\linear_model\\_coordinate_descent.py:647: ConvergenceWarning: Objective did not converge. You might want to increase the number of iterations, check the scale of the features or consider increasing regularisation. Duality gap: 1.924e+01, tolerance: 2.336e+00\n",
      "  model = cd_fast.enet_coordinate_descent(\n",
      "C:\\Users\\amini\\anaconda3\\lib\\site-packages\\sklearn\\linear_model\\_coordinate_descent.py:647: ConvergenceWarning: Objective did not converge. You might want to increase the number of iterations, check the scale of the features or consider increasing regularisation. Duality gap: 1.524e+01, tolerance: 2.336e+00\n",
      "  model = cd_fast.enet_coordinate_descent(\n",
      "C:\\Users\\amini\\anaconda3\\lib\\site-packages\\sklearn\\linear_model\\_coordinate_descent.py:647: ConvergenceWarning: Objective did not converge. You might want to increase the number of iterations, check the scale of the features or consider increasing regularisation. Duality gap: 1.914e+01, tolerance: 2.336e+00\n",
      "  model = cd_fast.enet_coordinate_descent(\n",
      "C:\\Users\\amini\\anaconda3\\lib\\site-packages\\sklearn\\linear_model\\_coordinate_descent.py:647: ConvergenceWarning: Objective did not converge. You might want to increase the number of iterations, check the scale of the features or consider increasing regularisation. Duality gap: 1.778e+01, tolerance: 2.336e+00\n",
      "  model = cd_fast.enet_coordinate_descent(\n",
      "C:\\Users\\amini\\anaconda3\\lib\\site-packages\\sklearn\\linear_model\\_coordinate_descent.py:647: ConvergenceWarning: Objective did not converge. You might want to increase the number of iterations, check the scale of the features or consider increasing regularisation. Duality gap: 1.961e+01, tolerance: 2.336e+00\n",
      "  model = cd_fast.enet_coordinate_descent(\n",
      "C:\\Users\\amini\\anaconda3\\lib\\site-packages\\sklearn\\linear_model\\_coordinate_descent.py:647: ConvergenceWarning: Objective did not converge. You might want to increase the number of iterations, check the scale of the features or consider increasing regularisation. Duality gap: 1.913e+01, tolerance: 2.336e+00\n",
      "  model = cd_fast.enet_coordinate_descent(\n",
      "C:\\Users\\amini\\anaconda3\\lib\\site-packages\\sklearn\\linear_model\\_coordinate_descent.py:647: ConvergenceWarning: Objective did not converge. You might want to increase the number of iterations, check the scale of the features or consider increasing regularisation. Duality gap: 1.790e+01, tolerance: 2.336e+00\n",
      "  model = cd_fast.enet_coordinate_descent(\n",
      "C:\\Users\\amini\\anaconda3\\lib\\site-packages\\sklearn\\linear_model\\_coordinate_descent.py:647: ConvergenceWarning: Objective did not converge. You might want to increase the number of iterations, check the scale of the features or consider increasing regularisation. Duality gap: 1.951e+01, tolerance: 2.336e+00\n",
      "  model = cd_fast.enet_coordinate_descent(\n",
      "C:\\Users\\amini\\anaconda3\\lib\\site-packages\\sklearn\\linear_model\\_coordinate_descent.py:647: ConvergenceWarning: Objective did not converge. You might want to increase the number of iterations, check the scale of the features or consider increasing regularisation. Duality gap: 2.017e+01, tolerance: 2.336e+00\n",
      "  model = cd_fast.enet_coordinate_descent(\n",
      "C:\\Users\\amini\\anaconda3\\lib\\site-packages\\sklearn\\linear_model\\_coordinate_descent.py:647: ConvergenceWarning: Objective did not converge. You might want to increase the number of iterations, check the scale of the features or consider increasing regularisation. Duality gap: 2.338e+01, tolerance: 2.336e+00\n",
      "  model = cd_fast.enet_coordinate_descent(\n",
      "C:\\Users\\amini\\anaconda3\\lib\\site-packages\\sklearn\\linear_model\\_coordinate_descent.py:647: ConvergenceWarning: Objective did not converge. You might want to increase the number of iterations, check the scale of the features or consider increasing regularisation. Duality gap: 2.788e+01, tolerance: 2.336e+00\n",
      "  model = cd_fast.enet_coordinate_descent(\n",
      "C:\\Users\\amini\\anaconda3\\lib\\site-packages\\sklearn\\linear_model\\_coordinate_descent.py:647: ConvergenceWarning: Objective did not converge. You might want to increase the number of iterations, check the scale of the features or consider increasing regularisation. Duality gap: 3.299e+01, tolerance: 2.336e+00\n",
      "  model = cd_fast.enet_coordinate_descent(\n",
      "C:\\Users\\amini\\anaconda3\\lib\\site-packages\\sklearn\\linear_model\\_coordinate_descent.py:647: ConvergenceWarning: Objective did not converge. You might want to increase the number of iterations, check the scale of the features or consider increasing regularisation. Duality gap: 3.701e+01, tolerance: 2.336e+00\n",
      "  model = cd_fast.enet_coordinate_descent(\n",
      "C:\\Users\\amini\\anaconda3\\lib\\site-packages\\sklearn\\linear_model\\_coordinate_descent.py:647: ConvergenceWarning: Objective did not converge. You might want to increase the number of iterations, check the scale of the features or consider increasing regularisation. Duality gap: 3.861e+01, tolerance: 2.336e+00\n",
      "  model = cd_fast.enet_coordinate_descent(\n",
      "C:\\Users\\amini\\anaconda3\\lib\\site-packages\\sklearn\\linear_model\\_coordinate_descent.py:647: ConvergenceWarning: Objective did not converge. You might want to increase the number of iterations, check the scale of the features or consider increasing regularisation. Duality gap: 3.882e+01, tolerance: 2.336e+00\n",
      "  model = cd_fast.enet_coordinate_descent(\n",
      "C:\\Users\\amini\\anaconda3\\lib\\site-packages\\sklearn\\linear_model\\_coordinate_descent.py:647: ConvergenceWarning: Objective did not converge. You might want to increase the number of iterations, check the scale of the features or consider increasing regularisation. Duality gap: 3.964e+01, tolerance: 2.336e+00\n",
      "  model = cd_fast.enet_coordinate_descent(\n",
      "C:\\Users\\amini\\anaconda3\\lib\\site-packages\\sklearn\\linear_model\\_coordinate_descent.py:647: ConvergenceWarning: Objective did not converge. You might want to increase the number of iterations, check the scale of the features or consider increasing regularisation. Duality gap: 4.087e+01, tolerance: 2.336e+00\n",
      "  model = cd_fast.enet_coordinate_descent(\n",
      "C:\\Users\\amini\\anaconda3\\lib\\site-packages\\sklearn\\linear_model\\_coordinate_descent.py:647: ConvergenceWarning: Objective did not converge. You might want to increase the number of iterations, check the scale of the features or consider increasing regularisation. Duality gap: 4.425e+01, tolerance: 2.336e+00\n",
      "  model = cd_fast.enet_coordinate_descent(\n",
      "C:\\Users\\amini\\anaconda3\\lib\\site-packages\\sklearn\\linear_model\\_coordinate_descent.py:647: ConvergenceWarning: Objective did not converge. You might want to increase the number of iterations, check the scale of the features or consider increasing regularisation. Duality gap: 4.989e+01, tolerance: 2.336e+00\n",
      "  model = cd_fast.enet_coordinate_descent(\n",
      "C:\\Users\\amini\\anaconda3\\lib\\site-packages\\sklearn\\linear_model\\_coordinate_descent.py:647: ConvergenceWarning: Objective did not converge. You might want to increase the number of iterations, check the scale of the features or consider increasing regularisation. Duality gap: 5.416e+01, tolerance: 2.336e+00\n",
      "  model = cd_fast.enet_coordinate_descent(\n",
      "C:\\Users\\amini\\anaconda3\\lib\\site-packages\\sklearn\\linear_model\\_coordinate_descent.py:647: ConvergenceWarning: Objective did not converge. You might want to increase the number of iterations, check the scale of the features or consider increasing regularisation. Duality gap: 6.438e+01, tolerance: 2.336e+00\n",
      "  model = cd_fast.enet_coordinate_descent(\n"
     ]
    },
    {
     "name": "stderr",
     "output_type": "stream",
     "text": [
      "C:\\Users\\amini\\anaconda3\\lib\\site-packages\\sklearn\\linear_model\\_coordinate_descent.py:647: ConvergenceWarning: Objective did not converge. You might want to increase the number of iterations, check the scale of the features or consider increasing regularisation. Duality gap: 7.019e+01, tolerance: 2.336e+00\n",
      "  model = cd_fast.enet_coordinate_descent(\n",
      "C:\\Users\\amini\\anaconda3\\lib\\site-packages\\sklearn\\linear_model\\_coordinate_descent.py:647: ConvergenceWarning: Objective did not converge. You might want to increase the number of iterations, check the scale of the features or consider increasing regularisation. Duality gap: 2.316e+00, tolerance: 2.030e+00\n",
      "  model = cd_fast.enet_coordinate_descent(\n",
      "C:\\Users\\amini\\anaconda3\\lib\\site-packages\\sklearn\\linear_model\\_coordinate_descent.py:647: ConvergenceWarning: Objective did not converge. You might want to increase the number of iterations, check the scale of the features or consider increasing regularisation. Duality gap: 2.737e+00, tolerance: 2.030e+00\n",
      "  model = cd_fast.enet_coordinate_descent(\n",
      "C:\\Users\\amini\\anaconda3\\lib\\site-packages\\sklearn\\linear_model\\_coordinate_descent.py:647: ConvergenceWarning: Objective did not converge. You might want to increase the number of iterations, check the scale of the features or consider increasing regularisation. Duality gap: 3.514e+00, tolerance: 2.030e+00\n",
      "  model = cd_fast.enet_coordinate_descent(\n",
      "C:\\Users\\amini\\anaconda3\\lib\\site-packages\\sklearn\\linear_model\\_coordinate_descent.py:647: ConvergenceWarning: Objective did not converge. You might want to increase the number of iterations, check the scale of the features or consider increasing regularisation. Duality gap: 3.273e+00, tolerance: 2.030e+00\n",
      "  model = cd_fast.enet_coordinate_descent(\n",
      "C:\\Users\\amini\\anaconda3\\lib\\site-packages\\sklearn\\linear_model\\_coordinate_descent.py:647: ConvergenceWarning: Objective did not converge. You might want to increase the number of iterations, check the scale of the features or consider increasing regularisation. Duality gap: 2.860e+00, tolerance: 2.030e+00\n",
      "  model = cd_fast.enet_coordinate_descent(\n",
      "C:\\Users\\amini\\anaconda3\\lib\\site-packages\\sklearn\\linear_model\\_coordinate_descent.py:647: ConvergenceWarning: Objective did not converge. You might want to increase the number of iterations, check the scale of the features or consider increasing regularisation. Duality gap: 2.532e+00, tolerance: 2.030e+00\n",
      "  model = cd_fast.enet_coordinate_descent(\n",
      "C:\\Users\\amini\\anaconda3\\lib\\site-packages\\sklearn\\linear_model\\_coordinate_descent.py:647: ConvergenceWarning: Objective did not converge. You might want to increase the number of iterations, check the scale of the features or consider increasing regularisation. Duality gap: 2.519e+00, tolerance: 2.030e+00\n",
      "  model = cd_fast.enet_coordinate_descent(\n",
      "C:\\Users\\amini\\anaconda3\\lib\\site-packages\\sklearn\\linear_model\\_coordinate_descent.py:647: ConvergenceWarning: Objective did not converge. You might want to increase the number of iterations, check the scale of the features or consider increasing regularisation. Duality gap: 2.874e+00, tolerance: 2.030e+00\n",
      "  model = cd_fast.enet_coordinate_descent(\n",
      "C:\\Users\\amini\\anaconda3\\lib\\site-packages\\sklearn\\linear_model\\_coordinate_descent.py:647: ConvergenceWarning: Objective did not converge. You might want to increase the number of iterations, check the scale of the features or consider increasing regularisation. Duality gap: 7.309e+00, tolerance: 2.030e+00\n",
      "  model = cd_fast.enet_coordinate_descent(\n",
      "C:\\Users\\amini\\anaconda3\\lib\\site-packages\\sklearn\\linear_model\\_coordinate_descent.py:647: ConvergenceWarning: Objective did not converge. You might want to increase the number of iterations, check the scale of the features or consider increasing regularisation. Duality gap: 9.081e+00, tolerance: 2.030e+00\n",
      "  model = cd_fast.enet_coordinate_descent(\n",
      "C:\\Users\\amini\\anaconda3\\lib\\site-packages\\sklearn\\linear_model\\_coordinate_descent.py:647: ConvergenceWarning: Objective did not converge. You might want to increase the number of iterations, check the scale of the features or consider increasing regularisation. Duality gap: 8.915e+00, tolerance: 2.030e+00\n",
      "  model = cd_fast.enet_coordinate_descent(\n",
      "C:\\Users\\amini\\anaconda3\\lib\\site-packages\\sklearn\\linear_model\\_coordinate_descent.py:647: ConvergenceWarning: Objective did not converge. You might want to increase the number of iterations, check the scale of the features or consider increasing regularisation. Duality gap: 1.160e+01, tolerance: 2.030e+00\n",
      "  model = cd_fast.enet_coordinate_descent(\n",
      "C:\\Users\\amini\\anaconda3\\lib\\site-packages\\sklearn\\linear_model\\_coordinate_descent.py:647: ConvergenceWarning: Objective did not converge. You might want to increase the number of iterations, check the scale of the features or consider increasing regularisation. Duality gap: 8.699e+00, tolerance: 2.030e+00\n",
      "  model = cd_fast.enet_coordinate_descent(\n",
      "C:\\Users\\amini\\anaconda3\\lib\\site-packages\\sklearn\\linear_model\\_coordinate_descent.py:647: ConvergenceWarning: Objective did not converge. You might want to increase the number of iterations, check the scale of the features or consider increasing regularisation. Duality gap: 1.030e+01, tolerance: 2.030e+00\n",
      "  model = cd_fast.enet_coordinate_descent(\n",
      "C:\\Users\\amini\\anaconda3\\lib\\site-packages\\sklearn\\linear_model\\_coordinate_descent.py:647: ConvergenceWarning: Objective did not converge. You might want to increase the number of iterations, check the scale of the features or consider increasing regularisation. Duality gap: 1.243e+01, tolerance: 2.030e+00\n",
      "  model = cd_fast.enet_coordinate_descent(\n",
      "C:\\Users\\amini\\anaconda3\\lib\\site-packages\\sklearn\\linear_model\\_coordinate_descent.py:647: ConvergenceWarning: Objective did not converge. You might want to increase the number of iterations, check the scale of the features or consider increasing regularisation. Duality gap: 1.130e+01, tolerance: 2.030e+00\n",
      "  model = cd_fast.enet_coordinate_descent(\n",
      "C:\\Users\\amini\\anaconda3\\lib\\site-packages\\sklearn\\linear_model\\_coordinate_descent.py:647: ConvergenceWarning: Objective did not converge. You might want to increase the number of iterations, check the scale of the features or consider increasing regularisation. Duality gap: 1.103e+01, tolerance: 2.030e+00\n",
      "  model = cd_fast.enet_coordinate_descent(\n",
      "C:\\Users\\amini\\anaconda3\\lib\\site-packages\\sklearn\\linear_model\\_coordinate_descent.py:647: ConvergenceWarning: Objective did not converge. You might want to increase the number of iterations, check the scale of the features or consider increasing regularisation. Duality gap: 8.608e+00, tolerance: 2.030e+00\n",
      "  model = cd_fast.enet_coordinate_descent(\n",
      "C:\\Users\\amini\\anaconda3\\lib\\site-packages\\sklearn\\linear_model\\_coordinate_descent.py:647: ConvergenceWarning: Objective did not converge. You might want to increase the number of iterations, check the scale of the features or consider increasing regularisation. Duality gap: 1.165e+01, tolerance: 2.030e+00\n",
      "  model = cd_fast.enet_coordinate_descent(\n",
      "C:\\Users\\amini\\anaconda3\\lib\\site-packages\\sklearn\\linear_model\\_coordinate_descent.py:647: ConvergenceWarning: Objective did not converge. You might want to increase the number of iterations, check the scale of the features or consider increasing regularisation. Duality gap: 8.441e+00, tolerance: 2.030e+00\n",
      "  model = cd_fast.enet_coordinate_descent(\n",
      "C:\\Users\\amini\\anaconda3\\lib\\site-packages\\sklearn\\linear_model\\_coordinate_descent.py:647: ConvergenceWarning: Objective did not converge. You might want to increase the number of iterations, check the scale of the features or consider increasing regularisation. Duality gap: 7.733e+00, tolerance: 2.030e+00\n",
      "  model = cd_fast.enet_coordinate_descent(\n",
      "C:\\Users\\amini\\anaconda3\\lib\\site-packages\\sklearn\\linear_model\\_coordinate_descent.py:647: ConvergenceWarning: Objective did not converge. You might want to increase the number of iterations, check the scale of the features or consider increasing regularisation. Duality gap: 1.204e+01, tolerance: 2.030e+00\n",
      "  model = cd_fast.enet_coordinate_descent(\n",
      "C:\\Users\\amini\\anaconda3\\lib\\site-packages\\sklearn\\linear_model\\_coordinate_descent.py:647: ConvergenceWarning: Objective did not converge. You might want to increase the number of iterations, check the scale of the features or consider increasing regularisation. Duality gap: 1.396e+01, tolerance: 2.030e+00\n",
      "  model = cd_fast.enet_coordinate_descent(\n",
      "C:\\Users\\amini\\anaconda3\\lib\\site-packages\\sklearn\\linear_model\\_coordinate_descent.py:647: ConvergenceWarning: Objective did not converge. You might want to increase the number of iterations, check the scale of the features or consider increasing regularisation. Duality gap: 1.149e+01, tolerance: 2.030e+00\n",
      "  model = cd_fast.enet_coordinate_descent(\n",
      "C:\\Users\\amini\\anaconda3\\lib\\site-packages\\sklearn\\linear_model\\_coordinate_descent.py:647: ConvergenceWarning: Objective did not converge. You might want to increase the number of iterations, check the scale of the features or consider increasing regularisation. Duality gap: 9.092e+00, tolerance: 2.030e+00\n",
      "  model = cd_fast.enet_coordinate_descent(\n",
      "C:\\Users\\amini\\anaconda3\\lib\\site-packages\\sklearn\\linear_model\\_coordinate_descent.py:647: ConvergenceWarning: Objective did not converge. You might want to increase the number of iterations, check the scale of the features or consider increasing regularisation. Duality gap: 1.053e+01, tolerance: 2.030e+00\n",
      "  model = cd_fast.enet_coordinate_descent(\n",
      "C:\\Users\\amini\\anaconda3\\lib\\site-packages\\sklearn\\linear_model\\_coordinate_descent.py:647: ConvergenceWarning: Objective did not converge. You might want to increase the number of iterations, check the scale of the features or consider increasing regularisation. Duality gap: 1.299e+01, tolerance: 2.030e+00\n",
      "  model = cd_fast.enet_coordinate_descent(\n",
      "C:\\Users\\amini\\anaconda3\\lib\\site-packages\\sklearn\\linear_model\\_coordinate_descent.py:647: ConvergenceWarning: Objective did not converge. You might want to increase the number of iterations, check the scale of the features or consider increasing regularisation. Duality gap: 1.601e+01, tolerance: 2.030e+00\n",
      "  model = cd_fast.enet_coordinate_descent(\n",
      "C:\\Users\\amini\\anaconda3\\lib\\site-packages\\sklearn\\linear_model\\_coordinate_descent.py:647: ConvergenceWarning: Objective did not converge. You might want to increase the number of iterations, check the scale of the features or consider increasing regularisation. Duality gap: 2.001e+01, tolerance: 2.030e+00\n",
      "  model = cd_fast.enet_coordinate_descent(\n",
      "C:\\Users\\amini\\anaconda3\\lib\\site-packages\\sklearn\\linear_model\\_coordinate_descent.py:647: ConvergenceWarning: Objective did not converge. You might want to increase the number of iterations, check the scale of the features or consider increasing regularisation. Duality gap: 2.294e+01, tolerance: 2.030e+00\n",
      "  model = cd_fast.enet_coordinate_descent(\n",
      "C:\\Users\\amini\\anaconda3\\lib\\site-packages\\sklearn\\linear_model\\_coordinate_descent.py:647: ConvergenceWarning: Objective did not converge. You might want to increase the number of iterations, check the scale of the features or consider increasing regularisation. Duality gap: 2.465e+01, tolerance: 2.030e+00\n",
      "  model = cd_fast.enet_coordinate_descent(\n",
      "C:\\Users\\amini\\anaconda3\\lib\\site-packages\\sklearn\\linear_model\\_coordinate_descent.py:647: ConvergenceWarning: Objective did not converge. You might want to increase the number of iterations, check the scale of the features or consider increasing regularisation. Duality gap: 2.279e+01, tolerance: 2.030e+00\n",
      "  model = cd_fast.enet_coordinate_descent(\n",
      "C:\\Users\\amini\\anaconda3\\lib\\site-packages\\sklearn\\linear_model\\_coordinate_descent.py:647: ConvergenceWarning: Objective did not converge. You might want to increase the number of iterations, check the scale of the features or consider increasing regularisation. Duality gap: 2.150e+01, tolerance: 2.030e+00\n",
      "  model = cd_fast.enet_coordinate_descent(\n",
      "C:\\Users\\amini\\anaconda3\\lib\\site-packages\\sklearn\\linear_model\\_coordinate_descent.py:647: ConvergenceWarning: Objective did not converge. You might want to increase the number of iterations, check the scale of the features or consider increasing regularisation. Duality gap: 2.007e+01, tolerance: 2.030e+00\n",
      "  model = cd_fast.enet_coordinate_descent(\n",
      "C:\\Users\\amini\\anaconda3\\lib\\site-packages\\sklearn\\linear_model\\_coordinate_descent.py:647: ConvergenceWarning: Objective did not converge. You might want to increase the number of iterations, check the scale of the features or consider increasing regularisation. Duality gap: 2.191e+01, tolerance: 2.030e+00\n",
      "  model = cd_fast.enet_coordinate_descent(\n",
      "C:\\Users\\amini\\anaconda3\\lib\\site-packages\\sklearn\\linear_model\\_coordinate_descent.py:647: ConvergenceWarning: Objective did not converge. You might want to increase the number of iterations, check the scale of the features or consider increasing regularisation. Duality gap: 2.213e+01, tolerance: 2.030e+00\n",
      "  model = cd_fast.enet_coordinate_descent(\n",
      "C:\\Users\\amini\\anaconda3\\lib\\site-packages\\sklearn\\linear_model\\_coordinate_descent.py:647: ConvergenceWarning: Objective did not converge. You might want to increase the number of iterations, check the scale of the features or consider increasing regularisation. Duality gap: 2.273e+01, tolerance: 2.030e+00\n",
      "  model = cd_fast.enet_coordinate_descent(\n",
      "C:\\Users\\amini\\anaconda3\\lib\\site-packages\\sklearn\\linear_model\\_coordinate_descent.py:647: ConvergenceWarning: Objective did not converge. You might want to increase the number of iterations, check the scale of the features or consider increasing regularisation. Duality gap: 2.469e+01, tolerance: 2.030e+00\n",
      "  model = cd_fast.enet_coordinate_descent(\n",
      "C:\\Users\\amini\\anaconda3\\lib\\site-packages\\sklearn\\linear_model\\_coordinate_descent.py:647: ConvergenceWarning: Objective did not converge. You might want to increase the number of iterations, check the scale of the features or consider increasing regularisation. Duality gap: 2.481e+01, tolerance: 2.030e+00\n",
      "  model = cd_fast.enet_coordinate_descent(\n"
     ]
    },
    {
     "name": "stderr",
     "output_type": "stream",
     "text": [
      "C:\\Users\\amini\\anaconda3\\lib\\site-packages\\sklearn\\linear_model\\_coordinate_descent.py:647: ConvergenceWarning: Objective did not converge. You might want to increase the number of iterations, check the scale of the features or consider increasing regularisation. Duality gap: 2.732e+01, tolerance: 2.030e+00\n",
      "  model = cd_fast.enet_coordinate_descent(\n",
      "C:\\Users\\amini\\anaconda3\\lib\\site-packages\\sklearn\\linear_model\\_coordinate_descent.py:647: ConvergenceWarning: Objective did not converge. You might want to increase the number of iterations, check the scale of the features or consider increasing regularisation. Duality gap: 2.737e+01, tolerance: 2.030e+00\n",
      "  model = cd_fast.enet_coordinate_descent(\n",
      "C:\\Users\\amini\\anaconda3\\lib\\site-packages\\sklearn\\linear_model\\_coordinate_descent.py:647: ConvergenceWarning: Objective did not converge. You might want to increase the number of iterations, check the scale of the features or consider increasing regularisation. Duality gap: 3.088e+01, tolerance: 2.030e+00\n",
      "  model = cd_fast.enet_coordinate_descent(\n",
      "C:\\Users\\amini\\anaconda3\\lib\\site-packages\\sklearn\\linear_model\\_coordinate_descent.py:647: ConvergenceWarning: Objective did not converge. You might want to increase the number of iterations, check the scale of the features or consider increasing regularisation. Duality gap: 3.619e+01, tolerance: 2.030e+00\n",
      "  model = cd_fast.enet_coordinate_descent(\n",
      "C:\\Users\\amini\\anaconda3\\lib\\site-packages\\sklearn\\linear_model\\_coordinate_descent.py:647: ConvergenceWarning: Objective did not converge. You might want to increase the number of iterations, check the scale of the features or consider increasing regularisation. Duality gap: 4.125e+01, tolerance: 2.030e+00\n",
      "  model = cd_fast.enet_coordinate_descent(\n",
      "C:\\Users\\amini\\anaconda3\\lib\\site-packages\\sklearn\\linear_model\\_coordinate_descent.py:647: ConvergenceWarning: Objective did not converge. You might want to increase the number of iterations, check the scale of the features or consider increasing regularisation. Duality gap: 5.031e+01, tolerance: 2.030e+00\n",
      "  model = cd_fast.enet_coordinate_descent(\n",
      "C:\\Users\\amini\\anaconda3\\lib\\site-packages\\sklearn\\linear_model\\_coordinate_descent.py:647: ConvergenceWarning: Objective did not converge. You might want to increase the number of iterations, check the scale of the features or consider increasing regularisation. Duality gap: 5.615e+01, tolerance: 2.030e+00\n",
      "  model = cd_fast.enet_coordinate_descent(\n",
      "C:\\Users\\amini\\anaconda3\\lib\\site-packages\\sklearn\\linear_model\\_coordinate_descent.py:647: ConvergenceWarning: Objective did not converge. You might want to increase the number of iterations, check the scale of the features or consider increasing regularisation. Duality gap: 6.245e+01, tolerance: 2.030e+00\n",
      "  model = cd_fast.enet_coordinate_descent(\n",
      "C:\\Users\\amini\\anaconda3\\lib\\site-packages\\sklearn\\linear_model\\_coordinate_descent.py:647: ConvergenceWarning: Objective did not converge. You might want to increase the number of iterations, check the scale of the features or consider increasing regularisation. Duality gap: 6.953e+01, tolerance: 2.030e+00\n",
      "  model = cd_fast.enet_coordinate_descent(\n",
      "C:\\Users\\amini\\anaconda3\\lib\\site-packages\\sklearn\\linear_model\\_coordinate_descent.py:647: ConvergenceWarning: Objective did not converge. You might want to increase the number of iterations, check the scale of the features or consider increasing regularisation. Duality gap: 7.278e+01, tolerance: 2.030e+00\n",
      "  model = cd_fast.enet_coordinate_descent(\n",
      "C:\\Users\\amini\\anaconda3\\lib\\site-packages\\sklearn\\linear_model\\_coordinate_descent.py:647: ConvergenceWarning: Objective did not converge. You might want to increase the number of iterations, check the scale of the features or consider increasing regularisation. Duality gap: 7.290e+01, tolerance: 2.030e+00\n",
      "  model = cd_fast.enet_coordinate_descent(\n",
      "C:\\Users\\amini\\anaconda3\\lib\\site-packages\\sklearn\\linear_model\\_coordinate_descent.py:647: ConvergenceWarning: Objective did not converge. You might want to increase the number of iterations, check the scale of the features or consider increasing regularisation. Duality gap: 7.716e+01, tolerance: 2.030e+00\n",
      "  model = cd_fast.enet_coordinate_descent(\n",
      "C:\\Users\\amini\\anaconda3\\lib\\site-packages\\sklearn\\linear_model\\_coordinate_descent.py:647: ConvergenceWarning: Objective did not converge. You might want to increase the number of iterations, check the scale of the features or consider increasing regularisation. Duality gap: 7.536e+01, tolerance: 2.030e+00\n",
      "  model = cd_fast.enet_coordinate_descent(\n",
      "C:\\Users\\amini\\anaconda3\\lib\\site-packages\\sklearn\\linear_model\\_coordinate_descent.py:647: ConvergenceWarning: Objective did not converge. You might want to increase the number of iterations, check the scale of the features or consider increasing regularisation. Duality gap: 7.378e+01, tolerance: 2.030e+00\n",
      "  model = cd_fast.enet_coordinate_descent(\n",
      "C:\\Users\\amini\\anaconda3\\lib\\site-packages\\sklearn\\linear_model\\_coordinate_descent.py:647: ConvergenceWarning: Objective did not converge. You might want to increase the number of iterations, check the scale of the features or consider increasing regularisation. Duality gap: 7.839e+01, tolerance: 2.030e+00\n",
      "  model = cd_fast.enet_coordinate_descent(\n",
      "C:\\Users\\amini\\anaconda3\\lib\\site-packages\\sklearn\\linear_model\\_coordinate_descent.py:647: ConvergenceWarning: Objective did not converge. You might want to increase the number of iterations, check the scale of the features or consider increasing regularisation. Duality gap: 8.472e+01, tolerance: 2.030e+00\n",
      "  model = cd_fast.enet_coordinate_descent(\n",
      "C:\\Users\\amini\\anaconda3\\lib\\site-packages\\sklearn\\linear_model\\_coordinate_descent.py:647: ConvergenceWarning: Objective did not converge. You might want to increase the number of iterations, check the scale of the features or consider increasing regularisation. Duality gap: 9.301e+01, tolerance: 2.030e+00\n",
      "  model = cd_fast.enet_coordinate_descent(\n",
      "C:\\Users\\amini\\anaconda3\\lib\\site-packages\\sklearn\\linear_model\\_coordinate_descent.py:647: ConvergenceWarning: Objective did not converge. You might want to increase the number of iterations, check the scale of the features or consider increasing regularisation. Duality gap: 2.885e+00, tolerance: 2.262e+00\n",
      "  model = cd_fast.enet_coordinate_descent(\n",
      "C:\\Users\\amini\\anaconda3\\lib\\site-packages\\sklearn\\linear_model\\_coordinate_descent.py:647: ConvergenceWarning: Objective did not converge. You might want to increase the number of iterations, check the scale of the features or consider increasing regularisation. Duality gap: 5.802e+00, tolerance: 2.262e+00\n",
      "  model = cd_fast.enet_coordinate_descent(\n",
      "C:\\Users\\amini\\anaconda3\\lib\\site-packages\\sklearn\\linear_model\\_coordinate_descent.py:647: ConvergenceWarning: Objective did not converge. You might want to increase the number of iterations, check the scale of the features or consider increasing regularisation. Duality gap: 8.925e+00, tolerance: 2.262e+00\n",
      "  model = cd_fast.enet_coordinate_descent(\n",
      "C:\\Users\\amini\\anaconda3\\lib\\site-packages\\sklearn\\linear_model\\_coordinate_descent.py:647: ConvergenceWarning: Objective did not converge. You might want to increase the number of iterations, check the scale of the features or consider increasing regularisation. Duality gap: 9.933e+00, tolerance: 2.262e+00\n",
      "  model = cd_fast.enet_coordinate_descent(\n",
      "C:\\Users\\amini\\anaconda3\\lib\\site-packages\\sklearn\\linear_model\\_coordinate_descent.py:647: ConvergenceWarning: Objective did not converge. You might want to increase the number of iterations, check the scale of the features or consider increasing regularisation. Duality gap: 1.043e+01, tolerance: 2.262e+00\n",
      "  model = cd_fast.enet_coordinate_descent(\n",
      "C:\\Users\\amini\\anaconda3\\lib\\site-packages\\sklearn\\linear_model\\_coordinate_descent.py:647: ConvergenceWarning: Objective did not converge. You might want to increase the number of iterations, check the scale of the features or consider increasing regularisation. Duality gap: 6.928e+00, tolerance: 2.262e+00\n",
      "  model = cd_fast.enet_coordinate_descent(\n",
      "C:\\Users\\amini\\anaconda3\\lib\\site-packages\\sklearn\\linear_model\\_coordinate_descent.py:647: ConvergenceWarning: Objective did not converge. You might want to increase the number of iterations, check the scale of the features or consider increasing regularisation. Duality gap: 7.440e+00, tolerance: 2.262e+00\n",
      "  model = cd_fast.enet_coordinate_descent(\n",
      "C:\\Users\\amini\\anaconda3\\lib\\site-packages\\sklearn\\linear_model\\_coordinate_descent.py:647: ConvergenceWarning: Objective did not converge. You might want to increase the number of iterations, check the scale of the features or consider increasing regularisation. Duality gap: 5.522e+00, tolerance: 2.262e+00\n",
      "  model = cd_fast.enet_coordinate_descent(\n",
      "C:\\Users\\amini\\anaconda3\\lib\\site-packages\\sklearn\\linear_model\\_coordinate_descent.py:647: ConvergenceWarning: Objective did not converge. You might want to increase the number of iterations, check the scale of the features or consider increasing regularisation. Duality gap: 9.529e+00, tolerance: 2.262e+00\n",
      "  model = cd_fast.enet_coordinate_descent(\n"
     ]
    },
    {
     "name": "stderr",
     "output_type": "stream",
     "text": [
      "C:\\Users\\amini\\anaconda3\\lib\\site-packages\\sklearn\\linear_model\\_coordinate_descent.py:647: ConvergenceWarning: Objective did not converge. You might want to increase the number of iterations, check the scale of the features or consider increasing regularisation. Duality gap: 7.319e+00, tolerance: 2.262e+00\n",
      "  model = cd_fast.enet_coordinate_descent(\n",
      "C:\\Users\\amini\\anaconda3\\lib\\site-packages\\sklearn\\linear_model\\_coordinate_descent.py:647: ConvergenceWarning: Objective did not converge. You might want to increase the number of iterations, check the scale of the features or consider increasing regularisation. Duality gap: 8.976e+00, tolerance: 2.262e+00\n",
      "  model = cd_fast.enet_coordinate_descent(\n",
      "C:\\Users\\amini\\anaconda3\\lib\\site-packages\\sklearn\\linear_model\\_coordinate_descent.py:647: ConvergenceWarning: Objective did not converge. You might want to increase the number of iterations, check the scale of the features or consider increasing regularisation. Duality gap: 6.971e+00, tolerance: 2.262e+00\n",
      "  model = cd_fast.enet_coordinate_descent(\n",
      "C:\\Users\\amini\\anaconda3\\lib\\site-packages\\sklearn\\linear_model\\_coordinate_descent.py:647: ConvergenceWarning: Objective did not converge. You might want to increase the number of iterations, check the scale of the features or consider increasing regularisation. Duality gap: 8.265e+00, tolerance: 2.262e+00\n",
      "  model = cd_fast.enet_coordinate_descent(\n",
      "C:\\Users\\amini\\anaconda3\\lib\\site-packages\\sklearn\\linear_model\\_coordinate_descent.py:647: ConvergenceWarning: Objective did not converge. You might want to increase the number of iterations, check the scale of the features or consider increasing regularisation. Duality gap: 1.084e+01, tolerance: 2.262e+00\n",
      "  model = cd_fast.enet_coordinate_descent(\n",
      "C:\\Users\\amini\\anaconda3\\lib\\site-packages\\sklearn\\linear_model\\_coordinate_descent.py:647: ConvergenceWarning: Objective did not converge. You might want to increase the number of iterations, check the scale of the features or consider increasing regularisation. Duality gap: 9.769e+00, tolerance: 2.262e+00\n",
      "  model = cd_fast.enet_coordinate_descent(\n",
      "C:\\Users\\amini\\anaconda3\\lib\\site-packages\\sklearn\\linear_model\\_coordinate_descent.py:647: ConvergenceWarning: Objective did not converge. You might want to increase the number of iterations, check the scale of the features or consider increasing regularisation. Duality gap: 1.031e+01, tolerance: 2.262e+00\n",
      "  model = cd_fast.enet_coordinate_descent(\n",
      "C:\\Users\\amini\\anaconda3\\lib\\site-packages\\sklearn\\linear_model\\_coordinate_descent.py:647: ConvergenceWarning: Objective did not converge. You might want to increase the number of iterations, check the scale of the features or consider increasing regularisation. Duality gap: 1.139e+01, tolerance: 2.262e+00\n",
      "  model = cd_fast.enet_coordinate_descent(\n",
      "C:\\Users\\amini\\anaconda3\\lib\\site-packages\\sklearn\\linear_model\\_coordinate_descent.py:647: ConvergenceWarning: Objective did not converge. You might want to increase the number of iterations, check the scale of the features or consider increasing regularisation. Duality gap: 1.044e+01, tolerance: 2.262e+00\n",
      "  model = cd_fast.enet_coordinate_descent(\n",
      "C:\\Users\\amini\\anaconda3\\lib\\site-packages\\sklearn\\linear_model\\_coordinate_descent.py:647: ConvergenceWarning: Objective did not converge. You might want to increase the number of iterations, check the scale of the features or consider increasing regularisation. Duality gap: 1.037e+01, tolerance: 2.262e+00\n",
      "  model = cd_fast.enet_coordinate_descent(\n",
      "C:\\Users\\amini\\anaconda3\\lib\\site-packages\\sklearn\\linear_model\\_coordinate_descent.py:647: ConvergenceWarning: Objective did not converge. You might want to increase the number of iterations, check the scale of the features or consider increasing regularisation. Duality gap: 1.431e+01, tolerance: 2.262e+00\n",
      "  model = cd_fast.enet_coordinate_descent(\n",
      "C:\\Users\\amini\\anaconda3\\lib\\site-packages\\sklearn\\linear_model\\_coordinate_descent.py:647: ConvergenceWarning: Objective did not converge. You might want to increase the number of iterations, check the scale of the features or consider increasing regularisation. Duality gap: 1.490e+01, tolerance: 2.262e+00\n",
      "  model = cd_fast.enet_coordinate_descent(\n",
      "C:\\Users\\amini\\anaconda3\\lib\\site-packages\\sklearn\\linear_model\\_coordinate_descent.py:647: ConvergenceWarning: Objective did not converge. You might want to increase the number of iterations, check the scale of the features or consider increasing regularisation. Duality gap: 1.566e+01, tolerance: 2.262e+00\n",
      "  model = cd_fast.enet_coordinate_descent(\n",
      "C:\\Users\\amini\\anaconda3\\lib\\site-packages\\sklearn\\linear_model\\_coordinate_descent.py:647: ConvergenceWarning: Objective did not converge. You might want to increase the number of iterations, check the scale of the features or consider increasing regularisation. Duality gap: 1.668e+01, tolerance: 2.262e+00\n",
      "  model = cd_fast.enet_coordinate_descent(\n",
      "C:\\Users\\amini\\anaconda3\\lib\\site-packages\\sklearn\\linear_model\\_coordinate_descent.py:647: ConvergenceWarning: Objective did not converge. You might want to increase the number of iterations, check the scale of the features or consider increasing regularisation. Duality gap: 1.871e+01, tolerance: 2.262e+00\n",
      "  model = cd_fast.enet_coordinate_descent(\n",
      "C:\\Users\\amini\\anaconda3\\lib\\site-packages\\sklearn\\linear_model\\_coordinate_descent.py:647: ConvergenceWarning: Objective did not converge. You might want to increase the number of iterations, check the scale of the features or consider increasing regularisation. Duality gap: 2.112e+01, tolerance: 2.262e+00\n",
      "  model = cd_fast.enet_coordinate_descent(\n",
      "C:\\Users\\amini\\anaconda3\\lib\\site-packages\\sklearn\\linear_model\\_coordinate_descent.py:647: ConvergenceWarning: Objective did not converge. You might want to increase the number of iterations, check the scale of the features or consider increasing regularisation. Duality gap: 2.020e+01, tolerance: 2.262e+00\n",
      "  model = cd_fast.enet_coordinate_descent(\n",
      "C:\\Users\\amini\\anaconda3\\lib\\site-packages\\sklearn\\linear_model\\_coordinate_descent.py:647: ConvergenceWarning: Objective did not converge. You might want to increase the number of iterations, check the scale of the features or consider increasing regularisation. Duality gap: 2.183e+01, tolerance: 2.262e+00\n",
      "  model = cd_fast.enet_coordinate_descent(\n",
      "C:\\Users\\amini\\anaconda3\\lib\\site-packages\\sklearn\\linear_model\\_coordinate_descent.py:647: ConvergenceWarning: Objective did not converge. You might want to increase the number of iterations, check the scale of the features or consider increasing regularisation. Duality gap: 2.424e+01, tolerance: 2.262e+00\n",
      "  model = cd_fast.enet_coordinate_descent(\n",
      "C:\\Users\\amini\\anaconda3\\lib\\site-packages\\sklearn\\linear_model\\_coordinate_descent.py:647: ConvergenceWarning: Objective did not converge. You might want to increase the number of iterations, check the scale of the features or consider increasing regularisation. Duality gap: 2.525e+01, tolerance: 2.262e+00\n",
      "  model = cd_fast.enet_coordinate_descent(\n",
      "C:\\Users\\amini\\anaconda3\\lib\\site-packages\\sklearn\\linear_model\\_coordinate_descent.py:647: ConvergenceWarning: Objective did not converge. You might want to increase the number of iterations, check the scale of the features or consider increasing regularisation. Duality gap: 2.353e+01, tolerance: 2.262e+00\n",
      "  model = cd_fast.enet_coordinate_descent(\n",
      "C:\\Users\\amini\\anaconda3\\lib\\site-packages\\sklearn\\linear_model\\_coordinate_descent.py:647: ConvergenceWarning: Objective did not converge. You might want to increase the number of iterations, check the scale of the features or consider increasing regularisation. Duality gap: 2.593e+01, tolerance: 2.262e+00\n",
      "  model = cd_fast.enet_coordinate_descent(\n",
      "C:\\Users\\amini\\anaconda3\\lib\\site-packages\\sklearn\\linear_model\\_coordinate_descent.py:647: ConvergenceWarning: Objective did not converge. You might want to increase the number of iterations, check the scale of the features or consider increasing regularisation. Duality gap: 2.752e+01, tolerance: 2.262e+00\n",
      "  model = cd_fast.enet_coordinate_descent(\n",
      "C:\\Users\\amini\\anaconda3\\lib\\site-packages\\sklearn\\linear_model\\_coordinate_descent.py:647: ConvergenceWarning: Objective did not converge. You might want to increase the number of iterations, check the scale of the features or consider increasing regularisation. Duality gap: 3.243e+01, tolerance: 2.262e+00\n",
      "  model = cd_fast.enet_coordinate_descent(\n",
      "C:\\Users\\amini\\anaconda3\\lib\\site-packages\\sklearn\\linear_model\\_coordinate_descent.py:647: ConvergenceWarning: Objective did not converge. You might want to increase the number of iterations, check the scale of the features or consider increasing regularisation. Duality gap: 3.915e+01, tolerance: 2.262e+00\n",
      "  model = cd_fast.enet_coordinate_descent(\n",
      "C:\\Users\\amini\\anaconda3\\lib\\site-packages\\sklearn\\linear_model\\_coordinate_descent.py:647: ConvergenceWarning: Objective did not converge. You might want to increase the number of iterations, check the scale of the features or consider increasing regularisation. Duality gap: 4.291e+01, tolerance: 2.262e+00\n",
      "  model = cd_fast.enet_coordinate_descent(\n",
      "C:\\Users\\amini\\anaconda3\\lib\\site-packages\\sklearn\\linear_model\\_coordinate_descent.py:647: ConvergenceWarning: Objective did not converge. You might want to increase the number of iterations, check the scale of the features or consider increasing regularisation. Duality gap: 4.804e+01, tolerance: 2.262e+00\n",
      "  model = cd_fast.enet_coordinate_descent(\n",
      "C:\\Users\\amini\\anaconda3\\lib\\site-packages\\sklearn\\linear_model\\_coordinate_descent.py:647: ConvergenceWarning: Objective did not converge. You might want to increase the number of iterations, check the scale of the features or consider increasing regularisation. Duality gap: 5.249e+01, tolerance: 2.262e+00\n",
      "  model = cd_fast.enet_coordinate_descent(\n",
      "C:\\Users\\amini\\anaconda3\\lib\\site-packages\\sklearn\\linear_model\\_coordinate_descent.py:647: ConvergenceWarning: Objective did not converge. You might want to increase the number of iterations, check the scale of the features or consider increasing regularisation. Duality gap: 6.080e+01, tolerance: 2.262e+00\n",
      "  model = cd_fast.enet_coordinate_descent(\n",
      "C:\\Users\\amini\\anaconda3\\lib\\site-packages\\sklearn\\linear_model\\_coordinate_descent.py:647: ConvergenceWarning: Objective did not converge. You might want to increase the number of iterations, check the scale of the features or consider increasing regularisation. Duality gap: 7.128e+01, tolerance: 2.262e+00\n",
      "  model = cd_fast.enet_coordinate_descent(\n",
      "C:\\Users\\amini\\anaconda3\\lib\\site-packages\\sklearn\\linear_model\\_coordinate_descent.py:647: ConvergenceWarning: Objective did not converge. You might want to increase the number of iterations, check the scale of the features or consider increasing regularisation. Duality gap: 8.149e+01, tolerance: 2.262e+00\n",
      "  model = cd_fast.enet_coordinate_descent(\n",
      "C:\\Users\\amini\\anaconda3\\lib\\site-packages\\sklearn\\linear_model\\_coordinate_descent.py:647: ConvergenceWarning: Objective did not converge. You might want to increase the number of iterations, check the scale of the features or consider increasing regularisation. Duality gap: 8.593e+01, tolerance: 2.262e+00\n",
      "  model = cd_fast.enet_coordinate_descent(\n"
     ]
    },
    {
     "name": "stderr",
     "output_type": "stream",
     "text": [
      "C:\\Users\\amini\\anaconda3\\lib\\site-packages\\sklearn\\linear_model\\_coordinate_descent.py:647: ConvergenceWarning: Objective did not converge. You might want to increase the number of iterations, check the scale of the features or consider increasing regularisation. Duality gap: 8.890e+01, tolerance: 2.262e+00\n",
      "  model = cd_fast.enet_coordinate_descent(\n",
      "C:\\Users\\amini\\anaconda3\\lib\\site-packages\\sklearn\\linear_model\\_coordinate_descent.py:647: ConvergenceWarning: Objective did not converge. You might want to increase the number of iterations, check the scale of the features or consider increasing regularisation. Duality gap: 9.365e+01, tolerance: 2.262e+00\n",
      "  model = cd_fast.enet_coordinate_descent(\n",
      "C:\\Users\\amini\\anaconda3\\lib\\site-packages\\sklearn\\linear_model\\_coordinate_descent.py:647: ConvergenceWarning: Objective did not converge. You might want to increase the number of iterations, check the scale of the features or consider increasing regularisation. Duality gap: 1.000e+02, tolerance: 2.262e+00\n",
      "  model = cd_fast.enet_coordinate_descent(\n",
      "C:\\Users\\amini\\anaconda3\\lib\\site-packages\\sklearn\\linear_model\\_coordinate_descent.py:647: ConvergenceWarning: Objective did not converge. You might want to increase the number of iterations, check the scale of the features or consider increasing regularisation. Duality gap: 1.112e+02, tolerance: 2.262e+00\n",
      "  model = cd_fast.enet_coordinate_descent(\n",
      "C:\\Users\\amini\\anaconda3\\lib\\site-packages\\sklearn\\linear_model\\_coordinate_descent.py:647: ConvergenceWarning: Objective did not converge. You might want to increase the number of iterations, check the scale of the features or consider increasing regularisation. Duality gap: 1.322e+02, tolerance: 2.262e+00\n",
      "  model = cd_fast.enet_coordinate_descent(\n",
      "C:\\Users\\amini\\anaconda3\\lib\\site-packages\\sklearn\\linear_model\\_coordinate_descent.py:647: ConvergenceWarning: Objective did not converge. You might want to increase the number of iterations, check the scale of the features or consider increasing regularisation. Duality gap: 1.455e+02, tolerance: 2.262e+00\n",
      "  model = cd_fast.enet_coordinate_descent(\n",
      "C:\\Users\\amini\\anaconda3\\lib\\site-packages\\sklearn\\linear_model\\_coordinate_descent.py:647: ConvergenceWarning: Objective did not converge. You might want to increase the number of iterations, check the scale of the features or consider increasing regularisation. Duality gap: 2.217e+00, tolerance: 2.129e+00\n",
      "  model = cd_fast.enet_coordinate_descent(\n",
      "C:\\Users\\amini\\anaconda3\\lib\\site-packages\\sklearn\\linear_model\\_coordinate_descent.py:647: ConvergenceWarning: Objective did not converge. You might want to increase the number of iterations, check the scale of the features or consider increasing regularisation. Duality gap: 2.915e+00, tolerance: 2.129e+00\n",
      "  model = cd_fast.enet_coordinate_descent(\n",
      "C:\\Users\\amini\\anaconda3\\lib\\site-packages\\sklearn\\linear_model\\_coordinate_descent.py:647: ConvergenceWarning: Objective did not converge. You might want to increase the number of iterations, check the scale of the features or consider increasing regularisation. Duality gap: 2.988e+00, tolerance: 2.129e+00\n",
      "  model = cd_fast.enet_coordinate_descent(\n",
      "C:\\Users\\amini\\anaconda3\\lib\\site-packages\\sklearn\\linear_model\\_coordinate_descent.py:647: ConvergenceWarning: Objective did not converge. You might want to increase the number of iterations, check the scale of the features or consider increasing regularisation. Duality gap: 3.973e+00, tolerance: 2.129e+00\n",
      "  model = cd_fast.enet_coordinate_descent(\n",
      "C:\\Users\\amini\\anaconda3\\lib\\site-packages\\sklearn\\linear_model\\_coordinate_descent.py:647: ConvergenceWarning: Objective did not converge. You might want to increase the number of iterations, check the scale of the features or consider increasing regularisation. Duality gap: 4.831e+00, tolerance: 2.129e+00\n",
      "  model = cd_fast.enet_coordinate_descent(\n",
      "C:\\Users\\amini\\anaconda3\\lib\\site-packages\\sklearn\\linear_model\\_coordinate_descent.py:647: ConvergenceWarning: Objective did not converge. You might want to increase the number of iterations, check the scale of the features or consider increasing regularisation. Duality gap: 1.066e+01, tolerance: 2.129e+00\n",
      "  model = cd_fast.enet_coordinate_descent(\n",
      "C:\\Users\\amini\\anaconda3\\lib\\site-packages\\sklearn\\linear_model\\_coordinate_descent.py:647: ConvergenceWarning: Objective did not converge. You might want to increase the number of iterations, check the scale of the features or consider increasing regularisation. Duality gap: 1.159e+01, tolerance: 2.129e+00\n",
      "  model = cd_fast.enet_coordinate_descent(\n",
      "C:\\Users\\amini\\anaconda3\\lib\\site-packages\\sklearn\\linear_model\\_coordinate_descent.py:647: ConvergenceWarning: Objective did not converge. You might want to increase the number of iterations, check the scale of the features or consider increasing regularisation. Duality gap: 1.432e+01, tolerance: 2.129e+00\n",
      "  model = cd_fast.enet_coordinate_descent(\n",
      "C:\\Users\\amini\\anaconda3\\lib\\site-packages\\sklearn\\linear_model\\_coordinate_descent.py:647: ConvergenceWarning: Objective did not converge. You might want to increase the number of iterations, check the scale of the features or consider increasing regularisation. Duality gap: 1.164e+01, tolerance: 2.129e+00\n",
      "  model = cd_fast.enet_coordinate_descent(\n",
      "C:\\Users\\amini\\anaconda3\\lib\\site-packages\\sklearn\\linear_model\\_coordinate_descent.py:647: ConvergenceWarning: Objective did not converge. You might want to increase the number of iterations, check the scale of the features or consider increasing regularisation. Duality gap: 1.075e+01, tolerance: 2.129e+00\n",
      "  model = cd_fast.enet_coordinate_descent(\n",
      "C:\\Users\\amini\\anaconda3\\lib\\site-packages\\sklearn\\linear_model\\_coordinate_descent.py:647: ConvergenceWarning: Objective did not converge. You might want to increase the number of iterations, check the scale of the features or consider increasing regularisation. Duality gap: 1.410e+01, tolerance: 2.129e+00\n",
      "  model = cd_fast.enet_coordinate_descent(\n",
      "C:\\Users\\amini\\anaconda3\\lib\\site-packages\\sklearn\\linear_model\\_coordinate_descent.py:647: ConvergenceWarning: Objective did not converge. You might want to increase the number of iterations, check the scale of the features or consider increasing regularisation. Duality gap: 1.584e+01, tolerance: 2.129e+00\n",
      "  model = cd_fast.enet_coordinate_descent(\n",
      "C:\\Users\\amini\\anaconda3\\lib\\site-packages\\sklearn\\linear_model\\_coordinate_descent.py:647: ConvergenceWarning: Objective did not converge. You might want to increase the number of iterations, check the scale of the features or consider increasing regularisation. Duality gap: 1.338e+01, tolerance: 2.129e+00\n",
      "  model = cd_fast.enet_coordinate_descent(\n",
      "C:\\Users\\amini\\anaconda3\\lib\\site-packages\\sklearn\\linear_model\\_coordinate_descent.py:647: ConvergenceWarning: Objective did not converge. You might want to increase the number of iterations, check the scale of the features or consider increasing regularisation. Duality gap: 1.135e+01, tolerance: 2.129e+00\n",
      "  model = cd_fast.enet_coordinate_descent(\n",
      "C:\\Users\\amini\\anaconda3\\lib\\site-packages\\sklearn\\linear_model\\_coordinate_descent.py:647: ConvergenceWarning: Objective did not converge. You might want to increase the number of iterations, check the scale of the features or consider increasing regularisation. Duality gap: 1.176e+01, tolerance: 2.129e+00\n",
      "  model = cd_fast.enet_coordinate_descent(\n",
      "C:\\Users\\amini\\anaconda3\\lib\\site-packages\\sklearn\\linear_model\\_coordinate_descent.py:647: ConvergenceWarning: Objective did not converge. You might want to increase the number of iterations, check the scale of the features or consider increasing regularisation. Duality gap: 1.051e+01, tolerance: 2.129e+00\n",
      "  model = cd_fast.enet_coordinate_descent(\n",
      "C:\\Users\\amini\\anaconda3\\lib\\site-packages\\sklearn\\linear_model\\_coordinate_descent.py:647: ConvergenceWarning: Objective did not converge. You might want to increase the number of iterations, check the scale of the features or consider increasing regularisation. Duality gap: 1.087e+01, tolerance: 2.129e+00\n",
      "  model = cd_fast.enet_coordinate_descent(\n",
      "C:\\Users\\amini\\anaconda3\\lib\\site-packages\\sklearn\\linear_model\\_coordinate_descent.py:647: ConvergenceWarning: Objective did not converge. You might want to increase the number of iterations, check the scale of the features or consider increasing regularisation. Duality gap: 1.165e+01, tolerance: 2.129e+00\n",
      "  model = cd_fast.enet_coordinate_descent(\n",
      "C:\\Users\\amini\\anaconda3\\lib\\site-packages\\sklearn\\linear_model\\_coordinate_descent.py:647: ConvergenceWarning: Objective did not converge. You might want to increase the number of iterations, check the scale of the features or consider increasing regularisation. Duality gap: 1.133e+01, tolerance: 2.129e+00\n",
      "  model = cd_fast.enet_coordinate_descent(\n",
      "C:\\Users\\amini\\anaconda3\\lib\\site-packages\\sklearn\\linear_model\\_coordinate_descent.py:647: ConvergenceWarning: Objective did not converge. You might want to increase the number of iterations, check the scale of the features or consider increasing regularisation. Duality gap: 1.125e+01, tolerance: 2.129e+00\n",
      "  model = cd_fast.enet_coordinate_descent(\n",
      "C:\\Users\\amini\\anaconda3\\lib\\site-packages\\sklearn\\linear_model\\_coordinate_descent.py:647: ConvergenceWarning: Objective did not converge. You might want to increase the number of iterations, check the scale of the features or consider increasing regularisation. Duality gap: 1.171e+01, tolerance: 2.129e+00\n",
      "  model = cd_fast.enet_coordinate_descent(\n",
      "C:\\Users\\amini\\anaconda3\\lib\\site-packages\\sklearn\\linear_model\\_coordinate_descent.py:647: ConvergenceWarning: Objective did not converge. You might want to increase the number of iterations, check the scale of the features or consider increasing regularisation. Duality gap: 1.091e+01, tolerance: 2.129e+00\n",
      "  model = cd_fast.enet_coordinate_descent(\n",
      "C:\\Users\\amini\\anaconda3\\lib\\site-packages\\sklearn\\linear_model\\_coordinate_descent.py:647: ConvergenceWarning: Objective did not converge. You might want to increase the number of iterations, check the scale of the features or consider increasing regularisation. Duality gap: 9.107e+00, tolerance: 2.129e+00\n",
      "  model = cd_fast.enet_coordinate_descent(\n",
      "C:\\Users\\amini\\anaconda3\\lib\\site-packages\\sklearn\\linear_model\\_coordinate_descent.py:647: ConvergenceWarning: Objective did not converge. You might want to increase the number of iterations, check the scale of the features or consider increasing regularisation. Duality gap: 9.525e+00, tolerance: 2.129e+00\n",
      "  model = cd_fast.enet_coordinate_descent(\n",
      "C:\\Users\\amini\\anaconda3\\lib\\site-packages\\sklearn\\linear_model\\_coordinate_descent.py:647: ConvergenceWarning: Objective did not converge. You might want to increase the number of iterations, check the scale of the features or consider increasing regularisation. Duality gap: 1.222e+01, tolerance: 2.129e+00\n",
      "  model = cd_fast.enet_coordinate_descent(\n",
      "C:\\Users\\amini\\anaconda3\\lib\\site-packages\\sklearn\\linear_model\\_coordinate_descent.py:647: ConvergenceWarning: Objective did not converge. You might want to increase the number of iterations, check the scale of the features or consider increasing regularisation. Duality gap: 1.311e+01, tolerance: 2.129e+00\n",
      "  model = cd_fast.enet_coordinate_descent(\n",
      "C:\\Users\\amini\\anaconda3\\lib\\site-packages\\sklearn\\linear_model\\_coordinate_descent.py:647: ConvergenceWarning: Objective did not converge. You might want to increase the number of iterations, check the scale of the features or consider increasing regularisation. Duality gap: 1.207e+01, tolerance: 2.129e+00\n",
      "  model = cd_fast.enet_coordinate_descent(\n",
      "C:\\Users\\amini\\anaconda3\\lib\\site-packages\\sklearn\\linear_model\\_coordinate_descent.py:647: ConvergenceWarning: Objective did not converge. You might want to increase the number of iterations, check the scale of the features or consider increasing regularisation. Duality gap: 1.121e+01, tolerance: 2.129e+00\n",
      "  model = cd_fast.enet_coordinate_descent(\n",
      "C:\\Users\\amini\\anaconda3\\lib\\site-packages\\sklearn\\linear_model\\_coordinate_descent.py:647: ConvergenceWarning: Objective did not converge. You might want to increase the number of iterations, check the scale of the features or consider increasing regularisation. Duality gap: 8.916e+00, tolerance: 2.129e+00\n",
      "  model = cd_fast.enet_coordinate_descent(\n",
      "C:\\Users\\amini\\anaconda3\\lib\\site-packages\\sklearn\\linear_model\\_coordinate_descent.py:647: ConvergenceWarning: Objective did not converge. You might want to increase the number of iterations, check the scale of the features or consider increasing regularisation. Duality gap: 7.064e+00, tolerance: 2.129e+00\n",
      "  model = cd_fast.enet_coordinate_descent(\n",
      "C:\\Users\\amini\\anaconda3\\lib\\site-packages\\sklearn\\linear_model\\_coordinate_descent.py:647: ConvergenceWarning: Objective did not converge. You might want to increase the number of iterations, check the scale of the features or consider increasing regularisation. Duality gap: 7.634e+00, tolerance: 2.129e+00\n",
      "  model = cd_fast.enet_coordinate_descent(\n",
      "C:\\Users\\amini\\anaconda3\\lib\\site-packages\\sklearn\\linear_model\\_coordinate_descent.py:647: ConvergenceWarning: Objective did not converge. You might want to increase the number of iterations, check the scale of the features or consider increasing regularisation. Duality gap: 9.142e+00, tolerance: 2.129e+00\n",
      "  model = cd_fast.enet_coordinate_descent(\n"
     ]
    },
    {
     "name": "stderr",
     "output_type": "stream",
     "text": [
      "C:\\Users\\amini\\anaconda3\\lib\\site-packages\\sklearn\\linear_model\\_coordinate_descent.py:647: ConvergenceWarning: Objective did not converge. You might want to increase the number of iterations, check the scale of the features or consider increasing regularisation. Duality gap: 1.328e+01, tolerance: 2.129e+00\n",
      "  model = cd_fast.enet_coordinate_descent(\n",
      "C:\\Users\\amini\\anaconda3\\lib\\site-packages\\sklearn\\linear_model\\_coordinate_descent.py:647: ConvergenceWarning: Objective did not converge. You might want to increase the number of iterations, check the scale of the features or consider increasing regularisation. Duality gap: 1.768e+01, tolerance: 2.129e+00\n",
      "  model = cd_fast.enet_coordinate_descent(\n",
      "C:\\Users\\amini\\anaconda3\\lib\\site-packages\\sklearn\\linear_model\\_coordinate_descent.py:647: ConvergenceWarning: Objective did not converge. You might want to increase the number of iterations, check the scale of the features or consider increasing regularisation. Duality gap: 2.235e+01, tolerance: 2.129e+00\n",
      "  model = cd_fast.enet_coordinate_descent(\n",
      "C:\\Users\\amini\\anaconda3\\lib\\site-packages\\sklearn\\linear_model\\_coordinate_descent.py:647: ConvergenceWarning: Objective did not converge. You might want to increase the number of iterations, check the scale of the features or consider increasing regularisation. Duality gap: 2.765e+01, tolerance: 2.129e+00\n",
      "  model = cd_fast.enet_coordinate_descent(\n",
      "C:\\Users\\amini\\anaconda3\\lib\\site-packages\\sklearn\\linear_model\\_coordinate_descent.py:647: ConvergenceWarning: Objective did not converge. You might want to increase the number of iterations, check the scale of the features or consider increasing regularisation. Duality gap: 3.258e+01, tolerance: 2.129e+00\n",
      "  model = cd_fast.enet_coordinate_descent(\n",
      "C:\\Users\\amini\\anaconda3\\lib\\site-packages\\sklearn\\linear_model\\_coordinate_descent.py:647: ConvergenceWarning: Objective did not converge. You might want to increase the number of iterations, check the scale of the features or consider increasing regularisation. Duality gap: 3.759e+01, tolerance: 2.129e+00\n",
      "  model = cd_fast.enet_coordinate_descent(\n",
      "C:\\Users\\amini\\anaconda3\\lib\\site-packages\\sklearn\\linear_model\\_coordinate_descent.py:647: ConvergenceWarning: Objective did not converge. You might want to increase the number of iterations, check the scale of the features or consider increasing regularisation. Duality gap: 3.923e+01, tolerance: 2.129e+00\n",
      "  model = cd_fast.enet_coordinate_descent(\n",
      "C:\\Users\\amini\\anaconda3\\lib\\site-packages\\sklearn\\linear_model\\_coordinate_descent.py:647: ConvergenceWarning: Objective did not converge. You might want to increase the number of iterations, check the scale of the features or consider increasing regularisation. Duality gap: 3.925e+01, tolerance: 2.129e+00\n",
      "  model = cd_fast.enet_coordinate_descent(\n",
      "C:\\Users\\amini\\anaconda3\\lib\\site-packages\\sklearn\\linear_model\\_coordinate_descent.py:647: ConvergenceWarning: Objective did not converge. You might want to increase the number of iterations, check the scale of the features or consider increasing regularisation. Duality gap: 4.170e+01, tolerance: 2.129e+00\n",
      "  model = cd_fast.enet_coordinate_descent(\n",
      "C:\\Users\\amini\\anaconda3\\lib\\site-packages\\sklearn\\linear_model\\_coordinate_descent.py:647: ConvergenceWarning: Objective did not converge. You might want to increase the number of iterations, check the scale of the features or consider increasing regularisation. Duality gap: 4.560e+01, tolerance: 2.129e+00\n",
      "  model = cd_fast.enet_coordinate_descent(\n",
      "C:\\Users\\amini\\anaconda3\\lib\\site-packages\\sklearn\\linear_model\\_coordinate_descent.py:647: ConvergenceWarning: Objective did not converge. You might want to increase the number of iterations, check the scale of the features or consider increasing regularisation. Duality gap: 4.963e+01, tolerance: 2.129e+00\n",
      "  model = cd_fast.enet_coordinate_descent(\n",
      "C:\\Users\\amini\\anaconda3\\lib\\site-packages\\sklearn\\linear_model\\_coordinate_descent.py:647: ConvergenceWarning: Objective did not converge. You might want to increase the number of iterations, check the scale of the features or consider increasing regularisation. Duality gap: 5.233e+01, tolerance: 2.129e+00\n",
      "  model = cd_fast.enet_coordinate_descent(\n",
      "C:\\Users\\amini\\anaconda3\\lib\\site-packages\\sklearn\\linear_model\\_coordinate_descent.py:647: ConvergenceWarning: Objective did not converge. You might want to increase the number of iterations, check the scale of the features or consider increasing regularisation. Duality gap: 5.341e+01, tolerance: 2.129e+00\n",
      "  model = cd_fast.enet_coordinate_descent(\n",
      "C:\\Users\\amini\\anaconda3\\lib\\site-packages\\sklearn\\linear_model\\_coordinate_descent.py:647: ConvergenceWarning: Objective did not converge. You might want to increase the number of iterations, check the scale of the features or consider increasing regularisation. Duality gap: 6.150e+01, tolerance: 2.129e+00\n",
      "  model = cd_fast.enet_coordinate_descent(\n",
      "C:\\Users\\amini\\anaconda3\\lib\\site-packages\\sklearn\\linear_model\\_coordinate_descent.py:647: ConvergenceWarning: Objective did not converge. You might want to increase the number of iterations, check the scale of the features or consider increasing regularisation. Duality gap: 7.059e+01, tolerance: 2.129e+00\n",
      "  model = cd_fast.enet_coordinate_descent(\n",
      "C:\\Users\\amini\\anaconda3\\lib\\site-packages\\sklearn\\linear_model\\_coordinate_descent.py:647: ConvergenceWarning: Objective did not converge. You might want to increase the number of iterations, check the scale of the features or consider increasing regularisation. Duality gap: 7.512e+01, tolerance: 2.129e+00\n",
      "  model = cd_fast.enet_coordinate_descent(\n",
      "C:\\Users\\amini\\anaconda3\\lib\\site-packages\\sklearn\\linear_model\\_coordinate_descent.py:647: ConvergenceWarning: Objective did not converge. You might want to increase the number of iterations, check the scale of the features or consider increasing regularisation. Duality gap: 7.834e+01, tolerance: 2.129e+00\n",
      "  model = cd_fast.enet_coordinate_descent(\n",
      "C:\\Users\\amini\\anaconda3\\lib\\site-packages\\sklearn\\linear_model\\_coordinate_descent.py:647: ConvergenceWarning: Objective did not converge. You might want to increase the number of iterations, check the scale of the features or consider increasing regularisation. Duality gap: 8.714e+01, tolerance: 2.129e+00\n",
      "  model = cd_fast.enet_coordinate_descent(\n",
      "C:\\Users\\amini\\anaconda3\\lib\\site-packages\\sklearn\\linear_model\\_coordinate_descent.py:647: ConvergenceWarning: Objective did not converge. You might want to increase the number of iterations, check the scale of the features or consider increasing regularisation. Duality gap: 9.991e+01, tolerance: 2.129e+00\n",
      "  model = cd_fast.enet_coordinate_descent(\n",
      "C:\\Users\\amini\\anaconda3\\lib\\site-packages\\sklearn\\linear_model\\_coordinate_descent.py:647: ConvergenceWarning: Objective did not converge. You might want to increase the number of iterations, check the scale of the features or consider increasing regularisation. Duality gap: 1.085e+02, tolerance: 2.129e+00\n",
      "  model = cd_fast.enet_coordinate_descent(\n",
      "C:\\Users\\amini\\anaconda3\\lib\\site-packages\\sklearn\\linear_model\\_coordinate_descent.py:647: ConvergenceWarning: Objective did not converge. You might want to increase the number of iterations, check the scale of the features or consider increasing regularisation. Duality gap: 1.109e+02, tolerance: 2.129e+00\n",
      "  model = cd_fast.enet_coordinate_descent(\n",
      "C:\\Users\\amini\\anaconda3\\lib\\site-packages\\sklearn\\linear_model\\_coordinate_descent.py:647: ConvergenceWarning: Objective did not converge. You might want to increase the number of iterations, check the scale of the features or consider increasing regularisation. Duality gap: 1.129e+02, tolerance: 2.129e+00\n",
      "  model = cd_fast.enet_coordinate_descent(\n",
      "C:\\Users\\amini\\anaconda3\\lib\\site-packages\\sklearn\\linear_model\\_coordinate_descent.py:647: ConvergenceWarning: Objective did not converge. You might want to increase the number of iterations, check the scale of the features or consider increasing regularisation. Duality gap: 1.163e+02, tolerance: 2.129e+00\n",
      "  model = cd_fast.enet_coordinate_descent(\n",
      "C:\\Users\\amini\\anaconda3\\lib\\site-packages\\sklearn\\linear_model\\_coordinate_descent.py:647: ConvergenceWarning: Objective did not converge. You might want to increase the number of iterations, check the scale of the features or consider increasing regularisation. Duality gap: 1.202e+02, tolerance: 2.129e+00\n",
      "  model = cd_fast.enet_coordinate_descent(\n"
     ]
    },
    {
     "name": "stderr",
     "output_type": "stream",
     "text": [
      "C:\\Users\\amini\\anaconda3\\lib\\site-packages\\sklearn\\linear_model\\_coordinate_descent.py:647: ConvergenceWarning: Objective did not converge. You might want to increase the number of iterations, check the scale of the features or consider increasing regularisation. Duality gap: 3.078e+00, tolerance: 2.135e+00\n",
      "  model = cd_fast.enet_coordinate_descent(\n",
      "C:\\Users\\amini\\anaconda3\\lib\\site-packages\\sklearn\\linear_model\\_coordinate_descent.py:647: ConvergenceWarning: Objective did not converge. You might want to increase the number of iterations, check the scale of the features or consider increasing regularisation. Duality gap: 3.680e+00, tolerance: 2.135e+00\n",
      "  model = cd_fast.enet_coordinate_descent(\n",
      "C:\\Users\\amini\\anaconda3\\lib\\site-packages\\sklearn\\linear_model\\_coordinate_descent.py:647: ConvergenceWarning: Objective did not converge. You might want to increase the number of iterations, check the scale of the features or consider increasing regularisation. Duality gap: 7.147e+00, tolerance: 2.135e+00\n",
      "  model = cd_fast.enet_coordinate_descent(\n",
      "C:\\Users\\amini\\anaconda3\\lib\\site-packages\\sklearn\\linear_model\\_coordinate_descent.py:647: ConvergenceWarning: Objective did not converge. You might want to increase the number of iterations, check the scale of the features or consider increasing regularisation. Duality gap: 1.291e+01, tolerance: 2.135e+00\n",
      "  model = cd_fast.enet_coordinate_descent(\n",
      "C:\\Users\\amini\\anaconda3\\lib\\site-packages\\sklearn\\linear_model\\_coordinate_descent.py:647: ConvergenceWarning: Objective did not converge. You might want to increase the number of iterations, check the scale of the features or consider increasing regularisation. Duality gap: 1.103e+01, tolerance: 2.135e+00\n",
      "  model = cd_fast.enet_coordinate_descent(\n",
      "C:\\Users\\amini\\anaconda3\\lib\\site-packages\\sklearn\\linear_model\\_coordinate_descent.py:647: ConvergenceWarning: Objective did not converge. You might want to increase the number of iterations, check the scale of the features or consider increasing regularisation. Duality gap: 1.245e+01, tolerance: 2.135e+00\n",
      "  model = cd_fast.enet_coordinate_descent(\n",
      "C:\\Users\\amini\\anaconda3\\lib\\site-packages\\sklearn\\linear_model\\_coordinate_descent.py:647: ConvergenceWarning: Objective did not converge. You might want to increase the number of iterations, check the scale of the features or consider increasing regularisation. Duality gap: 8.432e+00, tolerance: 2.135e+00\n",
      "  model = cd_fast.enet_coordinate_descent(\n",
      "C:\\Users\\amini\\anaconda3\\lib\\site-packages\\sklearn\\linear_model\\_coordinate_descent.py:647: ConvergenceWarning: Objective did not converge. You might want to increase the number of iterations, check the scale of the features or consider increasing regularisation. Duality gap: 8.698e+00, tolerance: 2.135e+00\n",
      "  model = cd_fast.enet_coordinate_descent(\n",
      "C:\\Users\\amini\\anaconda3\\lib\\site-packages\\sklearn\\linear_model\\_coordinate_descent.py:647: ConvergenceWarning: Objective did not converge. You might want to increase the number of iterations, check the scale of the features or consider increasing regularisation. Duality gap: 1.073e+01, tolerance: 2.135e+00\n",
      "  model = cd_fast.enet_coordinate_descent(\n",
      "C:\\Users\\amini\\anaconda3\\lib\\site-packages\\sklearn\\linear_model\\_coordinate_descent.py:647: ConvergenceWarning: Objective did not converge. You might want to increase the number of iterations, check the scale of the features or consider increasing regularisation. Duality gap: 1.422e+01, tolerance: 2.135e+00\n",
      "  model = cd_fast.enet_coordinate_descent(\n",
      "C:\\Users\\amini\\anaconda3\\lib\\site-packages\\sklearn\\linear_model\\_coordinate_descent.py:647: ConvergenceWarning: Objective did not converge. You might want to increase the number of iterations, check the scale of the features or consider increasing regularisation. Duality gap: 1.261e+01, tolerance: 2.135e+00\n",
      "  model = cd_fast.enet_coordinate_descent(\n",
      "C:\\Users\\amini\\anaconda3\\lib\\site-packages\\sklearn\\linear_model\\_coordinate_descent.py:647: ConvergenceWarning: Objective did not converge. You might want to increase the number of iterations, check the scale of the features or consider increasing regularisation. Duality gap: 9.440e+00, tolerance: 2.135e+00\n",
      "  model = cd_fast.enet_coordinate_descent(\n",
      "C:\\Users\\amini\\anaconda3\\lib\\site-packages\\sklearn\\linear_model\\_coordinate_descent.py:647: ConvergenceWarning: Objective did not converge. You might want to increase the number of iterations, check the scale of the features or consider increasing regularisation. Duality gap: 8.335e+00, tolerance: 2.135e+00\n",
      "  model = cd_fast.enet_coordinate_descent(\n",
      "C:\\Users\\amini\\anaconda3\\lib\\site-packages\\sklearn\\linear_model\\_coordinate_descent.py:647: ConvergenceWarning: Objective did not converge. You might want to increase the number of iterations, check the scale of the features or consider increasing regularisation. Duality gap: 8.414e+00, tolerance: 2.135e+00\n",
      "  model = cd_fast.enet_coordinate_descent(\n",
      "C:\\Users\\amini\\anaconda3\\lib\\site-packages\\sklearn\\linear_model\\_coordinate_descent.py:647: ConvergenceWarning: Objective did not converge. You might want to increase the number of iterations, check the scale of the features or consider increasing regularisation. Duality gap: 9.264e+00, tolerance: 2.135e+00\n",
      "  model = cd_fast.enet_coordinate_descent(\n",
      "C:\\Users\\amini\\anaconda3\\lib\\site-packages\\sklearn\\linear_model\\_coordinate_descent.py:647: ConvergenceWarning: Objective did not converge. You might want to increase the number of iterations, check the scale of the features or consider increasing regularisation. Duality gap: 9.394e+00, tolerance: 2.135e+00\n",
      "  model = cd_fast.enet_coordinate_descent(\n",
      "C:\\Users\\amini\\anaconda3\\lib\\site-packages\\sklearn\\linear_model\\_coordinate_descent.py:647: ConvergenceWarning: Objective did not converge. You might want to increase the number of iterations, check the scale of the features or consider increasing regularisation. Duality gap: 1.105e+01, tolerance: 2.135e+00\n",
      "  model = cd_fast.enet_coordinate_descent(\n",
      "C:\\Users\\amini\\anaconda3\\lib\\site-packages\\sklearn\\linear_model\\_coordinate_descent.py:647: ConvergenceWarning: Objective did not converge. You might want to increase the number of iterations, check the scale of the features or consider increasing regularisation. Duality gap: 1.319e+01, tolerance: 2.135e+00\n",
      "  model = cd_fast.enet_coordinate_descent(\n",
      "C:\\Users\\amini\\anaconda3\\lib\\site-packages\\sklearn\\linear_model\\_coordinate_descent.py:647: ConvergenceWarning: Objective did not converge. You might want to increase the number of iterations, check the scale of the features or consider increasing regularisation. Duality gap: 1.244e+01, tolerance: 2.135e+00\n",
      "  model = cd_fast.enet_coordinate_descent(\n",
      "C:\\Users\\amini\\anaconda3\\lib\\site-packages\\sklearn\\linear_model\\_coordinate_descent.py:647: ConvergenceWarning: Objective did not converge. You might want to increase the number of iterations, check the scale of the features or consider increasing regularisation. Duality gap: 1.759e+01, tolerance: 2.135e+00\n",
      "  model = cd_fast.enet_coordinate_descent(\n",
      "C:\\Users\\amini\\anaconda3\\lib\\site-packages\\sklearn\\linear_model\\_coordinate_descent.py:647: ConvergenceWarning: Objective did not converge. You might want to increase the number of iterations, check the scale of the features or consider increasing regularisation. Duality gap: 2.167e+01, tolerance: 2.135e+00\n",
      "  model = cd_fast.enet_coordinate_descent(\n",
      "C:\\Users\\amini\\anaconda3\\lib\\site-packages\\sklearn\\linear_model\\_coordinate_descent.py:647: ConvergenceWarning: Objective did not converge. You might want to increase the number of iterations, check the scale of the features or consider increasing regularisation. Duality gap: 2.301e+01, tolerance: 2.135e+00\n",
      "  model = cd_fast.enet_coordinate_descent(\n",
      "C:\\Users\\amini\\anaconda3\\lib\\site-packages\\sklearn\\linear_model\\_coordinate_descent.py:647: ConvergenceWarning: Objective did not converge. You might want to increase the number of iterations, check the scale of the features or consider increasing regularisation. Duality gap: 2.401e+01, tolerance: 2.135e+00\n",
      "  model = cd_fast.enet_coordinate_descent(\n",
      "C:\\Users\\amini\\anaconda3\\lib\\site-packages\\sklearn\\linear_model\\_coordinate_descent.py:647: ConvergenceWarning: Objective did not converge. You might want to increase the number of iterations, check the scale of the features or consider increasing regularisation. Duality gap: 2.327e+01, tolerance: 2.135e+00\n",
      "  model = cd_fast.enet_coordinate_descent(\n",
      "C:\\Users\\amini\\anaconda3\\lib\\site-packages\\sklearn\\linear_model\\_coordinate_descent.py:647: ConvergenceWarning: Objective did not converge. You might want to increase the number of iterations, check the scale of the features or consider increasing regularisation. Duality gap: 2.429e+01, tolerance: 2.135e+00\n",
      "  model = cd_fast.enet_coordinate_descent(\n",
      "C:\\Users\\amini\\anaconda3\\lib\\site-packages\\sklearn\\linear_model\\_coordinate_descent.py:647: ConvergenceWarning: Objective did not converge. You might want to increase the number of iterations, check the scale of the features or consider increasing regularisation. Duality gap: 2.437e+01, tolerance: 2.135e+00\n",
      "  model = cd_fast.enet_coordinate_descent(\n",
      "C:\\Users\\amini\\anaconda3\\lib\\site-packages\\sklearn\\linear_model\\_coordinate_descent.py:647: ConvergenceWarning: Objective did not converge. You might want to increase the number of iterations, check the scale of the features or consider increasing regularisation. Duality gap: 2.417e+01, tolerance: 2.135e+00\n",
      "  model = cd_fast.enet_coordinate_descent(\n",
      "C:\\Users\\amini\\anaconda3\\lib\\site-packages\\sklearn\\linear_model\\_coordinate_descent.py:647: ConvergenceWarning: Objective did not converge. You might want to increase the number of iterations, check the scale of the features or consider increasing regularisation. Duality gap: 2.376e+01, tolerance: 2.135e+00\n",
      "  model = cd_fast.enet_coordinate_descent(\n",
      "C:\\Users\\amini\\anaconda3\\lib\\site-packages\\sklearn\\linear_model\\_coordinate_descent.py:647: ConvergenceWarning: Objective did not converge. You might want to increase the number of iterations, check the scale of the features or consider increasing regularisation. Duality gap: 2.921e+01, tolerance: 2.135e+00\n",
      "  model = cd_fast.enet_coordinate_descent(\n",
      "C:\\Users\\amini\\anaconda3\\lib\\site-packages\\sklearn\\linear_model\\_coordinate_descent.py:647: ConvergenceWarning: Objective did not converge. You might want to increase the number of iterations, check the scale of the features or consider increasing regularisation. Duality gap: 3.538e+01, tolerance: 2.135e+00\n",
      "  model = cd_fast.enet_coordinate_descent(\n",
      "C:\\Users\\amini\\anaconda3\\lib\\site-packages\\sklearn\\linear_model\\_coordinate_descent.py:647: ConvergenceWarning: Objective did not converge. You might want to increase the number of iterations, check the scale of the features or consider increasing regularisation. Duality gap: 3.993e+01, tolerance: 2.135e+00\n",
      "  model = cd_fast.enet_coordinate_descent(\n",
      "C:\\Users\\amini\\anaconda3\\lib\\site-packages\\sklearn\\linear_model\\_coordinate_descent.py:647: ConvergenceWarning: Objective did not converge. You might want to increase the number of iterations, check the scale of the features or consider increasing regularisation. Duality gap: 4.353e+01, tolerance: 2.135e+00\n",
      "  model = cd_fast.enet_coordinate_descent(\n",
      "C:\\Users\\amini\\anaconda3\\lib\\site-packages\\sklearn\\linear_model\\_coordinate_descent.py:647: ConvergenceWarning: Objective did not converge. You might want to increase the number of iterations, check the scale of the features or consider increasing regularisation. Duality gap: 4.477e+01, tolerance: 2.135e+00\n",
      "  model = cd_fast.enet_coordinate_descent(\n",
      "C:\\Users\\amini\\anaconda3\\lib\\site-packages\\sklearn\\linear_model\\_coordinate_descent.py:647: ConvergenceWarning: Objective did not converge. You might want to increase the number of iterations, check the scale of the features or consider increasing regularisation. Duality gap: 4.569e+01, tolerance: 2.135e+00\n",
      "  model = cd_fast.enet_coordinate_descent(\n",
      "C:\\Users\\amini\\anaconda3\\lib\\site-packages\\sklearn\\linear_model\\_coordinate_descent.py:647: ConvergenceWarning: Objective did not converge. You might want to increase the number of iterations, check the scale of the features or consider increasing regularisation. Duality gap: 4.424e+01, tolerance: 2.135e+00\n",
      "  model = cd_fast.enet_coordinate_descent(\n",
      "C:\\Users\\amini\\anaconda3\\lib\\site-packages\\sklearn\\linear_model\\_coordinate_descent.py:647: ConvergenceWarning: Objective did not converge. You might want to increase the number of iterations, check the scale of the features or consider increasing regularisation. Duality gap: 4.135e+01, tolerance: 2.135e+00\n",
      "  model = cd_fast.enet_coordinate_descent(\n"
     ]
    },
    {
     "name": "stderr",
     "output_type": "stream",
     "text": [
      "C:\\Users\\amini\\anaconda3\\lib\\site-packages\\sklearn\\linear_model\\_coordinate_descent.py:647: ConvergenceWarning: Objective did not converge. You might want to increase the number of iterations, check the scale of the features or consider increasing regularisation. Duality gap: 4.313e+01, tolerance: 2.135e+00\n",
      "  model = cd_fast.enet_coordinate_descent(\n",
      "C:\\Users\\amini\\anaconda3\\lib\\site-packages\\sklearn\\linear_model\\_coordinate_descent.py:647: ConvergenceWarning: Objective did not converge. You might want to increase the number of iterations, check the scale of the features or consider increasing regularisation. Duality gap: 4.762e+01, tolerance: 2.135e+00\n",
      "  model = cd_fast.enet_coordinate_descent(\n",
      "C:\\Users\\amini\\anaconda3\\lib\\site-packages\\sklearn\\linear_model\\_coordinate_descent.py:647: ConvergenceWarning: Objective did not converge. You might want to increase the number of iterations, check the scale of the features or consider increasing regularisation. Duality gap: 5.259e+01, tolerance: 2.135e+00\n",
      "  model = cd_fast.enet_coordinate_descent(\n",
      "C:\\Users\\amini\\anaconda3\\lib\\site-packages\\sklearn\\linear_model\\_coordinate_descent.py:647: ConvergenceWarning: Objective did not converge. You might want to increase the number of iterations, check the scale of the features or consider increasing regularisation. Duality gap: 5.330e+01, tolerance: 2.135e+00\n",
      "  model = cd_fast.enet_coordinate_descent(\n",
      "C:\\Users\\amini\\anaconda3\\lib\\site-packages\\sklearn\\linear_model\\_coordinate_descent.py:647: ConvergenceWarning: Objective did not converge. You might want to increase the number of iterations, check the scale of the features or consider increasing regularisation. Duality gap: 5.799e+01, tolerance: 2.135e+00\n",
      "  model = cd_fast.enet_coordinate_descent(\n",
      "C:\\Users\\amini\\anaconda3\\lib\\site-packages\\sklearn\\linear_model\\_coordinate_descent.py:647: ConvergenceWarning: Objective did not converge. You might want to increase the number of iterations, check the scale of the features or consider increasing regularisation. Duality gap: 6.402e+01, tolerance: 2.135e+00\n",
      "  model = cd_fast.enet_coordinate_descent(\n",
      "C:\\Users\\amini\\anaconda3\\lib\\site-packages\\sklearn\\linear_model\\_coordinate_descent.py:647: ConvergenceWarning: Objective did not converge. You might want to increase the number of iterations, check the scale of the features or consider increasing regularisation. Duality gap: 7.096e+01, tolerance: 2.135e+00\n",
      "  model = cd_fast.enet_coordinate_descent(\n",
      "C:\\Users\\amini\\anaconda3\\lib\\site-packages\\sklearn\\linear_model\\_coordinate_descent.py:647: ConvergenceWarning: Objective did not converge. You might want to increase the number of iterations, check the scale of the features or consider increasing regularisation. Duality gap: 7.602e+01, tolerance: 2.135e+00\n",
      "  model = cd_fast.enet_coordinate_descent(\n",
      "C:\\Users\\amini\\anaconda3\\lib\\site-packages\\sklearn\\linear_model\\_coordinate_descent.py:647: ConvergenceWarning: Objective did not converge. You might want to increase the number of iterations, check the scale of the features or consider increasing regularisation. Duality gap: 8.424e+01, tolerance: 2.135e+00\n",
      "  model = cd_fast.enet_coordinate_descent(\n",
      "C:\\Users\\amini\\anaconda3\\lib\\site-packages\\sklearn\\linear_model\\_coordinate_descent.py:647: ConvergenceWarning: Objective did not converge. You might want to increase the number of iterations, check the scale of the features or consider increasing regularisation. Duality gap: 8.733e+01, tolerance: 2.135e+00\n",
      "  model = cd_fast.enet_coordinate_descent(\n",
      "C:\\Users\\amini\\anaconda3\\lib\\site-packages\\sklearn\\linear_model\\_coordinate_descent.py:647: ConvergenceWarning: Objective did not converge. You might want to increase the number of iterations, check the scale of the features or consider increasing regularisation. Duality gap: 9.149e+01, tolerance: 2.135e+00\n",
      "  model = cd_fast.enet_coordinate_descent(\n",
      "C:\\Users\\amini\\anaconda3\\lib\\site-packages\\sklearn\\linear_model\\_coordinate_descent.py:647: ConvergenceWarning: Objective did not converge. You might want to increase the number of iterations, check the scale of the features or consider increasing regularisation. Duality gap: 9.616e+01, tolerance: 2.135e+00\n",
      "  model = cd_fast.enet_coordinate_descent(\n",
      "C:\\Users\\amini\\anaconda3\\lib\\site-packages\\sklearn\\linear_model\\_coordinate_descent.py:647: ConvergenceWarning: Objective did not converge. You might want to increase the number of iterations, check the scale of the features or consider increasing regularisation. Duality gap: 1.020e+02, tolerance: 2.135e+00\n",
      "  model = cd_fast.enet_coordinate_descent(\n",
      "C:\\Users\\amini\\anaconda3\\lib\\site-packages\\sklearn\\linear_model\\_coordinate_descent.py:647: ConvergenceWarning: Objective did not converge. You might want to increase the number of iterations, check the scale of the features or consider increasing regularisation. Duality gap: 1.117e+02, tolerance: 2.135e+00\n",
      "  model = cd_fast.enet_coordinate_descent(\n",
      "C:\\Users\\amini\\anaconda3\\lib\\site-packages\\sklearn\\linear_model\\_coordinate_descent.py:647: ConvergenceWarning: Objective did not converge. You might want to increase the number of iterations, check the scale of the features or consider increasing regularisation. Duality gap: 1.214e+02, tolerance: 2.135e+00\n",
      "  model = cd_fast.enet_coordinate_descent(\n",
      "C:\\Users\\amini\\anaconda3\\lib\\site-packages\\sklearn\\linear_model\\_coordinate_descent.py:647: ConvergenceWarning: Objective did not converge. You might want to increase the number of iterations, check the scale of the features or consider increasing regularisation. Duality gap: 2.483e+00, tolerance: 2.336e+00\n",
      "  model = cd_fast.enet_coordinate_descent(\n",
      "C:\\Users\\amini\\anaconda3\\lib\\site-packages\\sklearn\\linear_model\\_coordinate_descent.py:647: ConvergenceWarning: Objective did not converge. You might want to increase the number of iterations, check the scale of the features or consider increasing regularisation. Duality gap: 3.626e+00, tolerance: 2.336e+00\n",
      "  model = cd_fast.enet_coordinate_descent(\n",
      "C:\\Users\\amini\\anaconda3\\lib\\site-packages\\sklearn\\linear_model\\_coordinate_descent.py:647: ConvergenceWarning: Objective did not converge. You might want to increase the number of iterations, check the scale of the features or consider increasing regularisation. Duality gap: 6.029e+00, tolerance: 2.336e+00\n",
      "  model = cd_fast.enet_coordinate_descent(\n",
      "C:\\Users\\amini\\anaconda3\\lib\\site-packages\\sklearn\\linear_model\\_coordinate_descent.py:647: ConvergenceWarning: Objective did not converge. You might want to increase the number of iterations, check the scale of the features or consider increasing regularisation. Duality gap: 9.969e+00, tolerance: 2.336e+00\n",
      "  model = cd_fast.enet_coordinate_descent(\n",
      "C:\\Users\\amini\\anaconda3\\lib\\site-packages\\sklearn\\linear_model\\_coordinate_descent.py:647: ConvergenceWarning: Objective did not converge. You might want to increase the number of iterations, check the scale of the features or consider increasing regularisation. Duality gap: 9.743e+00, tolerance: 2.336e+00\n",
      "  model = cd_fast.enet_coordinate_descent(\n",
      "C:\\Users\\amini\\anaconda3\\lib\\site-packages\\sklearn\\linear_model\\_coordinate_descent.py:647: ConvergenceWarning: Objective did not converge. You might want to increase the number of iterations, check the scale of the features or consider increasing regularisation. Duality gap: 9.021e+00, tolerance: 2.336e+00\n",
      "  model = cd_fast.enet_coordinate_descent(\n",
      "C:\\Users\\amini\\anaconda3\\lib\\site-packages\\sklearn\\linear_model\\_coordinate_descent.py:647: ConvergenceWarning: Objective did not converge. You might want to increase the number of iterations, check the scale of the features or consider increasing regularisation. Duality gap: 1.224e+01, tolerance: 2.336e+00\n",
      "  model = cd_fast.enet_coordinate_descent(\n",
      "C:\\Users\\amini\\anaconda3\\lib\\site-packages\\sklearn\\linear_model\\_coordinate_descent.py:647: ConvergenceWarning: Objective did not converge. You might want to increase the number of iterations, check the scale of the features or consider increasing regularisation. Duality gap: 9.449e+00, tolerance: 2.336e+00\n",
      "  model = cd_fast.enet_coordinate_descent(\n",
      "C:\\Users\\amini\\anaconda3\\lib\\site-packages\\sklearn\\linear_model\\_coordinate_descent.py:647: ConvergenceWarning: Objective did not converge. You might want to increase the number of iterations, check the scale of the features or consider increasing regularisation. Duality gap: 1.328e+01, tolerance: 2.336e+00\n",
      "  model = cd_fast.enet_coordinate_descent(\n",
      "C:\\Users\\amini\\anaconda3\\lib\\site-packages\\sklearn\\linear_model\\_coordinate_descent.py:647: ConvergenceWarning: Objective did not converge. You might want to increase the number of iterations, check the scale of the features or consider increasing regularisation. Duality gap: 8.586e+00, tolerance: 2.336e+00\n",
      "  model = cd_fast.enet_coordinate_descent(\n",
      "C:\\Users\\amini\\anaconda3\\lib\\site-packages\\sklearn\\linear_model\\_coordinate_descent.py:647: ConvergenceWarning: Objective did not converge. You might want to increase the number of iterations, check the scale of the features or consider increasing regularisation. Duality gap: 8.102e+00, tolerance: 2.336e+00\n",
      "  model = cd_fast.enet_coordinate_descent(\n",
      "C:\\Users\\amini\\anaconda3\\lib\\site-packages\\sklearn\\linear_model\\_coordinate_descent.py:647: ConvergenceWarning: Objective did not converge. You might want to increase the number of iterations, check the scale of the features or consider increasing regularisation. Duality gap: 7.970e+00, tolerance: 2.336e+00\n",
      "  model = cd_fast.enet_coordinate_descent(\n",
      "C:\\Users\\amini\\anaconda3\\lib\\site-packages\\sklearn\\linear_model\\_coordinate_descent.py:647: ConvergenceWarning: Objective did not converge. You might want to increase the number of iterations, check the scale of the features or consider increasing regularisation. Duality gap: 7.623e+00, tolerance: 2.336e+00\n",
      "  model = cd_fast.enet_coordinate_descent(\n",
      "C:\\Users\\amini\\anaconda3\\lib\\site-packages\\sklearn\\linear_model\\_coordinate_descent.py:647: ConvergenceWarning: Objective did not converge. You might want to increase the number of iterations, check the scale of the features or consider increasing regularisation. Duality gap: 5.614e+00, tolerance: 2.336e+00\n",
      "  model = cd_fast.enet_coordinate_descent(\n",
      "C:\\Users\\amini\\anaconda3\\lib\\site-packages\\sklearn\\linear_model\\_coordinate_descent.py:647: ConvergenceWarning: Objective did not converge. You might want to increase the number of iterations, check the scale of the features or consider increasing regularisation. Duality gap: 5.024e+00, tolerance: 2.336e+00\n",
      "  model = cd_fast.enet_coordinate_descent(\n",
      "C:\\Users\\amini\\anaconda3\\lib\\site-packages\\sklearn\\linear_model\\_coordinate_descent.py:647: ConvergenceWarning: Objective did not converge. You might want to increase the number of iterations, check the scale of the features or consider increasing regularisation. Duality gap: 6.619e+00, tolerance: 2.336e+00\n",
      "  model = cd_fast.enet_coordinate_descent(\n",
      "C:\\Users\\amini\\anaconda3\\lib\\site-packages\\sklearn\\linear_model\\_coordinate_descent.py:647: ConvergenceWarning: Objective did not converge. You might want to increase the number of iterations, check the scale of the features or consider increasing regularisation. Duality gap: 6.739e+00, tolerance: 2.336e+00\n",
      "  model = cd_fast.enet_coordinate_descent(\n",
      "C:\\Users\\amini\\anaconda3\\lib\\site-packages\\sklearn\\linear_model\\_coordinate_descent.py:647: ConvergenceWarning: Objective did not converge. You might want to increase the number of iterations, check the scale of the features or consider increasing regularisation. Duality gap: 7.064e+00, tolerance: 2.336e+00\n",
      "  model = cd_fast.enet_coordinate_descent(\n",
      "C:\\Users\\amini\\anaconda3\\lib\\site-packages\\sklearn\\linear_model\\_coordinate_descent.py:647: ConvergenceWarning: Objective did not converge. You might want to increase the number of iterations, check the scale of the features or consider increasing regularisation. Duality gap: 8.130e+00, tolerance: 2.336e+00\n",
      "  model = cd_fast.enet_coordinate_descent(\n",
      "C:\\Users\\amini\\anaconda3\\lib\\site-packages\\sklearn\\linear_model\\_coordinate_descent.py:647: ConvergenceWarning: Objective did not converge. You might want to increase the number of iterations, check the scale of the features or consider increasing regularisation. Duality gap: 7.687e+00, tolerance: 2.336e+00\n",
      "  model = cd_fast.enet_coordinate_descent(\n",
      "C:\\Users\\amini\\anaconda3\\lib\\site-packages\\sklearn\\linear_model\\_coordinate_descent.py:647: ConvergenceWarning: Objective did not converge. You might want to increase the number of iterations, check the scale of the features or consider increasing regularisation. Duality gap: 9.246e+00, tolerance: 2.336e+00\n",
      "  model = cd_fast.enet_coordinate_descent(\n"
     ]
    },
    {
     "name": "stderr",
     "output_type": "stream",
     "text": [
      "C:\\Users\\amini\\anaconda3\\lib\\site-packages\\sklearn\\linear_model\\_coordinate_descent.py:647: ConvergenceWarning: Objective did not converge. You might want to increase the number of iterations, check the scale of the features or consider increasing regularisation. Duality gap: 1.202e+01, tolerance: 2.336e+00\n",
      "  model = cd_fast.enet_coordinate_descent(\n",
      "C:\\Users\\amini\\anaconda3\\lib\\site-packages\\sklearn\\linear_model\\_coordinate_descent.py:647: ConvergenceWarning: Objective did not converge. You might want to increase the number of iterations, check the scale of the features or consider increasing regularisation. Duality gap: 1.350e+01, tolerance: 2.336e+00\n",
      "  model = cd_fast.enet_coordinate_descent(\n",
      "C:\\Users\\amini\\anaconda3\\lib\\site-packages\\sklearn\\linear_model\\_coordinate_descent.py:647: ConvergenceWarning: Objective did not converge. You might want to increase the number of iterations, check the scale of the features or consider increasing regularisation. Duality gap: 1.160e+01, tolerance: 2.336e+00\n",
      "  model = cd_fast.enet_coordinate_descent(\n",
      "C:\\Users\\amini\\anaconda3\\lib\\site-packages\\sklearn\\linear_model\\_coordinate_descent.py:647: ConvergenceWarning: Objective did not converge. You might want to increase the number of iterations, check the scale of the features or consider increasing regularisation. Duality gap: 1.215e+01, tolerance: 2.336e+00\n",
      "  model = cd_fast.enet_coordinate_descent(\n",
      "C:\\Users\\amini\\anaconda3\\lib\\site-packages\\sklearn\\linear_model\\_coordinate_descent.py:647: ConvergenceWarning: Objective did not converge. You might want to increase the number of iterations, check the scale of the features or consider increasing regularisation. Duality gap: 1.483e+01, tolerance: 2.336e+00\n",
      "  model = cd_fast.enet_coordinate_descent(\n",
      "C:\\Users\\amini\\anaconda3\\lib\\site-packages\\sklearn\\linear_model\\_coordinate_descent.py:647: ConvergenceWarning: Objective did not converge. You might want to increase the number of iterations, check the scale of the features or consider increasing regularisation. Duality gap: 1.741e+01, tolerance: 2.336e+00\n",
      "  model = cd_fast.enet_coordinate_descent(\n",
      "C:\\Users\\amini\\anaconda3\\lib\\site-packages\\sklearn\\linear_model\\_coordinate_descent.py:647: ConvergenceWarning: Objective did not converge. You might want to increase the number of iterations, check the scale of the features or consider increasing regularisation. Duality gap: 1.772e+01, tolerance: 2.336e+00\n",
      "  model = cd_fast.enet_coordinate_descent(\n",
      "C:\\Users\\amini\\anaconda3\\lib\\site-packages\\sklearn\\linear_model\\_coordinate_descent.py:647: ConvergenceWarning: Objective did not converge. You might want to increase the number of iterations, check the scale of the features or consider increasing regularisation. Duality gap: 1.911e+01, tolerance: 2.336e+00\n",
      "  model = cd_fast.enet_coordinate_descent(\n",
      "C:\\Users\\amini\\anaconda3\\lib\\site-packages\\sklearn\\linear_model\\_coordinate_descent.py:647: ConvergenceWarning: Objective did not converge. You might want to increase the number of iterations, check the scale of the features or consider increasing regularisation. Duality gap: 1.835e+01, tolerance: 2.336e+00\n",
      "  model = cd_fast.enet_coordinate_descent(\n",
      "C:\\Users\\amini\\anaconda3\\lib\\site-packages\\sklearn\\linear_model\\_coordinate_descent.py:647: ConvergenceWarning: Objective did not converge. You might want to increase the number of iterations, check the scale of the features or consider increasing regularisation. Duality gap: 1.843e+01, tolerance: 2.336e+00\n",
      "  model = cd_fast.enet_coordinate_descent(\n",
      "C:\\Users\\amini\\anaconda3\\lib\\site-packages\\sklearn\\linear_model\\_coordinate_descent.py:647: ConvergenceWarning: Objective did not converge. You might want to increase the number of iterations, check the scale of the features or consider increasing regularisation. Duality gap: 1.691e+01, tolerance: 2.336e+00\n",
      "  model = cd_fast.enet_coordinate_descent(\n",
      "C:\\Users\\amini\\anaconda3\\lib\\site-packages\\sklearn\\linear_model\\_coordinate_descent.py:647: ConvergenceWarning: Objective did not converge. You might want to increase the number of iterations, check the scale of the features or consider increasing regularisation. Duality gap: 1.685e+01, tolerance: 2.336e+00\n",
      "  model = cd_fast.enet_coordinate_descent(\n",
      "C:\\Users\\amini\\anaconda3\\lib\\site-packages\\sklearn\\linear_model\\_coordinate_descent.py:647: ConvergenceWarning: Objective did not converge. You might want to increase the number of iterations, check the scale of the features or consider increasing regularisation. Duality gap: 1.705e+01, tolerance: 2.336e+00\n",
      "  model = cd_fast.enet_coordinate_descent(\n",
      "C:\\Users\\amini\\anaconda3\\lib\\site-packages\\sklearn\\linear_model\\_coordinate_descent.py:647: ConvergenceWarning: Objective did not converge. You might want to increase the number of iterations, check the scale of the features or consider increasing regularisation. Duality gap: 1.844e+01, tolerance: 2.336e+00\n",
      "  model = cd_fast.enet_coordinate_descent(\n",
      "C:\\Users\\amini\\anaconda3\\lib\\site-packages\\sklearn\\linear_model\\_coordinate_descent.py:647: ConvergenceWarning: Objective did not converge. You might want to increase the number of iterations, check the scale of the features or consider increasing regularisation. Duality gap: 1.937e+01, tolerance: 2.336e+00\n",
      "  model = cd_fast.enet_coordinate_descent(\n",
      "C:\\Users\\amini\\anaconda3\\lib\\site-packages\\sklearn\\linear_model\\_coordinate_descent.py:647: ConvergenceWarning: Objective did not converge. You might want to increase the number of iterations, check the scale of the features or consider increasing regularisation. Duality gap: 1.992e+01, tolerance: 2.336e+00\n",
      "  model = cd_fast.enet_coordinate_descent(\n",
      "C:\\Users\\amini\\anaconda3\\lib\\site-packages\\sklearn\\linear_model\\_coordinate_descent.py:647: ConvergenceWarning: Objective did not converge. You might want to increase the number of iterations, check the scale of the features or consider increasing regularisation. Duality gap: 2.190e+01, tolerance: 2.336e+00\n",
      "  model = cd_fast.enet_coordinate_descent(\n",
      "C:\\Users\\amini\\anaconda3\\lib\\site-packages\\sklearn\\linear_model\\_coordinate_descent.py:647: ConvergenceWarning: Objective did not converge. You might want to increase the number of iterations, check the scale of the features or consider increasing regularisation. Duality gap: 2.368e+01, tolerance: 2.336e+00\n",
      "  model = cd_fast.enet_coordinate_descent(\n",
      "C:\\Users\\amini\\anaconda3\\lib\\site-packages\\sklearn\\linear_model\\_coordinate_descent.py:647: ConvergenceWarning: Objective did not converge. You might want to increase the number of iterations, check the scale of the features or consider increasing regularisation. Duality gap: 2.846e+01, tolerance: 2.336e+00\n",
      "  model = cd_fast.enet_coordinate_descent(\n",
      "C:\\Users\\amini\\anaconda3\\lib\\site-packages\\sklearn\\linear_model\\_coordinate_descent.py:647: ConvergenceWarning: Objective did not converge. You might want to increase the number of iterations, check the scale of the features or consider increasing regularisation. Duality gap: 3.087e+01, tolerance: 2.336e+00\n",
      "  model = cd_fast.enet_coordinate_descent(\n",
      "C:\\Users\\amini\\anaconda3\\lib\\site-packages\\sklearn\\linear_model\\_coordinate_descent.py:647: ConvergenceWarning: Objective did not converge. You might want to increase the number of iterations, check the scale of the features or consider increasing regularisation. Duality gap: 3.765e+01, tolerance: 2.336e+00\n",
      "  model = cd_fast.enet_coordinate_descent(\n",
      "C:\\Users\\amini\\anaconda3\\lib\\site-packages\\sklearn\\linear_model\\_coordinate_descent.py:647: ConvergenceWarning: Objective did not converge. You might want to increase the number of iterations, check the scale of the features or consider increasing regularisation. Duality gap: 4.341e+01, tolerance: 2.336e+00\n",
      "  model = cd_fast.enet_coordinate_descent(\n",
      "C:\\Users\\amini\\anaconda3\\lib\\site-packages\\sklearn\\linear_model\\_coordinate_descent.py:647: ConvergenceWarning: Objective did not converge. You might want to increase the number of iterations, check the scale of the features or consider increasing regularisation. Duality gap: 5.306e+01, tolerance: 2.336e+00\n",
      "  model = cd_fast.enet_coordinate_descent(\n",
      "C:\\Users\\amini\\anaconda3\\lib\\site-packages\\sklearn\\linear_model\\_coordinate_descent.py:647: ConvergenceWarning: Objective did not converge. You might want to increase the number of iterations, check the scale of the features or consider increasing regularisation. Duality gap: 6.163e+01, tolerance: 2.336e+00\n",
      "  model = cd_fast.enet_coordinate_descent(\n",
      "C:\\Users\\amini\\anaconda3\\lib\\site-packages\\sklearn\\linear_model\\_coordinate_descent.py:647: ConvergenceWarning: Objective did not converge. You might want to increase the number of iterations, check the scale of the features or consider increasing regularisation. Duality gap: 7.630e+01, tolerance: 2.336e+00\n",
      "  model = cd_fast.enet_coordinate_descent(\n",
      "C:\\Users\\amini\\anaconda3\\lib\\site-packages\\sklearn\\linear_model\\_coordinate_descent.py:647: ConvergenceWarning: Objective did not converge. You might want to increase the number of iterations, check the scale of the features or consider increasing regularisation. Duality gap: 8.401e+01, tolerance: 2.336e+00\n",
      "  model = cd_fast.enet_coordinate_descent(\n",
      "C:\\Users\\amini\\anaconda3\\lib\\site-packages\\sklearn\\linear_model\\_coordinate_descent.py:647: ConvergenceWarning: Objective did not converge. You might want to increase the number of iterations, check the scale of the features or consider increasing regularisation. Duality gap: 9.003e+01, tolerance: 2.336e+00\n",
      "  model = cd_fast.enet_coordinate_descent(\n"
     ]
    },
    {
     "name": "stderr",
     "output_type": "stream",
     "text": [
      "C:\\Users\\amini\\anaconda3\\lib\\site-packages\\sklearn\\linear_model\\_coordinate_descent.py:647: ConvergenceWarning: Objective did not converge. You might want to increase the number of iterations, check the scale of the features or consider increasing regularisation. Duality gap: 9.378e+01, tolerance: 2.336e+00\n",
      "  model = cd_fast.enet_coordinate_descent(\n",
      "C:\\Users\\amini\\anaconda3\\lib\\site-packages\\sklearn\\linear_model\\_coordinate_descent.py:647: ConvergenceWarning: Objective did not converge. You might want to increase the number of iterations, check the scale of the features or consider increasing regularisation. Duality gap: 9.646e+01, tolerance: 2.336e+00\n",
      "  model = cd_fast.enet_coordinate_descent(\n",
      "C:\\Users\\amini\\anaconda3\\lib\\site-packages\\sklearn\\linear_model\\_coordinate_descent.py:647: ConvergenceWarning: Objective did not converge. You might want to increase the number of iterations, check the scale of the features or consider increasing regularisation. Duality gap: 9.738e+01, tolerance: 2.336e+00\n",
      "  model = cd_fast.enet_coordinate_descent(\n",
      "C:\\Users\\amini\\anaconda3\\lib\\site-packages\\sklearn\\linear_model\\_coordinate_descent.py:647: ConvergenceWarning: Objective did not converge. You might want to increase the number of iterations, check the scale of the features or consider increasing regularisation. Duality gap: 1.029e+03, tolerance: 2.726e+00\n",
      "  model = cd_fast.enet_coordinate_descent(\n"
     ]
    },
    {
     "data": {
      "text/plain": [
       "ElasticNetCV(cv=5, l1_ratio=[0.1, 0.5], max_iter=100)"
      ]
     },
     "execution_count": 48,
     "metadata": {},
     "output_type": "execute_result"
    }
   ],
   "source": [
    "Elastic.fit(X_train, y_train)"
   ]
  },
  {
   "cell_type": "code",
   "execution_count": 49,
   "id": "ad0c3211",
   "metadata": {},
   "outputs": [],
   "source": [
    "y_pred_e = Elastic.predict(X_test)"
   ]
  },
  {
   "cell_type": "code",
   "execution_count": 50,
   "id": "7b5f7b2d",
   "metadata": {},
   "outputs": [
    {
     "data": {
      "text/plain": [
       "2.64340251847403"
      ]
     },
     "execution_count": 50,
     "metadata": {},
     "output_type": "execute_result"
    }
   ],
   "source": [
    "mean_absolute_error(y_test, y_pred_e)"
   ]
  },
  {
   "cell_type": "code",
   "execution_count": 51,
   "id": "59a2b0aa",
   "metadata": {},
   "outputs": [],
   "source": [
    "list_e = Elastic.coef_"
   ]
  },
  {
   "cell_type": "code",
   "execution_count": 52,
   "id": "502490e7",
   "metadata": {},
   "outputs": [
    {
     "name": "stdout",
     "output_type": "stream",
     "text": [
      "320\n"
     ]
    }
   ],
   "source": [
    "none_zero(list_e)"
   ]
  },
  {
   "cell_type": "code",
   "execution_count": 53,
   "id": "3a8de39a",
   "metadata": {},
   "outputs": [
    {
     "data": {
      "text/plain": [
       "0.5"
      ]
     },
     "execution_count": 53,
     "metadata": {},
     "output_type": "execute_result"
    }
   ],
   "source": [
    "Elastic.l1_ratio_"
   ]
  },
  {
   "cell_type": "markdown",
   "id": "156f6ec0",
   "metadata": {},
   "source": [
    "# Finished!"
   ]
  }
 ],
 "metadata": {
  "kernelspec": {
   "display_name": "Python 3 (ipykernel)",
   "language": "python",
   "name": "python3"
  },
  "language_info": {
   "codemirror_mode": {
    "name": "ipython",
    "version": 3
   },
   "file_extension": ".py",
   "mimetype": "text/x-python",
   "name": "python",
   "nbconvert_exporter": "python",
   "pygments_lexer": "ipython3",
   "version": "3.11.4"
  }
 },
 "nbformat": 4,
 "nbformat_minor": 5
}
